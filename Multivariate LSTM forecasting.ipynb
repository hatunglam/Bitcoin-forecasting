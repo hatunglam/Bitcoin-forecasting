{
 "cells": [
  {
   "cell_type": "markdown",
   "metadata": {},
   "source": [
    "# **Predicting BTC Close Price vand Vol1 using LSTM**"
   ]
  },
  {
   "cell_type": "code",
   "execution_count": 59,
   "metadata": {},
   "outputs": [],
   "source": [
    "import pandas as pd\n",
    "import numpy as np\n",
    "import matplotlib.pyplot as plt\n",
    "import seaborn as sns\n",
    "from sklearn.preprocessing import MinMaxScaler\n",
    "from sklearn.metrics import mean_squared_error"
   ]
  },
  {
   "cell_type": "markdown",
   "metadata": {},
   "source": [
    "## Import the Data"
   ]
  },
  {
   "cell_type": "code",
   "execution_count": 60,
   "metadata": {},
   "outputs": [
    {
     "data": {
      "text/html": [
       "<div>\n",
       "<style scoped>\n",
       "    .dataframe tbody tr th:only-of-type {\n",
       "        vertical-align: middle;\n",
       "    }\n",
       "\n",
       "    .dataframe tbody tr th {\n",
       "        vertical-align: top;\n",
       "    }\n",
       "\n",
       "    .dataframe thead th {\n",
       "        text-align: right;\n",
       "    }\n",
       "</style>\n",
       "<table border=\"1\" class=\"dataframe\">\n",
       "  <thead>\n",
       "    <tr style=\"text-align: right;\">\n",
       "      <th></th>\n",
       "      <th>Month</th>\n",
       "      <th>Year</th>\n",
       "      <th>VOL1</th>\n",
       "      <th>VOL7</th>\n",
       "      <th>VOL30</th>\n",
       "      <th>ClosePrice</th>\n",
       "      <th>OpenPrice</th>\n",
       "      <th>HighPrice</th>\n",
       "      <th>LowPrice</th>\n",
       "      <th>Market Volumn</th>\n",
       "      <th>...</th>\n",
       "      <th>SP500</th>\n",
       "      <th>RUSSELL</th>\n",
       "      <th>Oil</th>\n",
       "      <th>Gold</th>\n",
       "      <th>Silver</th>\n",
       "      <th>USDEUR</th>\n",
       "      <th>USDYUAN</th>\n",
       "      <th>Interest Rate</th>\n",
       "      <th>Economic Uncertainty</th>\n",
       "      <th>Crypto Index</th>\n",
       "    </tr>\n",
       "    <tr>\n",
       "      <th>Date</th>\n",
       "      <th></th>\n",
       "      <th></th>\n",
       "      <th></th>\n",
       "      <th></th>\n",
       "      <th></th>\n",
       "      <th></th>\n",
       "      <th></th>\n",
       "      <th></th>\n",
       "      <th></th>\n",
       "      <th></th>\n",
       "      <th></th>\n",
       "      <th></th>\n",
       "      <th></th>\n",
       "      <th></th>\n",
       "      <th></th>\n",
       "      <th></th>\n",
       "      <th></th>\n",
       "      <th></th>\n",
       "      <th></th>\n",
       "      <th></th>\n",
       "      <th></th>\n",
       "    </tr>\n",
       "  </thead>\n",
       "  <tbody>\n",
       "    <tr>\n",
       "      <th>2018-02-04</th>\n",
       "      <td>2</td>\n",
       "      <td>2018</td>\n",
       "      <td>0.058984</td>\n",
       "      <td>0.104624</td>\n",
       "      <td>0.204218</td>\n",
       "      <td>8277.01</td>\n",
       "      <td>9175.70</td>\n",
       "      <td>9334.87</td>\n",
       "      <td>8031.22</td>\n",
       "      <td>7.073550e+09</td>\n",
       "      <td>...</td>\n",
       "      <td>2648.94</td>\n",
       "      <td>1491.09</td>\n",
       "      <td>64.18</td>\n",
       "      <td>1336.5</td>\n",
       "      <td>16.71</td>\n",
       "      <td>0.80</td>\n",
       "      <td>6.30</td>\n",
       "      <td>1.80</td>\n",
       "      <td>0.234505</td>\n",
       "      <td>30</td>\n",
       "    </tr>\n",
       "    <tr>\n",
       "      <th>2018-02-05</th>\n",
       "      <td>2</td>\n",
       "      <td>2018</td>\n",
       "      <td>0.082982</td>\n",
       "      <td>0.130688</td>\n",
       "      <td>0.219808</td>\n",
       "      <td>6955.27</td>\n",
       "      <td>8270.54</td>\n",
       "      <td>8364.84</td>\n",
       "      <td>6756.68</td>\n",
       "      <td>9.285290e+09</td>\n",
       "      <td>...</td>\n",
       "      <td>2648.94</td>\n",
       "      <td>1491.09</td>\n",
       "      <td>64.18</td>\n",
       "      <td>1336.5</td>\n",
       "      <td>16.67</td>\n",
       "      <td>0.80</td>\n",
       "      <td>6.31</td>\n",
       "      <td>1.80</td>\n",
       "      <td>0.248054</td>\n",
       "      <td>15</td>\n",
       "    </tr>\n",
       "    <tr>\n",
       "      <th>2018-02-06</th>\n",
       "      <td>2</td>\n",
       "      <td>2018</td>\n",
       "      <td>0.041061</td>\n",
       "      <td>0.134668</td>\n",
       "      <td>0.221316</td>\n",
       "      <td>7754.00</td>\n",
       "      <td>7051.75</td>\n",
       "      <td>7850.70</td>\n",
       "      <td>6048.26</td>\n",
       "      <td>1.399980e+10</td>\n",
       "      <td>...</td>\n",
       "      <td>2695.14</td>\n",
       "      <td>1507.17</td>\n",
       "      <td>63.48</td>\n",
       "      <td>1329.5</td>\n",
       "      <td>16.58</td>\n",
       "      <td>0.81</td>\n",
       "      <td>6.29</td>\n",
       "      <td>1.82</td>\n",
       "      <td>0.223228</td>\n",
       "      <td>40</td>\n",
       "    </tr>\n",
       "    <tr>\n",
       "      <th>2018-02-07</th>\n",
       "      <td>2</td>\n",
       "      <td>2018</td>\n",
       "      <td>0.041213</td>\n",
       "      <td>0.136422</td>\n",
       "      <td>0.222866</td>\n",
       "      <td>7621.30</td>\n",
       "      <td>7755.49</td>\n",
       "      <td>8509.11</td>\n",
       "      <td>7236.79</td>\n",
       "      <td>9.169280e+09</td>\n",
       "      <td>...</td>\n",
       "      <td>2681.66</td>\n",
       "      <td>1507.97</td>\n",
       "      <td>61.91</td>\n",
       "      <td>1314.6</td>\n",
       "      <td>16.24</td>\n",
       "      <td>0.81</td>\n",
       "      <td>6.28</td>\n",
       "      <td>1.85</td>\n",
       "      <td>0.201785</td>\n",
       "      <td>24</td>\n",
       "    </tr>\n",
       "    <tr>\n",
       "      <th>2018-02-08</th>\n",
       "      <td>2</td>\n",
       "      <td>2018</td>\n",
       "      <td>0.030796</td>\n",
       "      <td>0.130387</td>\n",
       "      <td>0.222486</td>\n",
       "      <td>8265.59</td>\n",
       "      <td>7637.86</td>\n",
       "      <td>8558.77</td>\n",
       "      <td>7637.86</td>\n",
       "      <td>9.346750e+09</td>\n",
       "      <td>...</td>\n",
       "      <td>2581.00</td>\n",
       "      <td>1463.79</td>\n",
       "      <td>61.30</td>\n",
       "      <td>1319.0</td>\n",
       "      <td>16.34</td>\n",
       "      <td>0.82</td>\n",
       "      <td>6.27</td>\n",
       "      <td>1.85</td>\n",
       "      <td>0.183604</td>\n",
       "      <td>11</td>\n",
       "    </tr>\n",
       "  </tbody>\n",
       "</table>\n",
       "<p>5 rows × 26 columns</p>\n",
       "</div>"
      ],
      "text/plain": [
       "            Month  Year      VOL1      VOL7     VOL30  ClosePrice   OpenPrice  \\\n",
       "Date                                                                            \n",
       "2018-02-04      2  2018  0.058984  0.104624  0.204218      8277.01    9175.70   \n",
       "2018-02-05      2  2018  0.082982  0.130688  0.219808      6955.27    8270.54   \n",
       "2018-02-06      2  2018  0.041061  0.134668  0.221316      7754.00    7051.75   \n",
       "2018-02-07      2  2018  0.041213  0.136422  0.222866      7621.30    7755.49   \n",
       "2018-02-08      2  2018  0.030796  0.130387  0.222486      8265.59    7637.86   \n",
       "\n",
       "            HighPrice  LowPrice  Market Volumn  ...    SP500  RUSSELL    Oil  \\\n",
       "Date                                            ...                            \n",
       "2018-02-04    9334.87   8031.22   7.073550e+09  ...  2648.94  1491.09  64.18   \n",
       "2018-02-05    8364.84   6756.68   9.285290e+09  ...  2648.94  1491.09  64.18   \n",
       "2018-02-06    7850.70   6048.26   1.399980e+10  ...  2695.14  1507.17  63.48   \n",
       "2018-02-07    8509.11   7236.79   9.169280e+09  ...  2681.66  1507.97  61.91   \n",
       "2018-02-08    8558.77   7637.86   9.346750e+09  ...  2581.00  1463.79  61.30   \n",
       "\n",
       "              Gold  Silver  USDEUR  USDYUAN  Interest Rate  \\\n",
       "Date                                                         \n",
       "2018-02-04  1336.5   16.71    0.80     6.30           1.80   \n",
       "2018-02-05  1336.5   16.67    0.80     6.31           1.80   \n",
       "2018-02-06  1329.5   16.58    0.81     6.29           1.82   \n",
       "2018-02-07  1314.6   16.24    0.81     6.28           1.85   \n",
       "2018-02-08  1319.0   16.34    0.82     6.27           1.85   \n",
       "\n",
       "            Economic Uncertainty  Crypto Index  \n",
       "Date                                            \n",
       "2018-02-04              0.234505            30  \n",
       "2018-02-05              0.248054            15  \n",
       "2018-02-06              0.223228            40  \n",
       "2018-02-07              0.201785            24  \n",
       "2018-02-08              0.183604            11  \n",
       "\n",
       "[5 rows x 26 columns]"
      ]
     },
     "execution_count": 60,
     "metadata": {},
     "output_type": "execute_result"
    }
   ],
   "source": [
    "df = pd.read_csv('BTC_Trial_NB.csv')\n",
    "df['Date'] = pd.to_datetime(df['Date'], dayfirst=True)\n",
    "df.set_index('Date', inplace= True)\n",
    "df.head()"
   ]
  },
  {
   "cell_type": "code",
   "execution_count": 61,
   "metadata": {},
   "outputs": [
    {
     "data": {
      "text/plain": [
       "Index(['Month', 'Year', 'VOL1', 'VOL7', 'VOL30', 'ClosePrice ', 'OpenPrice',\n",
       "       'HighPrice', 'LowPrice', 'Market Volumn', 'Average Block Size',\n",
       "       'Average Transaction Per Block', 'Hash Rate', 'Network Difficulty',\n",
       "       'Unique Addresses', 'Transactions Per Second', 'SP500', 'RUSSELL',\n",
       "       'Oil', 'Gold', 'Silver', 'USDEUR', 'USDYUAN', 'Interest Rate',\n",
       "       'Economic Uncertainty', 'Crypto Index'],\n",
       "      dtype='object')"
      ]
     },
     "execution_count": 61,
     "metadata": {},
     "output_type": "execute_result"
    }
   ],
   "source": [
    "df.columns"
   ]
  },
  {
   "cell_type": "code",
   "execution_count": 62,
   "metadata": {},
   "outputs": [
    {
     "data": {
      "text/html": [
       "<div>\n",
       "<style scoped>\n",
       "    .dataframe tbody tr th:only-of-type {\n",
       "        vertical-align: middle;\n",
       "    }\n",
       "\n",
       "    .dataframe tbody tr th {\n",
       "        vertical-align: top;\n",
       "    }\n",
       "\n",
       "    .dataframe thead th {\n",
       "        text-align: right;\n",
       "    }\n",
       "</style>\n",
       "<table border=\"1\" class=\"dataframe\">\n",
       "  <thead>\n",
       "    <tr style=\"text-align: right;\">\n",
       "      <th></th>\n",
       "      <th>VOL1</th>\n",
       "      <th>VOL7</th>\n",
       "      <th>VOL30</th>\n",
       "      <th>ClosePrice</th>\n",
       "      <th>OpenPrice</th>\n",
       "      <th>HighPrice</th>\n",
       "      <th>LowPrice</th>\n",
       "      <th>Market Volumn</th>\n",
       "      <th>Average Block Size</th>\n",
       "      <th>Average Transaction Per Block</th>\n",
       "      <th>...</th>\n",
       "      <th>SP500</th>\n",
       "      <th>RUSSELL</th>\n",
       "      <th>Oil</th>\n",
       "      <th>Gold</th>\n",
       "      <th>Silver</th>\n",
       "      <th>USDEUR</th>\n",
       "      <th>USDYUAN</th>\n",
       "      <th>Interest Rate</th>\n",
       "      <th>Economic Uncertainty</th>\n",
       "      <th>Crypto Index</th>\n",
       "    </tr>\n",
       "    <tr>\n",
       "      <th>Date</th>\n",
       "      <th></th>\n",
       "      <th></th>\n",
       "      <th></th>\n",
       "      <th></th>\n",
       "      <th></th>\n",
       "      <th></th>\n",
       "      <th></th>\n",
       "      <th></th>\n",
       "      <th></th>\n",
       "      <th></th>\n",
       "      <th></th>\n",
       "      <th></th>\n",
       "      <th></th>\n",
       "      <th></th>\n",
       "      <th></th>\n",
       "      <th></th>\n",
       "      <th></th>\n",
       "      <th></th>\n",
       "      <th></th>\n",
       "      <th></th>\n",
       "      <th></th>\n",
       "    </tr>\n",
       "  </thead>\n",
       "  <tbody>\n",
       "    <tr>\n",
       "      <th>2018-02-04</th>\n",
       "      <td>0.058984</td>\n",
       "      <td>0.104624</td>\n",
       "      <td>0.204218</td>\n",
       "      <td>8277.01</td>\n",
       "      <td>9175.70</td>\n",
       "      <td>9334.87</td>\n",
       "      <td>8031.22</td>\n",
       "      <td>7.073550e+09</td>\n",
       "      <td>0.99</td>\n",
       "      <td>975.77</td>\n",
       "      <td>...</td>\n",
       "      <td>2648.94</td>\n",
       "      <td>1491.09</td>\n",
       "      <td>64.18</td>\n",
       "      <td>1336.5</td>\n",
       "      <td>16.71</td>\n",
       "      <td>0.80</td>\n",
       "      <td>6.30</td>\n",
       "      <td>1.80</td>\n",
       "      <td>0.234505</td>\n",
       "      <td>30</td>\n",
       "    </tr>\n",
       "    <tr>\n",
       "      <th>2018-02-05</th>\n",
       "      <td>0.082982</td>\n",
       "      <td>0.130688</td>\n",
       "      <td>0.219808</td>\n",
       "      <td>6955.27</td>\n",
       "      <td>8270.54</td>\n",
       "      <td>8364.84</td>\n",
       "      <td>6756.68</td>\n",
       "      <td>9.285290e+09</td>\n",
       "      <td>1.10</td>\n",
       "      <td>1169.53</td>\n",
       "      <td>...</td>\n",
       "      <td>2648.94</td>\n",
       "      <td>1491.09</td>\n",
       "      <td>64.18</td>\n",
       "      <td>1336.5</td>\n",
       "      <td>16.67</td>\n",
       "      <td>0.80</td>\n",
       "      <td>6.31</td>\n",
       "      <td>1.80</td>\n",
       "      <td>0.248054</td>\n",
       "      <td>15</td>\n",
       "    </tr>\n",
       "    <tr>\n",
       "      <th>2018-02-06</th>\n",
       "      <td>0.041061</td>\n",
       "      <td>0.134668</td>\n",
       "      <td>0.221316</td>\n",
       "      <td>7754.00</td>\n",
       "      <td>7051.75</td>\n",
       "      <td>7850.70</td>\n",
       "      <td>6048.26</td>\n",
       "      <td>1.399980e+10</td>\n",
       "      <td>1.07</td>\n",
       "      <td>1436.00</td>\n",
       "      <td>...</td>\n",
       "      <td>2695.14</td>\n",
       "      <td>1507.17</td>\n",
       "      <td>63.48</td>\n",
       "      <td>1329.5</td>\n",
       "      <td>16.58</td>\n",
       "      <td>0.81</td>\n",
       "      <td>6.29</td>\n",
       "      <td>1.82</td>\n",
       "      <td>0.223228</td>\n",
       "      <td>40</td>\n",
       "    </tr>\n",
       "    <tr>\n",
       "      <th>2018-02-07</th>\n",
       "      <td>0.041213</td>\n",
       "      <td>0.136422</td>\n",
       "      <td>0.222866</td>\n",
       "      <td>7621.30</td>\n",
       "      <td>7755.49</td>\n",
       "      <td>8509.11</td>\n",
       "      <td>7236.79</td>\n",
       "      <td>9.169280e+09</td>\n",
       "      <td>1.07</td>\n",
       "      <td>1515.74</td>\n",
       "      <td>...</td>\n",
       "      <td>2681.66</td>\n",
       "      <td>1507.97</td>\n",
       "      <td>61.91</td>\n",
       "      <td>1314.6</td>\n",
       "      <td>16.24</td>\n",
       "      <td>0.81</td>\n",
       "      <td>6.28</td>\n",
       "      <td>1.85</td>\n",
       "      <td>0.201785</td>\n",
       "      <td>24</td>\n",
       "    </tr>\n",
       "    <tr>\n",
       "      <th>2018-02-08</th>\n",
       "      <td>0.030796</td>\n",
       "      <td>0.130387</td>\n",
       "      <td>0.222486</td>\n",
       "      <td>8265.59</td>\n",
       "      <td>7637.86</td>\n",
       "      <td>8558.77</td>\n",
       "      <td>7637.86</td>\n",
       "      <td>9.346750e+09</td>\n",
       "      <td>1.05</td>\n",
       "      <td>1322.82</td>\n",
       "      <td>...</td>\n",
       "      <td>2581.00</td>\n",
       "      <td>1463.79</td>\n",
       "      <td>61.30</td>\n",
       "      <td>1319.0</td>\n",
       "      <td>16.34</td>\n",
       "      <td>0.82</td>\n",
       "      <td>6.27</td>\n",
       "      <td>1.85</td>\n",
       "      <td>0.183604</td>\n",
       "      <td>11</td>\n",
       "    </tr>\n",
       "  </tbody>\n",
       "</table>\n",
       "<p>5 rows × 23 columns</p>\n",
       "</div>"
      ],
      "text/plain": [
       "                VOL1      VOL7     VOL30  ClosePrice   OpenPrice  HighPrice  \\\n",
       "Date                                                                          \n",
       "2018-02-04  0.058984  0.104624  0.204218      8277.01    9175.70    9334.87   \n",
       "2018-02-05  0.082982  0.130688  0.219808      6955.27    8270.54    8364.84   \n",
       "2018-02-06  0.041061  0.134668  0.221316      7754.00    7051.75    7850.70   \n",
       "2018-02-07  0.041213  0.136422  0.222866      7621.30    7755.49    8509.11   \n",
       "2018-02-08  0.030796  0.130387  0.222486      8265.59    7637.86    8558.77   \n",
       "\n",
       "            LowPrice  Market Volumn  Average Block Size  \\\n",
       "Date                                                      \n",
       "2018-02-04   8031.22   7.073550e+09                0.99   \n",
       "2018-02-05   6756.68   9.285290e+09                1.10   \n",
       "2018-02-06   6048.26   1.399980e+10                1.07   \n",
       "2018-02-07   7236.79   9.169280e+09                1.07   \n",
       "2018-02-08   7637.86   9.346750e+09                1.05   \n",
       "\n",
       "            Average Transaction Per Block  ...    SP500  RUSSELL    Oil  \\\n",
       "Date                                       ...                            \n",
       "2018-02-04                         975.77  ...  2648.94  1491.09  64.18   \n",
       "2018-02-05                        1169.53  ...  2648.94  1491.09  64.18   \n",
       "2018-02-06                        1436.00  ...  2695.14  1507.17  63.48   \n",
       "2018-02-07                        1515.74  ...  2681.66  1507.97  61.91   \n",
       "2018-02-08                        1322.82  ...  2581.00  1463.79  61.30   \n",
       "\n",
       "              Gold  Silver  USDEUR  USDYUAN  Interest Rate  \\\n",
       "Date                                                         \n",
       "2018-02-04  1336.5   16.71    0.80     6.30           1.80   \n",
       "2018-02-05  1336.5   16.67    0.80     6.31           1.80   \n",
       "2018-02-06  1329.5   16.58    0.81     6.29           1.82   \n",
       "2018-02-07  1314.6   16.24    0.81     6.28           1.85   \n",
       "2018-02-08  1319.0   16.34    0.82     6.27           1.85   \n",
       "\n",
       "            Economic Uncertainty  Crypto Index  \n",
       "Date                                            \n",
       "2018-02-04              0.234505            30  \n",
       "2018-02-05              0.248054            15  \n",
       "2018-02-06              0.223228            40  \n",
       "2018-02-07              0.201785            24  \n",
       "2018-02-08              0.183604            11  \n",
       "\n",
       "[5 rows x 23 columns]"
      ]
     },
     "execution_count": 62,
     "metadata": {},
     "output_type": "execute_result"
    }
   ],
   "source": [
    "df = df.drop(['Month', 'Year', 'Network Difficulty'], axis= 1)\n",
    "df.head()"
   ]
  },
  {
   "cell_type": "markdown",
   "metadata": {},
   "source": [
    "# A. Predicting Close Price of BTC"
   ]
  },
  {
   "cell_type": "markdown",
   "metadata": {},
   "source": [
    "#### An overview of the BTC's Close Price from 2018 t0 2024"
   ]
  },
  {
   "cell_type": "code",
   "execution_count": 63,
   "metadata": {},
   "outputs": [
    {
     "data": {
      "image/png": "[encoded data removed]",
      "text/plain": [
       "<Figure size 640x480 with 1 Axes>"
      ]
     },
     "metadata": {},
     "output_type": "display_data"
    }
   ],
   "source": [
    "plt.plot(df['ClosePrice '])\n",
    "plt.xlabel('Year')\n",
    "plt.ylabel('Close price')\n",
    "plt.title('Close price of BTC from 2018 to 2024')\n",
    "plt.show()"
   ]
  },
  {
   "cell_type": "markdown",
   "metadata": {},
   "source": [
    "## 1. Train - Test split "
   ]
  },
  {
   "cell_type": "markdown",
   "metadata": {},
   "source": [
    "- Splitting the dataframe into train and test set, with the training size of 80% "
   ]
  },
  {
   "cell_type": "code",
   "execution_count": 64,
   "metadata": {},
   "outputs": [
    {
     "data": {
      "text/plain": [
       "((1848, 23), (462, 23))"
      ]
     },
     "execution_count": 64,
     "metadata": {},
     "output_type": "execute_result"
    }
   ],
   "source": [
    "train_size = int(np.ceil(df.shape[0] * .8))\n",
    "train_df = df[: train_size]\n",
    "test_df = df[train_size :]\n",
    "train_df.shape, test_df.shape"
   ]
  },
  {
   "cell_type": "markdown",
   "metadata": {},
   "source": [
    "## 2. Scale the data"
   ]
  },
  {
   "cell_type": "markdown",
   "metadata": {},
   "source": [
    "- Using Min-Max scaling method to scale the training set, then use the scaling parameter of the training set to transform the test set"
   ]
  },
  {
   "cell_type": "code",
   "execution_count": 65,
   "metadata": {},
   "outputs": [],
   "source": [
    "scaler = MinMaxScaler()\n",
    "train_scaled = scaler.fit_transform(train_df)\n",
    "test_scaled = scaler.transform(test_df)"
   ]
  },
  {
   "cell_type": "code",
   "execution_count": 66,
   "metadata": {},
   "outputs": [
    {
     "data": {
      "text/plain": [
       "((1848, 23), (462, 23))"
      ]
     },
     "execution_count": 66,
     "metadata": {},
     "output_type": "execute_result"
    }
   ],
   "source": [
    "train_scaled.shape, test_scaled.shape"
   ]
  },
  {
   "cell_type": "markdown",
   "metadata": {},
   "source": [
    "## 3. Initialize input variables with timestep of 30  "
   ]
  },
  {
   "cell_type": "markdown",
   "metadata": {},
   "source": [
    "- Creating the sliding window input of 30 previous observations to predict each target variable "
   ]
  },
  {
   "cell_type": "code",
   "execution_count": 67,
   "metadata": {},
   "outputs": [],
   "source": [
    "def close_price_model(df, wind_size=30):\n",
    "    df_np = df\n",
    "    X = [] \n",
    "    y = []\n",
    "    for i in range(len(df_np) - wind_size):\n",
    "        row = [a for a in df_np[i : i+wind_size]] \n",
    "        X.append(row)\n",
    "        label = df_np[i+wind_size][3] # target index\n",
    "        y.append(label)\n",
    "    return np.array(X), np.array(y) \n"
   ]
  },
  {
   "cell_type": "code",
   "execution_count": 68,
   "metadata": {},
   "outputs": [
    {
     "data": {
      "text/plain": [
       "((1818, 30, 23), (1818,), (432, 30, 23), (432,))"
      ]
     },
     "execution_count": 68,
     "metadata": {},
     "output_type": "execute_result"
    }
   ],
   "source": [
    "X_close_train, y_close_train = close_price_model(train_scaled, 30)\n",
    "X_close_test, y_close_test = close_price_model(test_scaled, 30)\n",
    "X_close_train.shape, y_close_train.shape, X_close_test.shape, y_close_test.shape"
   ]
  },
  {
   "cell_type": "markdown",
   "metadata": {},
   "source": [
    "- The training data has 1818 obervations, with the timestep of 30 and using 23 features\n",
    "- The testing data has 432 obervations, with the timestep of 30 and using 23 features"
   ]
  },
  {
   "cell_type": "markdown",
   "metadata": {},
   "source": [
    "## 4. Fitting the Model with 1 LSTM layer (Vanilla)"
   ]
  },
  {
   "cell_type": "code",
   "execution_count": 69,
   "metadata": {},
   "outputs": [],
   "source": [
    "from tensorflow.keras.models import Sequential\n",
    "from tensorflow.keras.layers  import *\n",
    "from tensorflow.keras.losses import MeanSquaredError \n",
    "from tensorflow.keras.metrics import RootMeanSquaredError\n",
    "from tensorflow.keras.optimizers import Adam"
   ]
  },
  {
   "cell_type": "markdown",
   "metadata": {},
   "source": [
    "Fitting the LSTM model "
   ]
  },
  {
   "cell_type": "markdown",
   "metadata": {},
   "source": [
    "The model has:\n",
    "+ 1 LSTM with 64 neurons\n",
    "+ 2 Dense layers, the first Dense layer has 8 neurons and use RELU activation function"
   ]
  },
  {
   "cell_type": "code",
   "execution_count": 70,
   "metadata": {},
   "outputs": [
    {
     "data": {
      "text/html": [
       "<pre style=\"white-space:pre;overflow-x:auto;line-height:normal;font-family:Menlo,'DejaVu Sans Mono',consolas,'Courier New',monospace\"><span style=\"font-weight: bold\">Model: \"sequential_1\"</span>\n",
       "</pre>\n"
      ],
      "text/plain": [
       "\u001b[1mModel: \"sequential_1\"\u001b[0m\n"
      ]
     },
     "metadata": {},
     "output_type": "display_data"
    },
    {
     "data": {
      "text/html": [
       "<pre style=\"white-space:pre;overflow-x:auto;line-height:normal;font-family:Menlo,'DejaVu Sans Mono',consolas,'Courier New',monospace\">┏━━━━━━━━━━━━━━━━━━━━━━━━━━━━━━━━━┳━━━━━━━━━━━━━━━━━━━━━━━━┳━━━━━━━━━━━━━━━┓\n",
       "┃<span style=\"font-weight: bold\"> Layer (type)                    </span>┃<span style=\"font-weight: bold\"> Output Shape           </span>┃<span style=\"font-weight: bold\">       Param # </span>┃\n",
       "┡━━━━━━━━━━━━━━━━━━━━━━━━━━━━━━━━━╇━━━━━━━━━━━━━━━━━━━━━━━━╇━━━━━━━━━━━━━━━┩\n",
       "│ lstm_2 (<span style=\"color: #0087ff; text-decoration-color: #0087ff\">LSTM</span>)                   │ (<span style=\"color: #00d7ff; text-decoration-color: #00d7ff\">None</span>, <span style=\"color: #00af00; text-decoration-color: #00af00\">64</span>)             │        <span style=\"color: #00af00; text-decoration-color: #00af00\">22,528</span> │\n",
       "├─────────────────────────────────┼────────────────────────┼───────────────┤\n",
       "│ dense_2 (<span style=\"color: #0087ff; text-decoration-color: #0087ff\">Dense</span>)                 │ (<span style=\"color: #00d7ff; text-decoration-color: #00d7ff\">None</span>, <span style=\"color: #00af00; text-decoration-color: #00af00\">8</span>)              │           <span style=\"color: #00af00; text-decoration-color: #00af00\">520</span> │\n",
       "├─────────────────────────────────┼────────────────────────┼───────────────┤\n",
       "│ dense_3 (<span style=\"color: #0087ff; text-decoration-color: #0087ff\">Dense</span>)                 │ (<span style=\"color: #00d7ff; text-decoration-color: #00d7ff\">None</span>, <span style=\"color: #00af00; text-decoration-color: #00af00\">1</span>)              │             <span style=\"color: #00af00; text-decoration-color: #00af00\">9</span> │\n",
       "└─────────────────────────────────┴────────────────────────┴───────────────┘\n",
       "</pre>\n"
      ],
      "text/plain": [
       "┏━━━━━━━━━━━━━━━━━━━━━━━━━━━━━━━━━┳━━━━━━━━━━━━━━━━━━━━━━━━┳━━━━━━━━━━━━━━━┓\n",
       "┃\u001b[1m \u001b[0m\u001b[1mLayer (type)                   \u001b[0m\u001b[1m \u001b[0m┃\u001b[1m \u001b[0m\u001b[1mOutput Shape          \u001b[0m\u001b[1m \u001b[0m┃\u001b[1m \u001b[0m\u001b[1m      Param #\u001b[0m\u001b[1m \u001b[0m┃\n",
       "┡━━━━━━━━━━━━━━━━━━━━━━━━━━━━━━━━━╇━━━━━━━━━━━━━━━━━━━━━━━━╇━━━━━━━━━━━━━━━┩\n",
       "│ lstm_2 (\u001b[38;5;33mLSTM\u001b[0m)                   │ (\u001b[38;5;45mNone\u001b[0m, \u001b[38;5;34m64\u001b[0m)             │        \u001b[38;5;34m22,528\u001b[0m │\n",
       "├─────────────────────────────────┼────────────────────────┼───────────────┤\n",
       "│ dense_2 (\u001b[38;5;33mDense\u001b[0m)                 │ (\u001b[38;5;45mNone\u001b[0m, \u001b[38;5;34m8\u001b[0m)              │           \u001b[38;5;34m520\u001b[0m │\n",
       "├─────────────────────────────────┼────────────────────────┼───────────────┤\n",
       "│ dense_3 (\u001b[38;5;33mDense\u001b[0m)                 │ (\u001b[38;5;45mNone\u001b[0m, \u001b[38;5;34m1\u001b[0m)              │             \u001b[38;5;34m9\u001b[0m │\n",
       "└─────────────────────────────────┴────────────────────────┴───────────────┘\n"
      ]
     },
     "metadata": {},
     "output_type": "display_data"
    },
    {
     "data": {
      "text/html": [
       "<pre style=\"white-space:pre;overflow-x:auto;line-height:normal;font-family:Menlo,'DejaVu Sans Mono',consolas,'Courier New',monospace\"><span style=\"font-weight: bold\"> Total params: </span><span style=\"color: #00af00; text-decoration-color: #00af00\">23,057</span> (90.07 KB)\n",
       "</pre>\n"
      ],
      "text/plain": [
       "\u001b[1m Total params: \u001b[0m\u001b[38;5;34m23,057\u001b[0m (90.07 KB)\n"
      ]
     },
     "metadata": {},
     "output_type": "display_data"
    },
    {
     "data": {
      "text/html": [
       "<pre style=\"white-space:pre;overflow-x:auto;line-height:normal;font-family:Menlo,'DejaVu Sans Mono',consolas,'Courier New',monospace\"><span style=\"font-weight: bold\"> Trainable params: </span><span style=\"color: #00af00; text-decoration-color: #00af00\">23,057</span> (90.07 KB)\n",
       "</pre>\n"
      ],
      "text/plain": [
       "\u001b[1m Trainable params: \u001b[0m\u001b[38;5;34m23,057\u001b[0m (90.07 KB)\n"
      ]
     },
     "metadata": {},
     "output_type": "display_data"
    },
    {
     "data": {
      "text/html": [
       "<pre style=\"white-space:pre;overflow-x:auto;line-height:normal;font-family:Menlo,'DejaVu Sans Mono',consolas,'Courier New',monospace\"><span style=\"font-weight: bold\"> Non-trainable params: </span><span style=\"color: #00af00; text-decoration-color: #00af00\">0</span> (0.00 B)\n",
       "</pre>\n"
      ],
      "text/plain": [
       "\u001b[1m Non-trainable params: \u001b[0m\u001b[38;5;34m0\u001b[0m (0.00 B)\n"
      ]
     },
     "metadata": {},
     "output_type": "display_data"
    }
   ],
   "source": [
    "model = Sequential()\n",
    "model.add(InputLayer((X_close_train.shape[1], X_close_train.shape[2])))\n",
    "model.add(LSTM(64))\n",
    "model.add(Dense(8, 'relu'))\n",
    "model.add(Dense(1, 'linear'))\n",
    "\n",
    "model.summary()"
   ]
  },
  {
   "cell_type": "code",
   "execution_count": 71,
   "metadata": {},
   "outputs": [],
   "source": [
    "model.compile(loss = MeanSquaredError(), optimizer= Adam(learning_rate= 0.001), metrics= [RootMeanSquaredError()])"
   ]
  },
  {
   "cell_type": "code",
   "execution_count": 72,
   "metadata": {},
   "outputs": [
    {
     "name": "stdout",
     "output_type": "stream",
     "text": [
      "Epoch 1/20\n",
      "\u001b[1m15/15\u001b[0m \u001b[32m━━━━━━━━━━━━━━━━━━━━\u001b[0m\u001b[37m\u001b[0m \u001b[1m3s\u001b[0m 37ms/step - loss: 0.0588 - root_mean_squared_error: 0.2359 - val_loss: 0.0069 - val_root_mean_squared_error: 0.0830\n",
      "Epoch 2/20\n",
      "\u001b[1m15/15\u001b[0m \u001b[32m━━━━━━━━━━━━━━━━━━━━\u001b[0m\u001b[37m\u001b[0m \u001b[1m0s\u001b[0m 19ms/step - loss: 0.0035 - root_mean_squared_error: 0.0585 - val_loss: 0.0131 - val_root_mean_squared_error: 0.1143\n",
      "Epoch 3/20\n",
      "\u001b[1m15/15\u001b[0m \u001b[32m━━━━━━━━━━━━━━━━━━━━\u001b[0m\u001b[37m\u001b[0m \u001b[1m0s\u001b[0m 23ms/step - loss: 0.0016 - root_mean_squared_error: 0.0402 - val_loss: 0.0114 - val_root_mean_squared_error: 0.1068\n",
      "Epoch 4/20\n",
      "\u001b[1m15/15\u001b[0m \u001b[32m━━━━━━━━━━━━━━━━━━━━\u001b[0m\u001b[37m\u001b[0m \u001b[1m0s\u001b[0m 18ms/step - loss: 0.0013 - root_mean_squared_error: 0.0354 - val_loss: 0.0101 - val_root_mean_squared_error: 0.1003\n",
      "Epoch 5/20\n",
      "\u001b[1m15/15\u001b[0m \u001b[32m━━━━━━━━━━━━━━━━━━━━\u001b[0m\u001b[37m\u001b[0m \u001b[1m0s\u001b[0m 17ms/step - loss: 0.0011 - root_mean_squared_error: 0.0332 - val_loss: 0.0084 - val_root_mean_squared_error: 0.0919\n",
      "Epoch 6/20\n",
      "\u001b[1m15/15\u001b[0m \u001b[32m━━━━━━━━━━━━━━━━━━━━\u001b[0m\u001b[37m\u001b[0m \u001b[1m0s\u001b[0m 17ms/step - loss: 0.0010 - root_mean_squared_error: 0.0317 - val_loss: 0.0076 - val_root_mean_squared_error: 0.0870\n",
      "Epoch 7/20\n",
      "\u001b[1m15/15\u001b[0m \u001b[32m━━━━━━━━━━━━━━━━━━━━\u001b[0m\u001b[37m\u001b[0m \u001b[1m0s\u001b[0m 18ms/step - loss: 9.2397e-04 - root_mean_squared_error: 0.0304 - val_loss: 0.0068 - val_root_mean_squared_error: 0.0824\n",
      "Epoch 8/20\n",
      "\u001b[1m15/15\u001b[0m \u001b[32m━━━━━━━━━━━━━━━━━━━━\u001b[0m\u001b[37m\u001b[0m \u001b[1m0s\u001b[0m 17ms/step - loss: 8.6437e-04 - root_mean_squared_error: 0.0294 - val_loss: 0.0062 - val_root_mean_squared_error: 0.0789\n",
      "Epoch 9/20\n",
      "\u001b[1m15/15\u001b[0m \u001b[32m━━━━━━━━━━━━━━━━━━━━\u001b[0m\u001b[37m\u001b[0m \u001b[1m0s\u001b[0m 14ms/step - loss: 8.5967e-04 - root_mean_squared_error: 0.0293 - val_loss: 0.0056 - val_root_mean_squared_error: 0.0750\n",
      "Epoch 10/20\n",
      "\u001b[1m15/15\u001b[0m \u001b[32m━━━━━━━━━━━━━━━━━━━━\u001b[0m\u001b[37m\u001b[0m \u001b[1m0s\u001b[0m 12ms/step - loss: 7.9225e-04 - root_mean_squared_error: 0.0281 - val_loss: 0.0053 - val_root_mean_squared_error: 0.0727\n",
      "Epoch 11/20\n",
      "\u001b[1m15/15\u001b[0m \u001b[32m━━━━━━━━━━━━━━━━━━━━\u001b[0m\u001b[37m\u001b[0m \u001b[1m0s\u001b[0m 13ms/step - loss: 7.6107e-04 - root_mean_squared_error: 0.0276 - val_loss: 0.0057 - val_root_mean_squared_error: 0.0756\n",
      "Epoch 12/20\n",
      "\u001b[1m15/15\u001b[0m \u001b[32m━━━━━━━━━━━━━━━━━━━━\u001b[0m\u001b[37m\u001b[0m \u001b[1m0s\u001b[0m 13ms/step - loss: 7.5902e-04 - root_mean_squared_error: 0.0275 - val_loss: 0.0056 - val_root_mean_squared_error: 0.0748\n",
      "Epoch 13/20\n",
      "\u001b[1m15/15\u001b[0m \u001b[32m━━━━━━━━━━━━━━━━━━━━\u001b[0m\u001b[37m\u001b[0m \u001b[1m0s\u001b[0m 17ms/step - loss: 7.5785e-04 - root_mean_squared_error: 0.0275 - val_loss: 0.0049 - val_root_mean_squared_error: 0.0702\n",
      "Epoch 14/20\n",
      "\u001b[1m15/15\u001b[0m \u001b[32m━━━━━━━━━━━━━━━━━━━━\u001b[0m\u001b[37m\u001b[0m \u001b[1m0s\u001b[0m 13ms/step - loss: 7.2794e-04 - root_mean_squared_error: 0.0270 - val_loss: 0.0053 - val_root_mean_squared_error: 0.0731\n",
      "Epoch 15/20\n",
      "\u001b[1m15/15\u001b[0m \u001b[32m━━━━━━━━━━━━━━━━━━━━\u001b[0m\u001b[37m\u001b[0m \u001b[1m0s\u001b[0m 13ms/step - loss: 7.1072e-04 - root_mean_squared_error: 0.0266 - val_loss: 0.0048 - val_root_mean_squared_error: 0.0692\n",
      "Epoch 16/20\n",
      "\u001b[1m15/15\u001b[0m \u001b[32m━━━━━━━━━━━━━━━━━━━━\u001b[0m\u001b[37m\u001b[0m \u001b[1m0s\u001b[0m 13ms/step - loss: 6.2894e-04 - root_mean_squared_error: 0.0251 - val_loss: 0.0053 - val_root_mean_squared_error: 0.0730\n",
      "Epoch 17/20\n",
      "\u001b[1m15/15\u001b[0m \u001b[32m━━━━━━━━━━━━━━━━━━━━\u001b[0m\u001b[37m\u001b[0m \u001b[1m0s\u001b[0m 13ms/step - loss: 6.6239e-04 - root_mean_squared_error: 0.0257 - val_loss: 0.0050 - val_root_mean_squared_error: 0.0708\n",
      "Epoch 18/20\n",
      "\u001b[1m15/15\u001b[0m \u001b[32m━━━━━━━━━━━━━━━━━━━━\u001b[0m\u001b[37m\u001b[0m \u001b[1m0s\u001b[0m 13ms/step - loss: 6.5815e-04 - root_mean_squared_error: 0.0256 - val_loss: 0.0058 - val_root_mean_squared_error: 0.0760\n",
      "Epoch 19/20\n",
      "\u001b[1m15/15\u001b[0m \u001b[32m━━━━━━━━━━━━━━━━━━━━\u001b[0m\u001b[37m\u001b[0m \u001b[1m0s\u001b[0m 15ms/step - loss: 6.4874e-04 - root_mean_squared_error: 0.0255 - val_loss: 0.0055 - val_root_mean_squared_error: 0.0739\n",
      "Epoch 20/20\n",
      "\u001b[1m15/15\u001b[0m \u001b[32m━━━━━━━━━━━━━━━━━━━━\u001b[0m\u001b[37m\u001b[0m \u001b[1m0s\u001b[0m 14ms/step - loss: 6.6514e-04 - root_mean_squared_error: 0.0258 - val_loss: 0.0047 - val_root_mean_squared_error: 0.0684\n"
     ]
    },
    {
     "data": {
      "text/plain": [
       "<keras.src.callbacks.history.History at 0x122026ef4d0>"
      ]
     },
     "execution_count": 72,
     "metadata": {},
     "output_type": "execute_result"
    }
   ],
   "source": [
    "model.fit(X_close_train, y_close_train, validation_data=(X_close_test, y_close_test), epochs=20, batch_size=128) "
   ]
  },
  {
   "cell_type": "markdown",
   "metadata": {},
   "source": [
    "## 5. Model's prediction and evaluation"
   ]
  },
  {
   "cell_type": "markdown",
   "metadata": {},
   "source": [
    "- Model's prediction on the training set:"
   ]
  },
  {
   "cell_type": "code",
   "execution_count": 73,
   "metadata": {},
   "outputs": [
    {
     "name": "stdout",
     "output_type": "stream",
     "text": [
      "\u001b[1m57/57\u001b[0m \u001b[32m━━━━━━━━━━━━━━━━━━━━\u001b[0m\u001b[37m\u001b[0m \u001b[1m1s\u001b[0m 7ms/step\n"
     ]
    },
    {
     "data": {
      "text/html": [
       "<div>\n",
       "<style scoped>\n",
       "    .dataframe tbody tr th:only-of-type {\n",
       "        vertical-align: middle;\n",
       "    }\n",
       "\n",
       "    .dataframe tbody tr th {\n",
       "        vertical-align: top;\n",
       "    }\n",
       "\n",
       "    .dataframe thead th {\n",
       "        text-align: right;\n",
       "    }\n",
       "</style>\n",
       "<table border=\"1\" class=\"dataframe\">\n",
       "  <thead>\n",
       "    <tr style=\"text-align: right;\">\n",
       "      <th></th>\n",
       "      <th>Train Pred</th>\n",
       "      <th>Actual</th>\n",
       "    </tr>\n",
       "  </thead>\n",
       "  <tbody>\n",
       "    <tr>\n",
       "      <th>0</th>\n",
       "      <td>0.124972</td>\n",
       "      <td>0.117257</td>\n",
       "    </tr>\n",
       "    <tr>\n",
       "      <th>1</th>\n",
       "      <td>0.126651</td>\n",
       "      <td>0.104598</td>\n",
       "    </tr>\n",
       "    <tr>\n",
       "      <th>2</th>\n",
       "      <td>0.119781</td>\n",
       "      <td>0.095729</td>\n",
       "    </tr>\n",
       "    <tr>\n",
       "      <th>3</th>\n",
       "      <td>0.115692</td>\n",
       "      <td>0.094836</td>\n",
       "    </tr>\n",
       "    <tr>\n",
       "      <th>4</th>\n",
       "      <td>0.107067</td>\n",
       "      <td>0.087506</td>\n",
       "    </tr>\n",
       "    <tr>\n",
       "      <th>...</th>\n",
       "      <td>...</td>\n",
       "      <td>...</td>\n",
       "    </tr>\n",
       "    <tr>\n",
       "      <th>1813</th>\n",
       "      <td>0.318112</td>\n",
       "      <td>0.329544</td>\n",
       "    </tr>\n",
       "    <tr>\n",
       "      <th>1814</th>\n",
       "      <td>0.320333</td>\n",
       "      <td>0.325697</td>\n",
       "    </tr>\n",
       "    <tr>\n",
       "      <th>1815</th>\n",
       "      <td>0.320496</td>\n",
       "      <td>0.321945</td>\n",
       "    </tr>\n",
       "    <tr>\n",
       "      <th>1816</th>\n",
       "      <td>0.320947</td>\n",
       "      <td>0.310296</td>\n",
       "    </tr>\n",
       "    <tr>\n",
       "      <th>1817</th>\n",
       "      <td>0.319807</td>\n",
       "      <td>0.309942</td>\n",
       "    </tr>\n",
       "  </tbody>\n",
       "</table>\n",
       "<p>1818 rows × 2 columns</p>\n",
       "</div>"
      ],
      "text/plain": [
       "      Train Pred    Actual\n",
       "0       0.124972  0.117257\n",
       "1       0.126651  0.104598\n",
       "2       0.119781  0.095729\n",
       "3       0.115692  0.094836\n",
       "4       0.107067  0.087506\n",
       "...          ...       ...\n",
       "1813    0.318112  0.329544\n",
       "1814    0.320333  0.325697\n",
       "1815    0.320496  0.321945\n",
       "1816    0.320947  0.310296\n",
       "1817    0.319807  0.309942\n",
       "\n",
       "[1818 rows x 2 columns]"
      ]
     },
     "execution_count": 73,
     "metadata": {},
     "output_type": "execute_result"
    }
   ],
   "source": [
    "train_close_pred = model.predict(X_close_train).flatten()\n",
    "train_close_result = pd.DataFrame(data= {'Train Pred':train_close_pred, 'Actual':y_close_train.flatten()})\n",
    "train_close_result"
   ]
  },
  {
   "cell_type": "code",
   "execution_count": 74,
   "metadata": {},
   "outputs": [
    {
     "data": {
      "image/png": "[encoded data removed]",
      "text/plain": [
       "<Figure size 640x480 with 1 Axes>"
      ]
     },
     "metadata": {},
     "output_type": "display_data"
    }
   ],
   "source": [
    "plt.plot(train_close_result['Train Pred'])\n",
    "plt.plot(train_close_result['Actual'])\n",
    "plt.title('Close Price prediction on the training set')\n",
    "plt.show()"
   ]
  },
  {
   "cell_type": "markdown",
   "metadata": {},
   "source": [
    "- Model's prediction on the test set:"
   ]
  },
  {
   "cell_type": "code",
   "execution_count": 75,
   "metadata": {},
   "outputs": [
    {
     "name": "stdout",
     "output_type": "stream",
     "text": [
      "\u001b[1m14/14\u001b[0m \u001b[32m━━━━━━━━━━━━━━━━━━━━\u001b[0m\u001b[37m\u001b[0m \u001b[1m0s\u001b[0m 4ms/step \n"
     ]
    },
    {
     "data": {
      "text/html": [
       "<div>\n",
       "<style scoped>\n",
       "    .dataframe tbody tr th:only-of-type {\n",
       "        vertical-align: middle;\n",
       "    }\n",
       "\n",
       "    .dataframe tbody tr th {\n",
       "        vertical-align: top;\n",
       "    }\n",
       "\n",
       "    .dataframe thead th {\n",
       "        text-align: right;\n",
       "    }\n",
       "</style>\n",
       "<table border=\"1\" class=\"dataframe\">\n",
       "  <thead>\n",
       "    <tr style=\"text-align: right;\">\n",
       "      <th></th>\n",
       "      <th>Test Pred</th>\n",
       "      <th>Actual</th>\n",
       "    </tr>\n",
       "  </thead>\n",
       "  <tbody>\n",
       "    <tr>\n",
       "      <th>0</th>\n",
       "      <td>0.341457</td>\n",
       "      <td>0.373564</td>\n",
       "    </tr>\n",
       "    <tr>\n",
       "      <th>1</th>\n",
       "      <td>0.346768</td>\n",
       "      <td>0.390357</td>\n",
       "    </tr>\n",
       "    <tr>\n",
       "      <th>2</th>\n",
       "      <td>0.351715</td>\n",
       "      <td>0.385462</td>\n",
       "    </tr>\n",
       "    <tr>\n",
       "      <th>3</th>\n",
       "      <td>0.355350</td>\n",
       "      <td>0.392378</td>\n",
       "    </tr>\n",
       "    <tr>\n",
       "      <th>4</th>\n",
       "      <td>0.356683</td>\n",
       "      <td>0.391330</td>\n",
       "    </tr>\n",
       "    <tr>\n",
       "      <th>...</th>\n",
       "      <td>...</td>\n",
       "      <td>...</td>\n",
       "    </tr>\n",
       "    <tr>\n",
       "      <th>427</th>\n",
       "      <td>1.043214</td>\n",
       "      <td>1.011338</td>\n",
       "    </tr>\n",
       "    <tr>\n",
       "      <th>428</th>\n",
       "      <td>1.016912</td>\n",
       "      <td>1.000175</td>\n",
       "    </tr>\n",
       "    <tr>\n",
       "      <th>429</th>\n",
       "      <td>1.013850</td>\n",
       "      <td>1.012407</td>\n",
       "    </tr>\n",
       "    <tr>\n",
       "      <th>430</th>\n",
       "      <td>1.004518</td>\n",
       "      <td>0.998828</td>\n",
       "    </tr>\n",
       "    <tr>\n",
       "      <th>431</th>\n",
       "      <td>0.986812</td>\n",
       "      <td>1.002178</td>\n",
       "    </tr>\n",
       "  </tbody>\n",
       "</table>\n",
       "<p>432 rows × 2 columns</p>\n",
       "</div>"
      ],
      "text/plain": [
       "     Test Pred    Actual\n",
       "0     0.341457  0.373564\n",
       "1     0.346768  0.390357\n",
       "2     0.351715  0.385462\n",
       "3     0.355350  0.392378\n",
       "4     0.356683  0.391330\n",
       "..         ...       ...\n",
       "427   1.043214  1.011338\n",
       "428   1.016912  1.000175\n",
       "429   1.013850  1.012407\n",
       "430   1.004518  0.998828\n",
       "431   0.986812  1.002178\n",
       "\n",
       "[432 rows x 2 columns]"
      ]
     },
     "execution_count": 75,
     "metadata": {},
     "output_type": "execute_result"
    }
   ],
   "source": [
    "test_close_pred = model.predict(X_close_test).flatten()\n",
    "test_close_result = pd.DataFrame(data= {'Test Pred':test_close_pred, 'Actual':y_close_test.flatten()})\n",
    "test_close_result"
   ]
  },
  {
   "cell_type": "code",
   "execution_count": 76,
   "metadata": {},
   "outputs": [
    {
     "data": {
      "image/png": "[encoded data removed]",
      "text/plain": [
       "<Figure size 640x480 with 1 Axes>"
      ]
     },
     "metadata": {},
     "output_type": "display_data"
    }
   ],
   "source": [
    "plt.plot(test_close_result['Test Pred'])\n",
    "plt.plot(test_close_result['Actual'])\n",
    "plt.title('Close Price prediction on the test set')\n",
    "plt.show()"
   ]
  },
  {
   "cell_type": "markdown",
   "metadata": {},
   "source": [
    "- The RMSE of the predicted value on the Test data: "
   ]
  },
  {
   "cell_type": "code",
   "execution_count": 77,
   "metadata": {},
   "outputs": [
    {
     "name": "stdout",
     "output_type": "stream",
     "text": [
      " The RMSE of the model is: 0.06837965177015155\n"
     ]
    }
   ],
   "source": [
    "RMSE_1 = np.sqrt(mean_squared_error(y_close_test, test_close_pred))\n",
    "print(f\"\"\" The RMSE of the model is: {RMSE_1}\"\"\")"
   ]
  },
  {
   "cell_type": "markdown",
   "metadata": {},
   "source": [
    "## 6. Hyperparameter tuning: Tuning model with 2 lstm layers and 2 Dense layers \n"
   ]
  },
  {
   "cell_type": "code",
   "execution_count": 78,
   "metadata": {},
   "outputs": [],
   "source": [
    "import keras_tuner as kt"
   ]
  },
  {
   "cell_type": "markdown",
   "metadata": {},
   "source": [
    "- Initializing the model tuning function"
   ]
  },
  {
   "cell_type": "markdown",
   "metadata": {},
   "source": [
    "The tuning model has:\n",
    "+ 2 LSTM layers, with the option of 32, 64 or 128 neurons each\n",
    "+ Additional Dropout layer for regularization after each LSTM layer, with the option of 0, 0.2 or 0.4\n",
    "+ 2 Dense layers, the first Dense layer has the option of 16, 32 or 64 neurons, using either RELU or Tanh activation function\n",
    "+ The learning rate choices for the model are 0.001, 0.01 or 0.1 "
   ]
  },
  {
   "cell_type": "code",
   "execution_count": 79,
   "metadata": {},
   "outputs": [],
   "source": [
    "def build_model(hp):\n",
    "    model = Sequential()\n",
    "    model.add(InputLayer((X_close_train.shape[1], X_close_train.shape[2])))\n",
    "    \n",
    "    lstm_units = hp.Choice('lstm_units', values=[32, 64, 128])\n",
    "    model.add(LSTM(lstm_units, return_sequences=True))\n",
    "    \n",
    "    dropout_rate = hp.Choice('dropout_rate', values=[0.2, 0.3])\n",
    "    model.add(Dropout(dropout_rate))\n",
    "    \n",
    "    model.add(LSTM(lstm_units))\n",
    "    model.add(Dropout(dropout_rate))\n",
    "    \n",
    "    activation_function = hp.Choice('activation_function', values=['relu', 'tanh'])\n",
    "    dense_units = hp.Choice('dense_units', values=[16, 32, 64])  \n",
    "    model.add(Dense(dense_units, activation=activation_function))\n",
    "    model.add(Dense(1, activation='linear'))\n",
    "    \n",
    "    learning_rate = hp.Choice('learning_rate', values=[0.001, 0.01, 0.1])\n",
    "    model.compile(\n",
    "        loss=MeanSquaredError(),\n",
    "        optimizer=Adam(learning_rate=learning_rate),\n",
    "        metrics=[RootMeanSquaredError()]\n",
    "    )\n",
    "    return model"
   ]
  },
  {
   "cell_type": "code",
   "execution_count": 80,
   "metadata": {},
   "outputs": [],
   "source": [
    "tuner = kt.RandomSearch(\n",
    "    build_model,\n",
    "    objective='val_loss',\n",
    "    max_trials=30,\n",
    "    executions_per_trial=1,\n",
    "    directory='multi_003',\n",
    "    project_name='lstm_tuning'\n",
    ")"
   ]
  },
  {
   "cell_type": "markdown",
   "metadata": {},
   "source": [
    "- Start the tuning process\n",
    "\n",
    "We set the number of epoch equals 20 with the batch size of 32. The model uses the Test set as the validation data. "
   ]
  },
  {
   "cell_type": "code",
   "execution_count": 81,
   "metadata": {},
   "outputs": [
    {
     "name": "stdout",
     "output_type": "stream",
     "text": [
      "Trial 30 Complete [00h 00m 55s]\n",
      "val_loss: 0.016788028180599213\n",
      "\n",
      "Best val_loss So Far: 0.0019496874883770943\n",
      "Total elapsed time: 01h 28m 44s\n"
     ]
    }
   ],
   "source": [
    "tuner.search(\n",
    "    X_close_train, y_close_train,\n",
    "    epochs= 20,\n",
    "    batch_size= 32,\n",
    "    validation_data=(X_close_test, y_close_test)\n",
    ")"
   ]
  },
  {
   "cell_type": "markdown",
   "metadata": {},
   "source": [
    "- Obtaining the best performing model and set it to \"best_model\""
   ]
  },
  {
   "cell_type": "code",
   "execution_count": 82,
   "metadata": {},
   "outputs": [
    {
     "name": "stderr",
     "output_type": "stream",
     "text": [
      "c:\\Users\\Ha Tung Lam\\anaconda3\\Lib\\site-packages\\keras\\src\\saving\\saving_lib.py:576: UserWarning: Skipping variable loading for optimizer 'adam', because it has 2 variables whereas the saved optimizer has 22 variables. \n",
      "  saveable.load_own_variables(weights_store.get(inner_path))\n"
     ]
    }
   ],
   "source": [
    "best_model = tuner.get_best_models(num_models=1)[0]"
   ]
  },
  {
   "cell_type": "markdown",
   "metadata": {},
   "source": [
    "This is the result of the 10 best performing model:"
   ]
  },
  {
   "cell_type": "code",
   "execution_count": 83,
   "metadata": {},
   "outputs": [
    {
     "name": "stdout",
     "output_type": "stream",
     "text": [
      "Results summary\n",
      "Results in multi_003\\lstm_tuning\n",
      "Showing 10 best trials\n",
      "Objective(name=\"val_loss\", direction=\"min\")\n",
      "\n",
      "Trial 19 summary\n",
      "Hyperparameters:\n",
      "lstm_units: 64\n",
      "dropout_rate: 0.3\n",
      "activation_function: tanh\n",
      "dense_units: 64\n",
      "learning_rate: 0.01\n",
      "Score: 0.0019496874883770943\n",
      "\n",
      "Trial 24 summary\n",
      "Hyperparameters:\n",
      "lstm_units: 64\n",
      "dropout_rate: 0.2\n",
      "activation_function: relu\n",
      "dense_units: 64\n",
      "learning_rate: 0.01\n",
      "Score: 0.0020723389461636543\n",
      "\n",
      "Trial 00 summary\n",
      "Hyperparameters:\n",
      "lstm_units: 64\n",
      "dropout_rate: 0.2\n",
      "activation_function: tanh\n",
      "dense_units: 64\n",
      "learning_rate: 0.01\n",
      "Score: 0.004003316164016724\n",
      "\n",
      "Trial 03 summary\n",
      "Hyperparameters:\n",
      "lstm_units: 128\n",
      "dropout_rate: 0.3\n",
      "activation_function: tanh\n",
      "dense_units: 16\n",
      "learning_rate: 0.001\n",
      "Score: 0.005014617461711168\n",
      "\n",
      "Trial 06 summary\n",
      "Hyperparameters:\n",
      "lstm_units: 128\n",
      "dropout_rate: 0.3\n",
      "activation_function: tanh\n",
      "dense_units: 16\n",
      "learning_rate: 0.01\n",
      "Score: 0.0051412321627140045\n",
      "\n",
      "Trial 13 summary\n",
      "Hyperparameters:\n",
      "lstm_units: 128\n",
      "dropout_rate: 0.2\n",
      "activation_function: relu\n",
      "dense_units: 64\n",
      "learning_rate: 0.01\n",
      "Score: 0.005768528673797846\n",
      "\n",
      "Trial 02 summary\n",
      "Hyperparameters:\n",
      "lstm_units: 64\n",
      "dropout_rate: 0.3\n",
      "activation_function: tanh\n",
      "dense_units: 64\n",
      "learning_rate: 0.001\n",
      "Score: 0.006130746565759182\n",
      "\n",
      "Trial 10 summary\n",
      "Hyperparameters:\n",
      "lstm_units: 64\n",
      "dropout_rate: 0.2\n",
      "activation_function: tanh\n",
      "dense_units: 16\n",
      "learning_rate: 0.01\n",
      "Score: 0.006614378187805414\n",
      "\n",
      "Trial 28 summary\n",
      "Hyperparameters:\n",
      "lstm_units: 64\n",
      "dropout_rate: 0.2\n",
      "activation_function: tanh\n",
      "dense_units: 32\n",
      "learning_rate: 0.001\n",
      "Score: 0.008024410344660282\n",
      "\n",
      "Trial 04 summary\n",
      "Hyperparameters:\n",
      "lstm_units: 64\n",
      "dropout_rate: 0.2\n",
      "activation_function: tanh\n",
      "dense_units: 16\n",
      "learning_rate: 0.001\n",
      "Score: 0.008138425648212433\n"
     ]
    }
   ],
   "source": [
    "tuner.results_summary()"
   ]
  },
  {
   "cell_type": "markdown",
   "metadata": {},
   "source": [
    "- Extracting the hyperparameters from the best performing model and set it to \"best_hp\""
   ]
  },
  {
   "cell_type": "code",
   "execution_count": 84,
   "metadata": {},
   "outputs": [
    {
     "name": "stdout",
     "output_type": "stream",
     "text": [
      "\n",
      "The best hyperparameters are:\n",
      "- lstm_units: 64\n",
      "- dropout_rate: 0.3\n",
      "- activation function: tanh\n",
      "- dense_units: 64\n",
      "- learning_rate: 0.01\n",
      "\n"
     ]
    }
   ],
   "source": [
    "best_hps = tuner.get_best_hyperparameters(num_trials=1)[0]\n",
    "print(f\"\"\"\n",
    "The best hyperparameters are:\n",
    "- lstm_units: {best_hps.get('lstm_units')}\n",
    "- dropout_rate: {best_hps.get('dropout_rate')}\n",
    "- activation function: {best_hps.get('activation_function')}\n",
    "- dense_units: {best_hps.get('dense_units')}\n",
    "- learning_rate: {best_hps.get('learning_rate')}\n",
    "\"\"\")"
   ]
  },
  {
   "cell_type": "markdown",
   "metadata": {},
   "source": [
    "- Predicting the value of the Test data using best_model:"
   ]
  },
  {
   "cell_type": "code",
   "execution_count": 85,
   "metadata": {},
   "outputs": [
    {
     "name": "stdout",
     "output_type": "stream",
     "text": [
      "\u001b[1m14/14\u001b[0m \u001b[32m━━━━━━━━━━━━━━━━━━━━\u001b[0m\u001b[37m\u001b[0m \u001b[1m2s\u001b[0m 75ms/step\n"
     ]
    },
    {
     "data": {
      "text/html": [
       "<div>\n",
       "<style scoped>\n",
       "    .dataframe tbody tr th:only-of-type {\n",
       "        vertical-align: middle;\n",
       "    }\n",
       "\n",
       "    .dataframe tbody tr th {\n",
       "        vertical-align: top;\n",
       "    }\n",
       "\n",
       "    .dataframe thead th {\n",
       "        text-align: right;\n",
       "    }\n",
       "</style>\n",
       "<table border=\"1\" class=\"dataframe\">\n",
       "  <thead>\n",
       "    <tr style=\"text-align: right;\">\n",
       "      <th></th>\n",
       "      <th>Test Pred</th>\n",
       "      <th>Actual</th>\n",
       "    </tr>\n",
       "  </thead>\n",
       "  <tbody>\n",
       "    <tr>\n",
       "      <th>0</th>\n",
       "      <td>0.397090</td>\n",
       "      <td>0.373564</td>\n",
       "    </tr>\n",
       "    <tr>\n",
       "      <th>1</th>\n",
       "      <td>0.396021</td>\n",
       "      <td>0.390357</td>\n",
       "    </tr>\n",
       "    <tr>\n",
       "      <th>2</th>\n",
       "      <td>0.398094</td>\n",
       "      <td>0.385462</td>\n",
       "    </tr>\n",
       "    <tr>\n",
       "      <th>3</th>\n",
       "      <td>0.402952</td>\n",
       "      <td>0.392378</td>\n",
       "    </tr>\n",
       "    <tr>\n",
       "      <th>4</th>\n",
       "      <td>0.409466</td>\n",
       "      <td>0.391330</td>\n",
       "    </tr>\n",
       "    <tr>\n",
       "      <th>...</th>\n",
       "      <td>...</td>\n",
       "      <td>...</td>\n",
       "    </tr>\n",
       "    <tr>\n",
       "      <th>427</th>\n",
       "      <td>0.957266</td>\n",
       "      <td>1.011338</td>\n",
       "    </tr>\n",
       "    <tr>\n",
       "      <th>428</th>\n",
       "      <td>0.943943</td>\n",
       "      <td>1.000175</td>\n",
       "    </tr>\n",
       "    <tr>\n",
       "      <th>429</th>\n",
       "      <td>0.941300</td>\n",
       "      <td>1.012407</td>\n",
       "    </tr>\n",
       "    <tr>\n",
       "      <th>430</th>\n",
       "      <td>0.938570</td>\n",
       "      <td>0.998828</td>\n",
       "    </tr>\n",
       "    <tr>\n",
       "      <th>431</th>\n",
       "      <td>0.936728</td>\n",
       "      <td>1.002178</td>\n",
       "    </tr>\n",
       "  </tbody>\n",
       "</table>\n",
       "<p>432 rows × 2 columns</p>\n",
       "</div>"
      ],
      "text/plain": [
       "     Test Pred    Actual\n",
       "0     0.397090  0.373564\n",
       "1     0.396021  0.390357\n",
       "2     0.398094  0.385462\n",
       "3     0.402952  0.392378\n",
       "4     0.409466  0.391330\n",
       "..         ...       ...\n",
       "427   0.957266  1.011338\n",
       "428   0.943943  1.000175\n",
       "429   0.941300  1.012407\n",
       "430   0.938570  0.998828\n",
       "431   0.936728  1.002178\n",
       "\n",
       "[432 rows x 2 columns]"
      ]
     },
     "execution_count": 85,
     "metadata": {},
     "output_type": "execute_result"
    }
   ],
   "source": [
    "y_close_test_best_pred = best_model.predict(X_close_test).flatten()\n",
    "best_close_test_result = pd.DataFrame(data= {'Test Pred':y_close_test_best_pred, 'Actual':y_close_test.flatten()})\n",
    "best_close_test_result"
   ]
  },
  {
   "cell_type": "markdown",
   "metadata": {},
   "source": [
    "## 7. Tuned model evaluation and comparision "
   ]
  },
  {
   "cell_type": "markdown",
   "metadata": {},
   "source": [
    "- The RMSE of best_model on the Test data:"
   ]
  },
  {
   "cell_type": "code",
   "execution_count": 86,
   "metadata": {},
   "outputs": [
    {
     "name": "stdout",
     "output_type": "stream",
     "text": [
      " The RMSE of the tuned model is: 0.044155266433665144\n"
     ]
    }
   ],
   "source": [
    "RMSE_tuned = np.sqrt(mean_squared_error(y_close_test, y_close_test_best_pred))\n",
    "print(f\"\"\" The RMSE of the tuned model is: {RMSE_tuned}\"\"\")"
   ]
  },
  {
   "cell_type": "code",
   "execution_count": 87,
   "metadata": {},
   "outputs": [
    {
     "data": {
      "image/png": "[encoded data removed]",
      "text/plain": [
       "<Figure size 640x480 with 1 Axes>"
      ]
     },
     "metadata": {},
     "output_type": "display_data"
    }
   ],
   "source": [
    "plt.plot(best_close_test_result['Test Pred'], label='Predicted', color='red')\n",
    "plt.plot(best_close_test_result['Actual'], label='Actual', color='blue')\n",
    "plt.title('Close Price Values after tuning vs Actual Close Price')\n",
    "plt.legend(loc='upper left')\n",
    "plt.show()"
   ]
  },
  {
   "cell_type": "markdown",
   "metadata": {},
   "source": [
    "- Comparing the RMSE results of both model: "
   ]
  },
  {
   "cell_type": "code",
   "execution_count": 88,
   "metadata": {},
   "outputs": [
    {
     "name": "stdout",
     "output_type": "stream",
     "text": [
      "\n",
      "The RMSE of pre-tuned model on the Test set: 0.06837965177015155\n",
      "The RMSE of  the optimized model on the Test set: 0.044155266433665144\n",
      "\n"
     ]
    }
   ],
   "source": [
    "print(f\"\"\"\n",
    "The RMSE of pre-tuned model on the Test set: {RMSE_1}\n",
    "The RMSE of  the optimized model on the Test set: {RMSE_tuned}\n",
    "\"\"\")"
   ]
  },
  {
   "cell_type": "markdown",
   "metadata": {},
   "source": [
    "-> The optimized model performs much better than the first Vanilla model with lower Root Mean Squared Error on the Test data "
   ]
  },
  {
   "cell_type": "markdown",
   "metadata": {},
   "source": [
    "- Comparision of LSTM model's performance before and after tuning:"
   ]
  },
  {
   "cell_type": "code",
   "execution_count": 89,
   "metadata": {},
   "outputs": [
    {
     "data": {
      "image/png": "[encoded data removed]",
      "text/plain": [
       "<Figure size 640x480 with 1 Axes>"
      ]
     },
     "metadata": {},
     "output_type": "display_data"
    }
   ],
   "source": [
    "plt.plot(best_close_test_result['Test Pred'], label='After tuning', color='green')\n",
    "plt.plot(test_close_result['Test Pred'], label='Before tuning', color='red')\n",
    "plt.plot(test_close_result['Actual'], label='Actual', color='blue')\n",
    "plt.title('Comparision')\n",
    "plt.legend(loc='upper left')\n",
    "plt.show()"
   ]
  },
  {
   "cell_type": "markdown",
   "metadata": {},
   "source": [
    "# B. VOL_1 Prediction of BTC"
   ]
  },
  {
   "cell_type": "code",
   "execution_count": 90,
   "metadata": {},
   "outputs": [
    {
     "data": {
      "image/png": "[encoded data removed]",
      "text/plain": [
       "<Figure size 640x480 with 1 Axes>"
      ]
     },
     "metadata": {},
     "output_type": "display_data"
    }
   ],
   "source": [
    "plt.plot(df['VOL1'])\n",
    "plt.xlabel('Year')\n",
    "plt.ylabel('VOL1')\n",
    "plt.title('VOL1 of BTC from 2018 to 2024')\n",
    "plt.show()"
   ]
  },
  {
   "cell_type": "code",
   "execution_count": 91,
   "metadata": {},
   "outputs": [],
   "source": [
    "def vol1_price_model(df, wind_size=30):\n",
    "    df_np = df\n",
    "    X = [] \n",
    "    y = []\n",
    "    for i in range(len(df_np) - wind_size):\n",
    "        row = [a for a in df_np[i : i+wind_size]] \n",
    "        X.append(row)\n",
    "        label = df_np[i+wind_size][0] # target index\n",
    "        y.append(label)\n",
    "    return np.array(X), np.array(y) "
   ]
  },
  {
   "cell_type": "code",
   "execution_count": 92,
   "metadata": {},
   "outputs": [
    {
     "data": {
      "text/plain": [
       "((1818, 30, 23), (1818,), (432, 30, 23), (432,))"
      ]
     },
     "execution_count": 92,
     "metadata": {},
     "output_type": "execute_result"
    }
   ],
   "source": [
    "X_v1_train, y_v1_train = vol1_price_model(train_scaled, 30)\n",
    "X_v1_test, y_v1_test = vol1_price_model(test_scaled, 30)\n",
    "X_v1_train.shape, y_v1_train.shape, X_v1_test.shape, y_v1_test.shape"
   ]
  },
  {
   "cell_type": "code",
   "execution_count": 93,
   "metadata": {},
   "outputs": [],
   "source": [
    "def build_model_vol1(hp):\n",
    "    model = Sequential()\n",
    "    model.add(InputLayer((X_close_train.shape[1], X_close_train.shape[2])))\n",
    "    \n",
    "    lstm_units = hp.Choice('lstm_units', values=[64, 128, 256])\n",
    "    model.add(LSTM(lstm_units, return_sequences=True))\n",
    "    \n",
    "    dropout_rate = hp.Choice('dropout_rate', values=[0.2, 0.4])\n",
    "    model.add(Dropout(dropout_rate))\n",
    "    \n",
    "    model.add(LSTM(lstm_units))\n",
    "    model.add(Dropout(dropout_rate))\n",
    "    \n",
    "    activation_function = hp.Choice('activation_function', values=['relu', 'tanh'])\n",
    "    dense_units = hp.Choice('dense_units', values=[16, 32, 64])  \n",
    "    model.add(Dense(dense_units, activation=activation_function))\n",
    "    model.add(Dense(1, activation='linear'))\n",
    "    \n",
    "    learning_rate = hp.Choice('learning_rate', values=[0.001, 0.01, 0.1])\n",
    "    model.compile(\n",
    "        loss=MeanSquaredError(),\n",
    "        optimizer=Adam(learning_rate=learning_rate),\n",
    "        metrics=[RootMeanSquaredError()]\n",
    "    )\n",
    "    return model"
   ]
  },
  {
   "cell_type": "code",
   "execution_count": 94,
   "metadata": {},
   "outputs": [],
   "source": [
    "tuner_vol1 = kt.RandomSearch(\n",
    "    build_model_vol1,\n",
    "    objective='val_loss',\n",
    "    max_trials=20,\n",
    "    executions_per_trial=1,\n",
    "    directory='vol1_002',\n",
    "    project_name='lstm_tuning_v1'\n",
    ")"
   ]
  },
  {
   "cell_type": "code",
   "execution_count": 95,
   "metadata": {},
   "outputs": [
    {
     "name": "stdout",
     "output_type": "stream",
     "text": [
      "Trial 20 Complete [00h 02m 12s]\n",
      "val_loss: 0.0013798951404169202\n",
      "\n",
      "Best val_loss So Far: 0.0013432851992547512\n",
      "Total elapsed time: 00h 28m 51s\n"
     ]
    }
   ],
   "source": [
    "tuner_vol1.search(\n",
    "    X_v1_train, y_v1_train,\n",
    "    epochs= 20,\n",
    "    batch_size= 32,\n",
    "    validation_data=(X_v1_test, y_v1_test)\n",
    ")"
   ]
  },
  {
   "cell_type": "code",
   "execution_count": 96,
   "metadata": {},
   "outputs": [
    {
     "name": "stderr",
     "output_type": "stream",
     "text": [
      "c:\\Users\\Ha Tung Lam\\anaconda3\\Lib\\site-packages\\keras\\src\\saving\\saving_lib.py:576: UserWarning: Skipping variable loading for optimizer 'adam', because it has 2 variables whereas the saved optimizer has 22 variables. \n",
      "  saveable.load_own_variables(weights_store.get(inner_path))\n"
     ]
    }
   ],
   "source": [
    "best_model_vol1 = tuner_vol1.get_best_models(num_models=1)[0]"
   ]
  },
  {
   "cell_type": "code",
   "execution_count": 97,
   "metadata": {},
   "outputs": [
    {
     "name": "stdout",
     "output_type": "stream",
     "text": [
      "Results summary\n",
      "Results in vol1_002\\lstm_tuning_v1\n",
      "Showing 10 best trials\n",
      "Objective(name=\"val_loss\", direction=\"min\")\n",
      "\n",
      "Trial 00 summary\n",
      "Hyperparameters:\n",
      "lstm_units: 64\n",
      "dropout_rate: 0.2\n",
      "activation_function: tanh\n",
      "dense_units: 16\n",
      "learning_rate: 0.01\n",
      "Score: 0.0013432851992547512\n",
      "\n",
      "Trial 09 summary\n",
      "Hyperparameters:\n",
      "lstm_units: 64\n",
      "dropout_rate: 0.2\n",
      "activation_function: relu\n",
      "dense_units: 16\n",
      "learning_rate: 0.01\n",
      "Score: 0.001348624238744378\n",
      "\n",
      "Trial 12 summary\n",
      "Hyperparameters:\n",
      "lstm_units: 128\n",
      "dropout_rate: 0.2\n",
      "activation_function: tanh\n",
      "dense_units: 32\n",
      "learning_rate: 0.001\n",
      "Score: 0.0013685026206076145\n",
      "\n",
      "Trial 18 summary\n",
      "Hyperparameters:\n",
      "lstm_units: 256\n",
      "dropout_rate: 0.2\n",
      "activation_function: tanh\n",
      "dense_units: 16\n",
      "learning_rate: 0.001\n",
      "Score: 0.001373247941955924\n",
      "\n",
      "Trial 01 summary\n",
      "Hyperparameters:\n",
      "lstm_units: 256\n",
      "dropout_rate: 0.4\n",
      "activation_function: relu\n",
      "dense_units: 64\n",
      "learning_rate: 0.001\n",
      "Score: 0.0013752615777775645\n",
      "\n",
      "Trial 15 summary\n",
      "Hyperparameters:\n",
      "lstm_units: 128\n",
      "dropout_rate: 0.2\n",
      "activation_function: relu\n",
      "dense_units: 32\n",
      "learning_rate: 0.01\n",
      "Score: 0.0013766360934823751\n",
      "\n",
      "Trial 19 summary\n",
      "Hyperparameters:\n",
      "lstm_units: 256\n",
      "dropout_rate: 0.4\n",
      "activation_function: relu\n",
      "dense_units: 32\n",
      "learning_rate: 0.001\n",
      "Score: 0.0013798951404169202\n",
      "\n",
      "Trial 04 summary\n",
      "Hyperparameters:\n",
      "lstm_units: 128\n",
      "dropout_rate: 0.2\n",
      "activation_function: tanh\n",
      "dense_units: 16\n",
      "learning_rate: 0.001\n",
      "Score: 0.0013814507983624935\n",
      "\n",
      "Trial 08 summary\n",
      "Hyperparameters:\n",
      "lstm_units: 256\n",
      "dropout_rate: 0.2\n",
      "activation_function: relu\n",
      "dense_units: 16\n",
      "learning_rate: 0.001\n",
      "Score: 0.001394097227603197\n",
      "\n",
      "Trial 16 summary\n",
      "Hyperparameters:\n",
      "lstm_units: 256\n",
      "dropout_rate: 0.4\n",
      "activation_function: tanh\n",
      "dense_units: 16\n",
      "learning_rate: 0.001\n",
      "Score: 0.0014094733633100986\n"
     ]
    }
   ],
   "source": [
    "tuner_vol1.results_summary()"
   ]
  },
  {
   "cell_type": "code",
   "execution_count": 98,
   "metadata": {},
   "outputs": [],
   "source": [
    "best_hps_vol1 = tuner_vol1.get_best_hyperparameters(num_trials=1)[0]"
   ]
  },
  {
   "cell_type": "code",
   "execution_count": 99,
   "metadata": {},
   "outputs": [
    {
     "name": "stdout",
     "output_type": "stream",
     "text": [
      "\n",
      "The best hyperparameters are:\n",
      "- lstm_units: 64\n",
      "- dropout_rate: 0.2\n",
      "- activation function: tanh\n",
      "- dense_units: 16\n",
      "- learning_rate: 0.01\n",
      "\n"
     ]
    }
   ],
   "source": [
    "print(f\"\"\"\n",
    "The best hyperparameters are:\n",
    "- lstm_units: {best_hps_vol1.get('lstm_units')}\n",
    "- dropout_rate: {best_hps_vol1.get('dropout_rate')}\n",
    "- activation function: {best_hps_vol1.get('activation_function')}\n",
    "- dense_units: {best_hps_vol1.get('dense_units')}\n",
    "- learning_rate: {best_hps_vol1.get('learning_rate')}\n",
    "\"\"\")"
   ]
  },
  {
   "cell_type": "code",
   "execution_count": 100,
   "metadata": {},
   "outputs": [
    {
     "name": "stdout",
     "output_type": "stream",
     "text": [
      "\u001b[1m14/14\u001b[0m \u001b[32m━━━━━━━━━━━━━━━━━━━━\u001b[0m\u001b[37m\u001b[0m \u001b[1m1s\u001b[0m 31ms/step\n"
     ]
    },
    {
     "data": {
      "text/html": [
       "<div>\n",
       "<style scoped>\n",
       "    .dataframe tbody tr th:only-of-type {\n",
       "        vertical-align: middle;\n",
       "    }\n",
       "\n",
       "    .dataframe tbody tr th {\n",
       "        vertical-align: top;\n",
       "    }\n",
       "\n",
       "    .dataframe thead th {\n",
       "        text-align: right;\n",
       "    }\n",
       "</style>\n",
       "<table border=\"1\" class=\"dataframe\">\n",
       "  <thead>\n",
       "    <tr style=\"text-align: right;\">\n",
       "      <th></th>\n",
       "      <th>Test Pred</th>\n",
       "      <th>Actual</th>\n",
       "    </tr>\n",
       "  </thead>\n",
       "  <tbody>\n",
       "    <tr>\n",
       "      <th>0</th>\n",
       "      <td>0.089694</td>\n",
       "      <td>0.079889</td>\n",
       "    </tr>\n",
       "    <tr>\n",
       "      <th>1</th>\n",
       "      <td>0.083781</td>\n",
       "      <td>0.091336</td>\n",
       "    </tr>\n",
       "    <tr>\n",
       "      <th>2</th>\n",
       "      <td>0.083310</td>\n",
       "      <td>0.111259</td>\n",
       "    </tr>\n",
       "    <tr>\n",
       "      <th>3</th>\n",
       "      <td>0.084449</td>\n",
       "      <td>0.064627</td>\n",
       "    </tr>\n",
       "    <tr>\n",
       "      <th>4</th>\n",
       "      <td>0.074159</td>\n",
       "      <td>0.028034</td>\n",
       "    </tr>\n",
       "    <tr>\n",
       "      <th>...</th>\n",
       "      <td>...</td>\n",
       "      <td>...</td>\n",
       "    </tr>\n",
       "    <tr>\n",
       "      <th>427</th>\n",
       "      <td>0.032972</td>\n",
       "      <td>0.078970</td>\n",
       "    </tr>\n",
       "    <tr>\n",
       "      <th>428</th>\n",
       "      <td>0.050814</td>\n",
       "      <td>0.039090</td>\n",
       "    </tr>\n",
       "    <tr>\n",
       "      <th>429</th>\n",
       "      <td>0.045817</td>\n",
       "      <td>0.057859</td>\n",
       "    </tr>\n",
       "    <tr>\n",
       "      <th>430</th>\n",
       "      <td>0.043213</td>\n",
       "      <td>0.047275</td>\n",
       "    </tr>\n",
       "    <tr>\n",
       "      <th>431</th>\n",
       "      <td>0.049549</td>\n",
       "      <td>0.008445</td>\n",
       "    </tr>\n",
       "  </tbody>\n",
       "</table>\n",
       "<p>432 rows × 2 columns</p>\n",
       "</div>"
      ],
      "text/plain": [
       "     Test Pred    Actual\n",
       "0     0.089694  0.079889\n",
       "1     0.083781  0.091336\n",
       "2     0.083310  0.111259\n",
       "3     0.084449  0.064627\n",
       "4     0.074159  0.028034\n",
       "..         ...       ...\n",
       "427   0.032972  0.078970\n",
       "428   0.050814  0.039090\n",
       "429   0.045817  0.057859\n",
       "430   0.043213  0.047275\n",
       "431   0.049549  0.008445\n",
       "\n",
       "[432 rows x 2 columns]"
      ]
     },
     "execution_count": 100,
     "metadata": {},
     "output_type": "execute_result"
    }
   ],
   "source": [
    "y_test_best_pred_vol1 = best_model_vol1.predict(X_v1_test).flatten()\n",
    "best_test_result_vol1 = pd.DataFrame(data= {'Test Pred':y_test_best_pred_vol1, 'Actual':y_v1_test.flatten()})\n",
    "best_test_result_vol1"
   ]
  },
  {
   "cell_type": "code",
   "execution_count": 101,
   "metadata": {},
   "outputs": [
    {
     "data": {
      "text/plain": [
       "'The RMSE of the model predicting VOL_1 on the Test set: 0.03665085397078069'"
      ]
     },
     "execution_count": 101,
     "metadata": {},
     "output_type": "execute_result"
    }
   ],
   "source": [
    "RMSE_vol1 = np.sqrt(mean_squared_error(y_v1_test, y_test_best_pred_vol1))\n",
    "(f\"\"\"The RMSE of the model predicting VOL_1 on the Test set: {RMSE_vol1}\"\"\")"
   ]
  },
  {
   "cell_type": "code",
   "execution_count": 102,
   "metadata": {},
   "outputs": [
    {
     "data": {
      "image/png": "[encoded data removed]",
      "text/plain": [
       "<Figure size 640x480 with 1 Axes>"
      ]
     },
     "metadata": {},
     "output_type": "display_data"
    }
   ],
   "source": [
    "plt.plot(best_test_result_vol1['Test Pred'], label='Predicted', color='red')\n",
    "plt.plot(best_test_result_vol1['Actual'], label='Actual', color='blue')\n",
    "plt.title('Close Price Values after tuning vs Actual Close Price')\n",
    "plt.legend(loc='upper left')\n",
    "plt.show()"
   ]
  }
 ],
 "metadata": {
  "kernelspec": {
   "display_name": "base",
   "language": "python",
   "name": "python3"
  },
  "language_info": {
   "codemirror_mode": {
    "name": "ipython",
    "version": 3
   },
   "file_extension": ".py",
   "mimetype": "text/x-python",
   "name": "python",
   "nbconvert_exporter": "python",
   "pygments_lexer": "ipython3",
   "version": "3.11.8"
  }
 },
 "nbformat": 4,
 "nbformat_minor": 2
}
