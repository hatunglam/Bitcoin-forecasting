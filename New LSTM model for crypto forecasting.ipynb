{
 "cells": [
  {
   "cell_type": "code",
   "execution_count": 82,
   "metadata": {},
   "outputs": [],
   "source": [
    "import pandas as pd\n",
    "import numpy as np\n",
    "import matplotlib.pyplot as plt\n",
    "import seaborn as sns\n",
    "from sklearn.preprocessing import MinMaxScaler\n",
    "from sklearn.metrics import mean_squared_error"
   ]
  },
  {
   "cell_type": "markdown",
   "metadata": {},
   "source": [
    "## Import the Data "
   ]
  },
  {
   "cell_type": "code",
   "execution_count": 31,
   "metadata": {},
   "outputs": [
    {
     "data": {
      "text/html": [
       "<div>\n",
       "<style scoped>\n",
       "    .dataframe tbody tr th:only-of-type {\n",
       "        vertical-align: middle;\n",
       "    }\n",
       "\n",
       "    .dataframe tbody tr th {\n",
       "        vertical-align: top;\n",
       "    }\n",
       "\n",
       "    .dataframe thead th {\n",
       "        text-align: right;\n",
       "    }\n",
       "</style>\n",
       "<table border=\"1\" class=\"dataframe\">\n",
       "  <thead>\n",
       "    <tr style=\"text-align: right;\">\n",
       "      <th></th>\n",
       "      <th>Date</th>\n",
       "      <th>Month</th>\n",
       "      <th>Year</th>\n",
       "      <th>VOL1</th>\n",
       "      <th>VOL7</th>\n",
       "      <th>VOL30</th>\n",
       "      <th>ClosePrice</th>\n",
       "      <th>OpenPrice</th>\n",
       "      <th>HighPrice</th>\n",
       "      <th>LowPrice</th>\n",
       "      <th>Market Volumn</th>\n",
       "      <th>Average Block Size</th>\n",
       "      <th>Average Transaction Per Block</th>\n",
       "      <th>Hash Rate</th>\n",
       "      <th>Network Difficulty</th>\n",
       "      <th>Unique Addresses</th>\n",
       "      <th>Transactions Per Second</th>\n",
       "      <th>SP500</th>\n",
       "      <th>RUSSELL</th>\n",
       "      <th>Oil</th>\n",
       "      <th>Gold</th>\n",
       "      <th>Silver</th>\n",
       "      <th>USDEUR</th>\n",
       "      <th>USDYUAN</th>\n",
       "      <th>Interest Rate</th>\n",
       "      <th>Economic Uncertainty</th>\n",
       "      <th>Crypto Index</th>\n",
       "    </tr>\n",
       "  </thead>\n",
       "  <tbody>\n",
       "    <tr>\n",
       "      <th>0</th>\n",
       "      <td>04/02/2018</td>\n",
       "      <td>2</td>\n",
       "      <td>2018</td>\n",
       "      <td>0.058984</td>\n",
       "      <td>0.104624</td>\n",
       "      <td>0.204218</td>\n",
       "      <td>8277.01</td>\n",
       "      <td>9175.70</td>\n",
       "      <td>9334.87</td>\n",
       "      <td>8031.22</td>\n",
       "      <td>7.073550e+09</td>\n",
       "      <td>0.99</td>\n",
       "      <td>975.77</td>\n",
       "      <td>23033142.1</td>\n",
       "      <td>2.603080e+12</td>\n",
       "      <td>396695</td>\n",
       "      <td>2.05</td>\n",
       "      <td>2648.94</td>\n",
       "      <td>1491.09</td>\n",
       "      <td>64.18</td>\n",
       "      <td>1336.5</td>\n",
       "      <td>16.71</td>\n",
       "      <td>0.80</td>\n",
       "      <td>6.30</td>\n",
       "      <td>1.80</td>\n",
       "      <td>0.234505</td>\n",
       "      <td>30</td>\n",
       "    </tr>\n",
       "    <tr>\n",
       "      <th>1</th>\n",
       "      <td>05/02/2018</td>\n",
       "      <td>2</td>\n",
       "      <td>2018</td>\n",
       "      <td>0.082982</td>\n",
       "      <td>0.130688</td>\n",
       "      <td>0.219808</td>\n",
       "      <td>6955.27</td>\n",
       "      <td>8270.54</td>\n",
       "      <td>8364.84</td>\n",
       "      <td>6756.68</td>\n",
       "      <td>9.285290e+09</td>\n",
       "      <td>1.10</td>\n",
       "      <td>1169.53</td>\n",
       "      <td>23938939.8</td>\n",
       "      <td>2.603080e+12</td>\n",
       "      <td>486554</td>\n",
       "      <td>1.93</td>\n",
       "      <td>2648.94</td>\n",
       "      <td>1491.09</td>\n",
       "      <td>64.18</td>\n",
       "      <td>1336.5</td>\n",
       "      <td>16.67</td>\n",
       "      <td>0.80</td>\n",
       "      <td>6.31</td>\n",
       "      <td>1.80</td>\n",
       "      <td>0.248054</td>\n",
       "      <td>15</td>\n",
       "    </tr>\n",
       "    <tr>\n",
       "      <th>2</th>\n",
       "      <td>06/02/2018</td>\n",
       "      <td>2</td>\n",
       "      <td>2018</td>\n",
       "      <td>0.041061</td>\n",
       "      <td>0.134668</td>\n",
       "      <td>0.221316</td>\n",
       "      <td>7754.00</td>\n",
       "      <td>7051.75</td>\n",
       "      <td>7850.70</td>\n",
       "      <td>6048.26</td>\n",
       "      <td>1.399980e+10</td>\n",
       "      <td>1.07</td>\n",
       "      <td>1436.00</td>\n",
       "      <td>24293141.3</td>\n",
       "      <td>2.607870e+12</td>\n",
       "      <td>589897</td>\n",
       "      <td>2.47</td>\n",
       "      <td>2695.14</td>\n",
       "      <td>1507.17</td>\n",
       "      <td>63.48</td>\n",
       "      <td>1329.5</td>\n",
       "      <td>16.58</td>\n",
       "      <td>0.81</td>\n",
       "      <td>6.29</td>\n",
       "      <td>1.82</td>\n",
       "      <td>0.223228</td>\n",
       "      <td>40</td>\n",
       "    </tr>\n",
       "    <tr>\n",
       "      <th>3</th>\n",
       "      <td>07/02/2018</td>\n",
       "      <td>2</td>\n",
       "      <td>2018</td>\n",
       "      <td>0.041213</td>\n",
       "      <td>0.136422</td>\n",
       "      <td>0.222866</td>\n",
       "      <td>7621.30</td>\n",
       "      <td>7755.49</td>\n",
       "      <td>8509.11</td>\n",
       "      <td>7236.79</td>\n",
       "      <td>9.169280e+09</td>\n",
       "      <td>1.07</td>\n",
       "      <td>1515.74</td>\n",
       "      <td>20149017.2</td>\n",
       "      <td>2.874670e+12</td>\n",
       "      <td>489403</td>\n",
       "      <td>2.69</td>\n",
       "      <td>2681.66</td>\n",
       "      <td>1507.97</td>\n",
       "      <td>61.91</td>\n",
       "      <td>1314.6</td>\n",
       "      <td>16.24</td>\n",
       "      <td>0.81</td>\n",
       "      <td>6.28</td>\n",
       "      <td>1.85</td>\n",
       "      <td>0.201785</td>\n",
       "      <td>24</td>\n",
       "    </tr>\n",
       "    <tr>\n",
       "      <th>4</th>\n",
       "      <td>08/02/2018</td>\n",
       "      <td>2</td>\n",
       "      <td>2018</td>\n",
       "      <td>0.030796</td>\n",
       "      <td>0.130387</td>\n",
       "      <td>0.222486</td>\n",
       "      <td>8265.59</td>\n",
       "      <td>7637.86</td>\n",
       "      <td>8558.77</td>\n",
       "      <td>7637.86</td>\n",
       "      <td>9.346750e+09</td>\n",
       "      <td>1.05</td>\n",
       "      <td>1322.82</td>\n",
       "      <td>18720008.9</td>\n",
       "      <td>2.874670e+12</td>\n",
       "      <td>398608</td>\n",
       "      <td>2.39</td>\n",
       "      <td>2581.00</td>\n",
       "      <td>1463.79</td>\n",
       "      <td>61.30</td>\n",
       "      <td>1319.0</td>\n",
       "      <td>16.34</td>\n",
       "      <td>0.82</td>\n",
       "      <td>6.27</td>\n",
       "      <td>1.85</td>\n",
       "      <td>0.183604</td>\n",
       "      <td>11</td>\n",
       "    </tr>\n",
       "  </tbody>\n",
       "</table>\n",
       "</div>"
      ],
      "text/plain": [
       "         Date  Month  Year      VOL1      VOL7     VOL30  ClosePrice   \\\n",
       "0  04/02/2018      2  2018  0.058984  0.104624  0.204218      8277.01   \n",
       "1  05/02/2018      2  2018  0.082982  0.130688  0.219808      6955.27   \n",
       "2  06/02/2018      2  2018  0.041061  0.134668  0.221316      7754.00   \n",
       "3  07/02/2018      2  2018  0.041213  0.136422  0.222866      7621.30   \n",
       "4  08/02/2018      2  2018  0.030796  0.130387  0.222486      8265.59   \n",
       "\n",
       "   OpenPrice  HighPrice  LowPrice  Market Volumn  Average Block Size  \\\n",
       "0    9175.70    9334.87   8031.22   7.073550e+09                0.99   \n",
       "1    8270.54    8364.84   6756.68   9.285290e+09                1.10   \n",
       "2    7051.75    7850.70   6048.26   1.399980e+10                1.07   \n",
       "3    7755.49    8509.11   7236.79   9.169280e+09                1.07   \n",
       "4    7637.86    8558.77   7637.86   9.346750e+09                1.05   \n",
       "\n",
       "   Average Transaction Per Block   Hash Rate  Network Difficulty  \\\n",
       "0                         975.77  23033142.1        2.603080e+12   \n",
       "1                        1169.53  23938939.8        2.603080e+12   \n",
       "2                        1436.00  24293141.3        2.607870e+12   \n",
       "3                        1515.74  20149017.2        2.874670e+12   \n",
       "4                        1322.82  18720008.9        2.874670e+12   \n",
       "\n",
       "   Unique Addresses  Transactions Per Second    SP500  RUSSELL    Oil    Gold  \\\n",
       "0            396695                     2.05  2648.94  1491.09  64.18  1336.5   \n",
       "1            486554                     1.93  2648.94  1491.09  64.18  1336.5   \n",
       "2            589897                     2.47  2695.14  1507.17  63.48  1329.5   \n",
       "3            489403                     2.69  2681.66  1507.97  61.91  1314.6   \n",
       "4            398608                     2.39  2581.00  1463.79  61.30  1319.0   \n",
       "\n",
       "   Silver  USDEUR  USDYUAN  Interest Rate  Economic Uncertainty  Crypto Index  \n",
       "0   16.71    0.80     6.30           1.80              0.234505            30  \n",
       "1   16.67    0.80     6.31           1.80              0.248054            15  \n",
       "2   16.58    0.81     6.29           1.82              0.223228            40  \n",
       "3   16.24    0.81     6.28           1.85              0.201785            24  \n",
       "4   16.34    0.82     6.27           1.85              0.183604            11  "
      ]
     },
     "execution_count": 31,
     "metadata": {},
     "output_type": "execute_result"
    }
   ],
   "source": [
    "df = pd.read_csv('BTC_Trial_NB.csv')\n",
    "df.head()"
   ]
  },
  {
   "cell_type": "code",
   "execution_count": 45,
   "metadata": {},
   "outputs": [
    {
     "data": {
      "text/html": [
       "<div>\n",
       "<style scoped>\n",
       "    .dataframe tbody tr th:only-of-type {\n",
       "        vertical-align: middle;\n",
       "    }\n",
       "\n",
       "    .dataframe tbody tr th {\n",
       "        vertical-align: top;\n",
       "    }\n",
       "\n",
       "    .dataframe thead th {\n",
       "        text-align: right;\n",
       "    }\n",
       "</style>\n",
       "<table border=\"1\" class=\"dataframe\">\n",
       "  <thead>\n",
       "    <tr style=\"text-align: right;\">\n",
       "      <th></th>\n",
       "      <th>Month</th>\n",
       "      <th>Year</th>\n",
       "      <th>VOL1</th>\n",
       "      <th>VOL7</th>\n",
       "      <th>VOL30</th>\n",
       "      <th>ClosePrice</th>\n",
       "      <th>OpenPrice</th>\n",
       "      <th>HighPrice</th>\n",
       "      <th>LowPrice</th>\n",
       "      <th>Market Volumn</th>\n",
       "      <th>Average Block Size</th>\n",
       "      <th>Average Transaction Per Block</th>\n",
       "      <th>Hash Rate</th>\n",
       "      <th>Network Difficulty</th>\n",
       "      <th>Unique Addresses</th>\n",
       "      <th>Transactions Per Second</th>\n",
       "      <th>SP500</th>\n",
       "      <th>RUSSELL</th>\n",
       "      <th>Oil</th>\n",
       "      <th>Gold</th>\n",
       "      <th>Silver</th>\n",
       "      <th>USDEUR</th>\n",
       "      <th>USDYUAN</th>\n",
       "      <th>Interest Rate</th>\n",
       "      <th>Economic Uncertainty</th>\n",
       "      <th>Crypto Index</th>\n",
       "    </tr>\n",
       "    <tr>\n",
       "      <th>Date</th>\n",
       "      <th></th>\n",
       "      <th></th>\n",
       "      <th></th>\n",
       "      <th></th>\n",
       "      <th></th>\n",
       "      <th></th>\n",
       "      <th></th>\n",
       "      <th></th>\n",
       "      <th></th>\n",
       "      <th></th>\n",
       "      <th></th>\n",
       "      <th></th>\n",
       "      <th></th>\n",
       "      <th></th>\n",
       "      <th></th>\n",
       "      <th></th>\n",
       "      <th></th>\n",
       "      <th></th>\n",
       "      <th></th>\n",
       "      <th></th>\n",
       "      <th></th>\n",
       "      <th></th>\n",
       "      <th></th>\n",
       "      <th></th>\n",
       "      <th></th>\n",
       "      <th></th>\n",
       "    </tr>\n",
       "  </thead>\n",
       "  <tbody>\n",
       "    <tr>\n",
       "      <th>2018-02-04</th>\n",
       "      <td>2</td>\n",
       "      <td>2018</td>\n",
       "      <td>0.058984</td>\n",
       "      <td>0.104624</td>\n",
       "      <td>0.204218</td>\n",
       "      <td>8277.01</td>\n",
       "      <td>9175.70</td>\n",
       "      <td>9334.87</td>\n",
       "      <td>8031.22</td>\n",
       "      <td>7.073550e+09</td>\n",
       "      <td>0.99</td>\n",
       "      <td>975.77</td>\n",
       "      <td>23033142.1</td>\n",
       "      <td>2.603080e+12</td>\n",
       "      <td>396695</td>\n",
       "      <td>2.05</td>\n",
       "      <td>2648.94</td>\n",
       "      <td>1491.09</td>\n",
       "      <td>64.18</td>\n",
       "      <td>1336.5</td>\n",
       "      <td>16.71</td>\n",
       "      <td>0.80</td>\n",
       "      <td>6.30</td>\n",
       "      <td>1.80</td>\n",
       "      <td>0.234505</td>\n",
       "      <td>30</td>\n",
       "    </tr>\n",
       "    <tr>\n",
       "      <th>2018-02-05</th>\n",
       "      <td>2</td>\n",
       "      <td>2018</td>\n",
       "      <td>0.082982</td>\n",
       "      <td>0.130688</td>\n",
       "      <td>0.219808</td>\n",
       "      <td>6955.27</td>\n",
       "      <td>8270.54</td>\n",
       "      <td>8364.84</td>\n",
       "      <td>6756.68</td>\n",
       "      <td>9.285290e+09</td>\n",
       "      <td>1.10</td>\n",
       "      <td>1169.53</td>\n",
       "      <td>23938939.8</td>\n",
       "      <td>2.603080e+12</td>\n",
       "      <td>486554</td>\n",
       "      <td>1.93</td>\n",
       "      <td>2648.94</td>\n",
       "      <td>1491.09</td>\n",
       "      <td>64.18</td>\n",
       "      <td>1336.5</td>\n",
       "      <td>16.67</td>\n",
       "      <td>0.80</td>\n",
       "      <td>6.31</td>\n",
       "      <td>1.80</td>\n",
       "      <td>0.248054</td>\n",
       "      <td>15</td>\n",
       "    </tr>\n",
       "    <tr>\n",
       "      <th>2018-02-06</th>\n",
       "      <td>2</td>\n",
       "      <td>2018</td>\n",
       "      <td>0.041061</td>\n",
       "      <td>0.134668</td>\n",
       "      <td>0.221316</td>\n",
       "      <td>7754.00</td>\n",
       "      <td>7051.75</td>\n",
       "      <td>7850.70</td>\n",
       "      <td>6048.26</td>\n",
       "      <td>1.399980e+10</td>\n",
       "      <td>1.07</td>\n",
       "      <td>1436.00</td>\n",
       "      <td>24293141.3</td>\n",
       "      <td>2.607870e+12</td>\n",
       "      <td>589897</td>\n",
       "      <td>2.47</td>\n",
       "      <td>2695.14</td>\n",
       "      <td>1507.17</td>\n",
       "      <td>63.48</td>\n",
       "      <td>1329.5</td>\n",
       "      <td>16.58</td>\n",
       "      <td>0.81</td>\n",
       "      <td>6.29</td>\n",
       "      <td>1.82</td>\n",
       "      <td>0.223228</td>\n",
       "      <td>40</td>\n",
       "    </tr>\n",
       "    <tr>\n",
       "      <th>2018-02-07</th>\n",
       "      <td>2</td>\n",
       "      <td>2018</td>\n",
       "      <td>0.041213</td>\n",
       "      <td>0.136422</td>\n",
       "      <td>0.222866</td>\n",
       "      <td>7621.30</td>\n",
       "      <td>7755.49</td>\n",
       "      <td>8509.11</td>\n",
       "      <td>7236.79</td>\n",
       "      <td>9.169280e+09</td>\n",
       "      <td>1.07</td>\n",
       "      <td>1515.74</td>\n",
       "      <td>20149017.2</td>\n",
       "      <td>2.874670e+12</td>\n",
       "      <td>489403</td>\n",
       "      <td>2.69</td>\n",
       "      <td>2681.66</td>\n",
       "      <td>1507.97</td>\n",
       "      <td>61.91</td>\n",
       "      <td>1314.6</td>\n",
       "      <td>16.24</td>\n",
       "      <td>0.81</td>\n",
       "      <td>6.28</td>\n",
       "      <td>1.85</td>\n",
       "      <td>0.201785</td>\n",
       "      <td>24</td>\n",
       "    </tr>\n",
       "    <tr>\n",
       "      <th>2018-02-08</th>\n",
       "      <td>2</td>\n",
       "      <td>2018</td>\n",
       "      <td>0.030796</td>\n",
       "      <td>0.130387</td>\n",
       "      <td>0.222486</td>\n",
       "      <td>8265.59</td>\n",
       "      <td>7637.86</td>\n",
       "      <td>8558.77</td>\n",
       "      <td>7637.86</td>\n",
       "      <td>9.346750e+09</td>\n",
       "      <td>1.05</td>\n",
       "      <td>1322.82</td>\n",
       "      <td>18720008.9</td>\n",
       "      <td>2.874670e+12</td>\n",
       "      <td>398608</td>\n",
       "      <td>2.39</td>\n",
       "      <td>2581.00</td>\n",
       "      <td>1463.79</td>\n",
       "      <td>61.30</td>\n",
       "      <td>1319.0</td>\n",
       "      <td>16.34</td>\n",
       "      <td>0.82</td>\n",
       "      <td>6.27</td>\n",
       "      <td>1.85</td>\n",
       "      <td>0.183604</td>\n",
       "      <td>11</td>\n",
       "    </tr>\n",
       "  </tbody>\n",
       "</table>\n",
       "</div>"
      ],
      "text/plain": [
       "            Month  Year      VOL1      VOL7     VOL30  ClosePrice   OpenPrice  \\\n",
       "Date                                                                            \n",
       "2018-02-04      2  2018  0.058984  0.104624  0.204218      8277.01    9175.70   \n",
       "2018-02-05      2  2018  0.082982  0.130688  0.219808      6955.27    8270.54   \n",
       "2018-02-06      2  2018  0.041061  0.134668  0.221316      7754.00    7051.75   \n",
       "2018-02-07      2  2018  0.041213  0.136422  0.222866      7621.30    7755.49   \n",
       "2018-02-08      2  2018  0.030796  0.130387  0.222486      8265.59    7637.86   \n",
       "\n",
       "            HighPrice  LowPrice  Market Volumn  Average Block Size  \\\n",
       "Date                                                                 \n",
       "2018-02-04    9334.87   8031.22   7.073550e+09                0.99   \n",
       "2018-02-05    8364.84   6756.68   9.285290e+09                1.10   \n",
       "2018-02-06    7850.70   6048.26   1.399980e+10                1.07   \n",
       "2018-02-07    8509.11   7236.79   9.169280e+09                1.07   \n",
       "2018-02-08    8558.77   7637.86   9.346750e+09                1.05   \n",
       "\n",
       "            Average Transaction Per Block   Hash Rate  Network Difficulty  \\\n",
       "Date                                                                        \n",
       "2018-02-04                         975.77  23033142.1        2.603080e+12   \n",
       "2018-02-05                        1169.53  23938939.8        2.603080e+12   \n",
       "2018-02-06                        1436.00  24293141.3        2.607870e+12   \n",
       "2018-02-07                        1515.74  20149017.2        2.874670e+12   \n",
       "2018-02-08                        1322.82  18720008.9        2.874670e+12   \n",
       "\n",
       "            Unique Addresses  Transactions Per Second    SP500  RUSSELL  \\\n",
       "Date                                                                      \n",
       "2018-02-04            396695                     2.05  2648.94  1491.09   \n",
       "2018-02-05            486554                     1.93  2648.94  1491.09   \n",
       "2018-02-06            589897                     2.47  2695.14  1507.17   \n",
       "2018-02-07            489403                     2.69  2681.66  1507.97   \n",
       "2018-02-08            398608                     2.39  2581.00  1463.79   \n",
       "\n",
       "              Oil    Gold  Silver  USDEUR  USDYUAN  Interest Rate  \\\n",
       "Date                                                                \n",
       "2018-02-04  64.18  1336.5   16.71    0.80     6.30           1.80   \n",
       "2018-02-05  64.18  1336.5   16.67    0.80     6.31           1.80   \n",
       "2018-02-06  63.48  1329.5   16.58    0.81     6.29           1.82   \n",
       "2018-02-07  61.91  1314.6   16.24    0.81     6.28           1.85   \n",
       "2018-02-08  61.30  1319.0   16.34    0.82     6.27           1.85   \n",
       "\n",
       "            Economic Uncertainty  Crypto Index  \n",
       "Date                                            \n",
       "2018-02-04              0.234505            30  \n",
       "2018-02-05              0.248054            15  \n",
       "2018-02-06              0.223228            40  \n",
       "2018-02-07              0.201785            24  \n",
       "2018-02-08              0.183604            11  "
      ]
     },
     "execution_count": 45,
     "metadata": {},
     "output_type": "execute_result"
    }
   ],
   "source": [
    "df['Date'] = pd.to_datetime(df['Date'], dayfirst=True)\n",
    "df.set_index('Date', inplace= True)\n",
    "df.head()"
   ]
  },
  {
   "cell_type": "code",
   "execution_count": 46,
   "metadata": {},
   "outputs": [
    {
     "name": "stdout",
     "output_type": "stream",
     "text": [
      "<class 'pandas.core.frame.DataFrame'>\n",
      "DatetimeIndex: 2310 entries, 2018-02-04 to 2024-06-01\n",
      "Data columns (total 26 columns):\n",
      " #   Column                         Non-Null Count  Dtype  \n",
      "---  ------                         --------------  -----  \n",
      " 0   Month                          2310 non-null   int64  \n",
      " 1   Year                           2310 non-null   int64  \n",
      " 2   VOL1                           2310 non-null   float64\n",
      " 3   VOL7                           2310 non-null   float64\n",
      " 4   VOL30                          2310 non-null   float64\n",
      " 5   ClosePrice                     2310 non-null   float64\n",
      " 6   OpenPrice                      2310 non-null   float64\n",
      " 7   HighPrice                      2310 non-null   float64\n",
      " 8   LowPrice                       2310 non-null   float64\n",
      " 9   Market Volumn                  2310 non-null   float64\n",
      " 10  Average Block Size             2310 non-null   float64\n",
      " 11  Average Transaction Per Block  2310 non-null   float64\n",
      " 12  Hash Rate                      2310 non-null   float64\n",
      " 13  Network Difficulty             2310 non-null   float64\n",
      " 14  Unique Addresses               2310 non-null   int64  \n",
      " 15  Transactions Per Second        2310 non-null   float64\n",
      " 16  SP500                          2310 non-null   float64\n",
      " 17  RUSSELL                        2310 non-null   float64\n",
      " 18  Oil                            2310 non-null   float64\n",
      " 19  Gold                           2310 non-null   float64\n",
      " 20  Silver                         2310 non-null   float64\n",
      " 21  USDEUR                         2310 non-null   float64\n",
      " 22  USDYUAN                        2310 non-null   float64\n",
      " 23  Interest Rate                  2310 non-null   float64\n",
      " 24  Economic Uncertainty           2310 non-null   float64\n",
      " 25  Crypto Index                   2310 non-null   int64  \n",
      "dtypes: float64(22), int64(4)\n",
      "memory usage: 487.3 KB\n"
     ]
    }
   ],
   "source": [
    "pd.set_option('display.max_columns', None)\n",
    "df.info()"
   ]
  },
  {
   "cell_type": "code",
   "execution_count": 47,
   "metadata": {},
   "outputs": [
    {
     "data": {
      "text/plain": [
       "Month                            0\n",
       "Year                             0\n",
       "VOL1                             0\n",
       "VOL7                             0\n",
       "VOL30                            0\n",
       "ClosePrice                       0\n",
       "OpenPrice                        0\n",
       "HighPrice                        0\n",
       "LowPrice                         0\n",
       "Market Volumn                    0\n",
       "Average Block Size               0\n",
       "Average Transaction Per Block    0\n",
       "Hash Rate                        0\n",
       "Network Difficulty               0\n",
       "Unique Addresses                 0\n",
       "Transactions Per Second          0\n",
       "SP500                            0\n",
       "RUSSELL                          0\n",
       "Oil                              0\n",
       "Gold                             0\n",
       "Silver                           0\n",
       "USDEUR                           0\n",
       "USDYUAN                          0\n",
       "Interest Rate                    0\n",
       "Economic Uncertainty             0\n",
       "Crypto Index                     0\n",
       "dtype: int64"
      ]
     },
     "execution_count": 47,
     "metadata": {},
     "output_type": "execute_result"
    }
   ],
   "source": [
    "df.isna().sum()"
   ]
  },
  {
   "cell_type": "markdown",
   "metadata": {},
   "source": [
    "## Close price prediction using 1 variable"
   ]
  },
  {
   "cell_type": "markdown",
   "metadata": {},
   "source": [
    "Plotting the Close Price of BTC from 2018 to 2024"
   ]
  },
  {
   "cell_type": "code",
   "execution_count": 50,
   "metadata": {},
   "outputs": [
    {
     "data": {
      "image/png": "[encoded data removed]",
      "text/plain": [
       "<Figure size 640x480 with 1 Axes>"
      ]
     },
     "metadata": {},
     "output_type": "display_data"
    }
   ],
   "source": [
    "plt.plot(df['ClosePrice '])\n",
    "plt.xlabel('Year')\n",
    "plt.ylabel('Close price')\n",
    "plt.title('Close price of BTC from 2018 to 2024')\n",
    "plt.show()"
   ]
  },
  {
   "cell_type": "markdown",
   "metadata": {},
   "source": [
    "## 1. Data Preprocessing"
   ]
  },
  {
   "cell_type": "markdown",
   "metadata": {},
   "source": [
    "### 1.1 Create the input vector from Close Price column"
   ]
  },
  {
   "cell_type": "code",
   "execution_count": 65,
   "metadata": {},
   "outputs": [
    {
     "data": {
      "text/plain": [
       "(2310,)"
      ]
     },
     "execution_count": 65,
     "metadata": {},
     "output_type": "execute_result"
    }
   ],
   "source": [
    "close_df = df['ClosePrice '].values\n",
    "close_df.shape"
   ]
  },
  {
   "cell_type": "markdown",
   "metadata": {},
   "source": [
    "### 1.2 Scale the data"
   ]
  },
  {
   "cell_type": "code",
   "execution_count": 66,
   "metadata": {},
   "outputs": [
    {
     "data": {
      "text/plain": [
       "(2310, 1)"
      ]
     },
     "execution_count": 66,
     "metadata": {},
     "output_type": "execute_result"
    }
   ],
   "source": [
    "scaler = MinMaxScaler(feature_range= (0,1))\n",
    "scaled_close_df = scaler.fit_transform(close_df.reshape(-1,1))\n",
    "scaled_close_df.shape"
   ]
  },
  {
   "cell_type": "markdown",
   "metadata": {},
   "source": [
    "### 1.3 Create the reshaped input vector for the LSTM model "
   ]
  },
  {
   "cell_type": "code",
   "execution_count": 67,
   "metadata": {},
   "outputs": [],
   "source": [
    "def df_to_X_y(df, wind_size=5):\n",
    "    X = [] \n",
    "    y = []\n",
    "    for i in range(len(df) - wind_size):\n",
    "        row = [a for a in df[i : i+wind_size]] \n",
    "        X.append(row)\n",
    "        label = df[i+wind_size] \n",
    "        y.append(label)\n",
    "    return np.array(X), np.array(y) "
   ]
  },
  {
   "cell_type": "markdown",
   "metadata": {},
   "source": [
    "The input of the model is the scaled data of the closing price, with the time atep (window) of 30 observations"
   ]
  },
  {
   "cell_type": "code",
   "execution_count": 68,
   "metadata": {},
   "outputs": [
    {
     "data": {
      "text/plain": [
       "((2280, 30, 1), (2280, 1))"
      ]
     },
     "execution_count": 68,
     "metadata": {},
     "output_type": "execute_result"
    }
   ],
   "source": [
    "X, y = df_to_X_y(scaled_close_df, 30)\n",
    "X.shape, y.shape"
   ]
  },
  {
   "cell_type": "markdown",
   "metadata": {},
   "source": [
    "### 1.4 Train test split "
   ]
  },
  {
   "cell_type": "code",
   "execution_count": 69,
   "metadata": {},
   "outputs": [
    {
     "data": {
      "text/plain": [
       "1848"
      ]
     },
     "execution_count": 69,
     "metadata": {},
     "output_type": "execute_result"
    }
   ],
   "source": [
    "train_size = int(np.ceil(close_df.shape[0] * .8))\n",
    "train_size"
   ]
  },
  {
   "cell_type": "code",
   "execution_count": 64,
   "metadata": {},
   "outputs": [
    {
     "data": {
      "text/plain": [
       "((1848, 30, 1), (1848, 1), (432, 30, 1), (432, 1))"
      ]
     },
     "execution_count": 64,
     "metadata": {},
     "output_type": "execute_result"
    }
   ],
   "source": [
    "X_train, y_train = X[: train_size], y[: train_size]\n",
    "X_test, y_test = X[train_size:], y[train_size :]\n",
    "\n",
    "X_train.shape, y_train.shape, X_test.shape, y_test.shape"
   ]
  },
  {
   "cell_type": "markdown",
   "metadata": {},
   "source": [
    "## 2. Deep learning modelling: LSTM model with 1 LSTM layer and 2 Dense layers (Vanilla)"
   ]
  },
  {
   "cell_type": "markdown",
   "metadata": {},
   "source": [
    "### 2.1 Fitting the model"
   ]
  },
  {
   "cell_type": "code",
   "execution_count": 71,
   "metadata": {},
   "outputs": [],
   "source": [
    "from tensorflow.keras.models import Sequential\n",
    "from tensorflow.keras.layers  import *\n",
    "from tensorflow.keras.losses import MeanSquaredError \n",
    "from tensorflow.keras.metrics import RootMeanSquaredError\n",
    "from tensorflow.keras.optimizers import Adam"
   ]
  },
  {
   "cell_type": "code",
   "execution_count": 72,
   "metadata": {},
   "outputs": [
    {
     "data": {
      "text/html": [
       "<pre style=\"white-space:pre;overflow-x:auto;line-height:normal;font-family:Menlo,'DejaVu Sans Mono',consolas,'Courier New',monospace\"><span style=\"font-weight: bold\">Model: \"sequential\"</span>\n",
       "</pre>\n"
      ],
      "text/plain": [
       "\u001b[1mModel: \"sequential\"\u001b[0m\n"
      ]
     },
     "metadata": {},
     "output_type": "display_data"
    },
    {
     "data": {
      "text/html": [
       "<pre style=\"white-space:pre;overflow-x:auto;line-height:normal;font-family:Menlo,'DejaVu Sans Mono',consolas,'Courier New',monospace\">┏━━━━━━━━━━━━━━━━━━━━━━━━━━━━━━━━━┳━━━━━━━━━━━━━━━━━━━━━━━━┳━━━━━━━━━━━━━━━┓\n",
       "┃<span style=\"font-weight: bold\"> Layer (type)                    </span>┃<span style=\"font-weight: bold\"> Output Shape           </span>┃<span style=\"font-weight: bold\">       Param # </span>┃\n",
       "┡━━━━━━━━━━━━━━━━━━━━━━━━━━━━━━━━━╇━━━━━━━━━━━━━━━━━━━━━━━━╇━━━━━━━━━━━━━━━┩\n",
       "│ lstm (<span style=\"color: #0087ff; text-decoration-color: #0087ff\">LSTM</span>)                     │ (<span style=\"color: #00d7ff; text-decoration-color: #00d7ff\">None</span>, <span style=\"color: #00af00; text-decoration-color: #00af00\">64</span>)             │        <span style=\"color: #00af00; text-decoration-color: #00af00\">16,896</span> │\n",
       "├─────────────────────────────────┼────────────────────────┼───────────────┤\n",
       "│ dense (<span style=\"color: #0087ff; text-decoration-color: #0087ff\">Dense</span>)                   │ (<span style=\"color: #00d7ff; text-decoration-color: #00d7ff\">None</span>, <span style=\"color: #00af00; text-decoration-color: #00af00\">8</span>)              │           <span style=\"color: #00af00; text-decoration-color: #00af00\">520</span> │\n",
       "├─────────────────────────────────┼────────────────────────┼───────────────┤\n",
       "│ dense_1 (<span style=\"color: #0087ff; text-decoration-color: #0087ff\">Dense</span>)                 │ (<span style=\"color: #00d7ff; text-decoration-color: #00d7ff\">None</span>, <span style=\"color: #00af00; text-decoration-color: #00af00\">1</span>)              │             <span style=\"color: #00af00; text-decoration-color: #00af00\">9</span> │\n",
       "└─────────────────────────────────┴────────────────────────┴───────────────┘\n",
       "</pre>\n"
      ],
      "text/plain": [
       "┏━━━━━━━━━━━━━━━━━━━━━━━━━━━━━━━━━┳━━━━━━━━━━━━━━━━━━━━━━━━┳━━━━━━━━━━━━━━━┓\n",
       "┃\u001b[1m \u001b[0m\u001b[1mLayer (type)                   \u001b[0m\u001b[1m \u001b[0m┃\u001b[1m \u001b[0m\u001b[1mOutput Shape          \u001b[0m\u001b[1m \u001b[0m┃\u001b[1m \u001b[0m\u001b[1m      Param #\u001b[0m\u001b[1m \u001b[0m┃\n",
       "┡━━━━━━━━━━━━━━━━━━━━━━━━━━━━━━━━━╇━━━━━━━━━━━━━━━━━━━━━━━━╇━━━━━━━━━━━━━━━┩\n",
       "│ lstm (\u001b[38;5;33mLSTM\u001b[0m)                     │ (\u001b[38;5;45mNone\u001b[0m, \u001b[38;5;34m64\u001b[0m)             │        \u001b[38;5;34m16,896\u001b[0m │\n",
       "├─────────────────────────────────┼────────────────────────┼───────────────┤\n",
       "│ dense (\u001b[38;5;33mDense\u001b[0m)                   │ (\u001b[38;5;45mNone\u001b[0m, \u001b[38;5;34m8\u001b[0m)              │           \u001b[38;5;34m520\u001b[0m │\n",
       "├─────────────────────────────────┼────────────────────────┼───────────────┤\n",
       "│ dense_1 (\u001b[38;5;33mDense\u001b[0m)                 │ (\u001b[38;5;45mNone\u001b[0m, \u001b[38;5;34m1\u001b[0m)              │             \u001b[38;5;34m9\u001b[0m │\n",
       "└─────────────────────────────────┴────────────────────────┴───────────────┘\n"
      ]
     },
     "metadata": {},
     "output_type": "display_data"
    },
    {
     "data": {
      "text/html": [
       "<pre style=\"white-space:pre;overflow-x:auto;line-height:normal;font-family:Menlo,'DejaVu Sans Mono',consolas,'Courier New',monospace\"><span style=\"font-weight: bold\"> Total params: </span><span style=\"color: #00af00; text-decoration-color: #00af00\">17,425</span> (68.07 KB)\n",
       "</pre>\n"
      ],
      "text/plain": [
       "\u001b[1m Total params: \u001b[0m\u001b[38;5;34m17,425\u001b[0m (68.07 KB)\n"
      ]
     },
     "metadata": {},
     "output_type": "display_data"
    },
    {
     "data": {
      "text/html": [
       "<pre style=\"white-space:pre;overflow-x:auto;line-height:normal;font-family:Menlo,'DejaVu Sans Mono',consolas,'Courier New',monospace\"><span style=\"font-weight: bold\"> Trainable params: </span><span style=\"color: #00af00; text-decoration-color: #00af00\">17,425</span> (68.07 KB)\n",
       "</pre>\n"
      ],
      "text/plain": [
       "\u001b[1m Trainable params: \u001b[0m\u001b[38;5;34m17,425\u001b[0m (68.07 KB)\n"
      ]
     },
     "metadata": {},
     "output_type": "display_data"
    },
    {
     "data": {
      "text/html": [
       "<pre style=\"white-space:pre;overflow-x:auto;line-height:normal;font-family:Menlo,'DejaVu Sans Mono',consolas,'Courier New',monospace\"><span style=\"font-weight: bold\"> Non-trainable params: </span><span style=\"color: #00af00; text-decoration-color: #00af00\">0</span> (0.00 B)\n",
       "</pre>\n"
      ],
      "text/plain": [
       "\u001b[1m Non-trainable params: \u001b[0m\u001b[38;5;34m0\u001b[0m (0.00 B)\n"
      ]
     },
     "metadata": {},
     "output_type": "display_data"
    }
   ],
   "source": [
    "model = Sequential()\n",
    "model.add(InputLayer((X_train.shape[1], X_train.shape[2])))\n",
    "model.add(LSTM(64))\n",
    "model.add(Dense(8, 'relu'))\n",
    "model.add(Dense(1, 'linear'))\n",
    "\n",
    "model.summary()"
   ]
  },
  {
   "cell_type": "code",
   "execution_count": 73,
   "metadata": {},
   "outputs": [],
   "source": [
    "model.compile(loss = MeanSquaredError(), optimizer= Adam(learning_rate= 0.001), metrics= [RootMeanSquaredError()])"
   ]
  },
  {
   "cell_type": "code",
   "execution_count": 75,
   "metadata": {},
   "outputs": [
    {
     "name": "stdout",
     "output_type": "stream",
     "text": [
      "Epoch 1/20\n",
      "\u001b[1m15/15\u001b[0m \u001b[32m━━━━━━━━━━━━━━━━━━━━\u001b[0m\u001b[37m\u001b[0m \u001b[1m6s\u001b[0m 113ms/step - loss: 0.1176 - root_mean_squared_error: 0.3411 - val_loss: 0.0291 - val_root_mean_squared_error: 0.1707\n",
      "Epoch 2/20\n",
      "\u001b[1m15/15\u001b[0m \u001b[32m━━━━━━━━━━━━━━━━━━━━\u001b[0m\u001b[37m\u001b[0m \u001b[1m0s\u001b[0m 29ms/step - loss: 0.0115 - root_mean_squared_error: 0.1071 - val_loss: 0.0063 - val_root_mean_squared_error: 0.0796\n",
      "Epoch 3/20\n",
      "\u001b[1m15/15\u001b[0m \u001b[32m━━━━━━━━━━━━━━━━━━━━\u001b[0m\u001b[37m\u001b[0m \u001b[1m0s\u001b[0m 28ms/step - loss: 0.0029 - root_mean_squared_error: 0.0542 - val_loss: 0.0022 - val_root_mean_squared_error: 0.0473\n",
      "Epoch 4/20\n",
      "\u001b[1m15/15\u001b[0m \u001b[32m━━━━━━━━━━━━━━━━━━━━\u001b[0m\u001b[37m\u001b[0m \u001b[1m1s\u001b[0m 34ms/step - loss: 0.0017 - root_mean_squared_error: 0.0416 - val_loss: 0.0021 - val_root_mean_squared_error: 0.0457\n",
      "Epoch 5/20\n",
      "\u001b[1m15/15\u001b[0m \u001b[32m━━━━━━━━━━━━━━━━━━━━\u001b[0m\u001b[37m\u001b[0m \u001b[1m1s\u001b[0m 37ms/step - loss: 0.0016 - root_mean_squared_error: 0.0402 - val_loss: 0.0018 - val_root_mean_squared_error: 0.0419\n",
      "Epoch 6/20\n",
      "\u001b[1m15/15\u001b[0m \u001b[32m━━━━━━━━━━━━━━━━━━━━\u001b[0m\u001b[37m\u001b[0m \u001b[1m1s\u001b[0m 32ms/step - loss: 0.0014 - root_mean_squared_error: 0.0381 - val_loss: 0.0026 - val_root_mean_squared_error: 0.0506\n",
      "Epoch 7/20\n",
      "\u001b[1m15/15\u001b[0m \u001b[32m━━━━━━━━━━━━━━━━━━━━\u001b[0m\u001b[37m\u001b[0m \u001b[1m0s\u001b[0m 26ms/step - loss: 0.0014 - root_mean_squared_error: 0.0372 - val_loss: 0.0017 - val_root_mean_squared_error: 0.0411\n",
      "Epoch 8/20\n",
      "\u001b[1m15/15\u001b[0m \u001b[32m━━━━━━━━━━━━━━━━━━━━\u001b[0m\u001b[37m\u001b[0m \u001b[1m0s\u001b[0m 27ms/step - loss: 0.0013 - root_mean_squared_error: 0.0354 - val_loss: 0.0016 - val_root_mean_squared_error: 0.0395\n",
      "Epoch 9/20\n",
      "\u001b[1m15/15\u001b[0m \u001b[32m━━━━━━━━━━━━━━━━━━━━\u001b[0m\u001b[37m\u001b[0m \u001b[1m0s\u001b[0m 27ms/step - loss: 0.0011 - root_mean_squared_error: 0.0333 - val_loss: 0.0013 - val_root_mean_squared_error: 0.0360\n",
      "Epoch 10/20\n",
      "\u001b[1m15/15\u001b[0m \u001b[32m━━━━━━━━━━━━━━━━━━━━\u001b[0m\u001b[37m\u001b[0m \u001b[1m0s\u001b[0m 26ms/step - loss: 0.0011 - root_mean_squared_error: 0.0331 - val_loss: 0.0019 - val_root_mean_squared_error: 0.0438\n",
      "Epoch 11/20\n",
      "\u001b[1m15/15\u001b[0m \u001b[32m━━━━━━━━━━━━━━━━━━━━\u001b[0m\u001b[37m\u001b[0m \u001b[1m0s\u001b[0m 25ms/step - loss: 0.0010 - root_mean_squared_error: 0.0320 - val_loss: 0.0014 - val_root_mean_squared_error: 0.0376\n",
      "Epoch 12/20\n",
      "\u001b[1m15/15\u001b[0m \u001b[32m━━━━━━━━━━━━━━━━━━━━\u001b[0m\u001b[37m\u001b[0m \u001b[1m0s\u001b[0m 26ms/step - loss: 8.8580e-04 - root_mean_squared_error: 0.0298 - val_loss: 0.0022 - val_root_mean_squared_error: 0.0472\n",
      "Epoch 13/20\n",
      "\u001b[1m15/15\u001b[0m \u001b[32m━━━━━━━━━━━━━━━━━━━━\u001b[0m\u001b[37m\u001b[0m \u001b[1m0s\u001b[0m 28ms/step - loss: 9.6270e-04 - root_mean_squared_error: 0.0310 - val_loss: 0.0012 - val_root_mean_squared_error: 0.0345\n",
      "Epoch 14/20\n",
      "\u001b[1m15/15\u001b[0m \u001b[32m━━━━━━━━━━━━━━━━━━━━\u001b[0m\u001b[37m\u001b[0m \u001b[1m1s\u001b[0m 42ms/step - loss: 8.6928e-04 - root_mean_squared_error: 0.0294 - val_loss: 0.0013 - val_root_mean_squared_error: 0.0356\n",
      "Epoch 15/20\n",
      "\u001b[1m15/15\u001b[0m \u001b[32m━━━━━━━━━━━━━━━━━━━━\u001b[0m\u001b[37m\u001b[0m \u001b[1m1s\u001b[0m 35ms/step - loss: 8.1728e-04 - root_mean_squared_error: 0.0286 - val_loss: 0.0011 - val_root_mean_squared_error: 0.0334\n",
      "Epoch 16/20\n",
      "\u001b[1m15/15\u001b[0m \u001b[32m━━━━━━━━━━━━━━━━━━━━\u001b[0m\u001b[37m\u001b[0m \u001b[1m0s\u001b[0m 29ms/step - loss: 8.1304e-04 - root_mean_squared_error: 0.0285 - val_loss: 0.0023 - val_root_mean_squared_error: 0.0476\n",
      "Epoch 17/20\n",
      "\u001b[1m15/15\u001b[0m \u001b[32m━━━━━━━━━━━━━━━━━━━━\u001b[0m\u001b[37m\u001b[0m \u001b[1m0s\u001b[0m 31ms/step - loss: 9.6433e-04 - root_mean_squared_error: 0.0310 - val_loss: 0.0020 - val_root_mean_squared_error: 0.0449\n",
      "Epoch 18/20\n",
      "\u001b[1m15/15\u001b[0m \u001b[32m━━━━━━━━━━━━━━━━━━━━\u001b[0m\u001b[37m\u001b[0m \u001b[1m0s\u001b[0m 28ms/step - loss: 9.0456e-04 - root_mean_squared_error: 0.0301 - val_loss: 9.1647e-04 - val_root_mean_squared_error: 0.0303\n",
      "Epoch 19/20\n",
      "\u001b[1m15/15\u001b[0m \u001b[32m━━━━━━━━━━━━━━━━━━━━\u001b[0m\u001b[37m\u001b[0m \u001b[1m0s\u001b[0m 27ms/step - loss: 8.4011e-04 - root_mean_squared_error: 0.0290 - val_loss: 8.9733e-04 - val_root_mean_squared_error: 0.0300\n",
      "Epoch 20/20\n",
      "\u001b[1m15/15\u001b[0m \u001b[32m━━━━━━━━━━━━━━━━━━━━\u001b[0m\u001b[37m\u001b[0m \u001b[1m1s\u001b[0m 32ms/step - loss: 7.1657e-04 - root_mean_squared_error: 0.0268 - val_loss: 0.0015 - val_root_mean_squared_error: 0.0393\n"
     ]
    },
    {
     "data": {
      "text/plain": [
       "<keras.src.callbacks.history.History at 0x241775c7550>"
      ]
     },
     "execution_count": 75,
     "metadata": {},
     "output_type": "execute_result"
    }
   ],
   "source": [
    "model.fit(X_train, y_train, validation_data=(X_test, y_test), epochs=20, batch_size=128) "
   ]
  },
  {
   "cell_type": "markdown",
   "metadata": {},
   "source": [
    "### 2.2 Model's prediction and evaluation"
   ]
  },
  {
   "cell_type": "markdown",
   "metadata": {},
   "source": [
    "Model's prediction on the training set:"
   ]
  },
  {
   "cell_type": "code",
   "execution_count": 76,
   "metadata": {},
   "outputs": [
    {
     "name": "stdout",
     "output_type": "stream",
     "text": [
      "\u001b[1m58/58\u001b[0m \u001b[32m━━━━━━━━━━━━━━━━━━━━\u001b[0m\u001b[37m\u001b[0m \u001b[1m1s\u001b[0m 8ms/step\n"
     ]
    },
    {
     "data": {
      "text/plain": [
       "array([0.10678747, 0.10745312, 0.10681912, ..., 0.33475128, 0.33874026,\n",
       "       0.342504  ], dtype=float32)"
      ]
     },
     "execution_count": 76,
     "metadata": {},
     "output_type": "execute_result"
    }
   ],
   "source": [
    "train_pred = model.predict(X_train).flatten()\n",
    "train_pred"
   ]
  },
  {
   "cell_type": "code",
   "execution_count": 77,
   "metadata": {},
   "outputs": [
    {
     "data": {
      "text/html": [
       "<div>\n",
       "<style scoped>\n",
       "    .dataframe tbody tr th:only-of-type {\n",
       "        vertical-align: middle;\n",
       "    }\n",
       "\n",
       "    .dataframe tbody tr th {\n",
       "        vertical-align: top;\n",
       "    }\n",
       "\n",
       "    .dataframe thead th {\n",
       "        text-align: right;\n",
       "    }\n",
       "</style>\n",
       "<table border=\"1\" class=\"dataframe\">\n",
       "  <thead>\n",
       "    <tr style=\"text-align: right;\">\n",
       "      <th></th>\n",
       "      <th>Train Pred</th>\n",
       "      <th>Actual</th>\n",
       "    </tr>\n",
       "  </thead>\n",
       "  <tbody>\n",
       "    <tr>\n",
       "      <th>0</th>\n",
       "      <td>0.106787</td>\n",
       "      <td>0.107996</td>\n",
       "    </tr>\n",
       "    <tr>\n",
       "      <th>1</th>\n",
       "      <td>0.107453</td>\n",
       "      <td>0.096337</td>\n",
       "    </tr>\n",
       "    <tr>\n",
       "      <th>2</th>\n",
       "      <td>0.106819</td>\n",
       "      <td>0.088168</td>\n",
       "    </tr>\n",
       "    <tr>\n",
       "      <th>3</th>\n",
       "      <td>0.105142</td>\n",
       "      <td>0.087345</td>\n",
       "    </tr>\n",
       "    <tr>\n",
       "      <th>4</th>\n",
       "      <td>0.103046</td>\n",
       "      <td>0.080594</td>\n",
       "    </tr>\n",
       "    <tr>\n",
       "      <th>...</th>\n",
       "      <td>...</td>\n",
       "      <td>...</td>\n",
       "    </tr>\n",
       "    <tr>\n",
       "      <th>1843</th>\n",
       "      <td>0.322828</td>\n",
       "      <td>0.359318</td>\n",
       "    </tr>\n",
       "    <tr>\n",
       "      <th>1844</th>\n",
       "      <td>0.329755</td>\n",
       "      <td>0.347282</td>\n",
       "    </tr>\n",
       "    <tr>\n",
       "      <th>1845</th>\n",
       "      <td>0.334751</td>\n",
       "      <td>0.347303</td>\n",
       "    </tr>\n",
       "    <tr>\n",
       "      <th>1846</th>\n",
       "      <td>0.338740</td>\n",
       "      <td>0.354456</td>\n",
       "    </tr>\n",
       "    <tr>\n",
       "      <th>1847</th>\n",
       "      <td>0.342504</td>\n",
       "      <td>0.342223</td>\n",
       "    </tr>\n",
       "  </tbody>\n",
       "</table>\n",
       "<p>1848 rows × 2 columns</p>\n",
       "</div>"
      ],
      "text/plain": [
       "      Train Pred    Actual\n",
       "0       0.106787  0.107996\n",
       "1       0.107453  0.096337\n",
       "2       0.106819  0.088168\n",
       "3       0.105142  0.087345\n",
       "4       0.103046  0.080594\n",
       "...          ...       ...\n",
       "1843    0.322828  0.359318\n",
       "1844    0.329755  0.347282\n",
       "1845    0.334751  0.347303\n",
       "1846    0.338740  0.354456\n",
       "1847    0.342504  0.342223\n",
       "\n",
       "[1848 rows x 2 columns]"
      ]
     },
     "execution_count": 77,
     "metadata": {},
     "output_type": "execute_result"
    }
   ],
   "source": [
    "train_result = pd.DataFrame(data= {'Train Pred':train_pred, 'Actual':y_train.flatten()})\n",
    "train_result"
   ]
  },
  {
   "cell_type": "code",
   "execution_count": 78,
   "metadata": {},
   "outputs": [
    {
     "data": {
      "text/plain": [
       "[<matplotlib.lines.Line2D at 0x241708f0b90>]"
      ]
     },
     "execution_count": 78,
     "metadata": {},
     "output_type": "execute_result"
    },
    {
     "data": {
      "image/png": "[encoded data removed]",
      "text/plain": [
       "<Figure size 640x480 with 1 Axes>"
      ]
     },
     "metadata": {},
     "output_type": "display_data"
    }
   ],
   "source": [
    "plt.plot(train_result['Train Pred'])\n",
    "plt.plot(train_result['Actual'])"
   ]
  },
  {
   "cell_type": "markdown",
   "metadata": {},
   "source": [
    "Model's prediction on the test set:"
   ]
  },
  {
   "cell_type": "code",
   "execution_count": 79,
   "metadata": {},
   "outputs": [
    {
     "name": "stdout",
     "output_type": "stream",
     "text": [
      "\u001b[1m14/14\u001b[0m \u001b[32m━━━━━━━━━━━━━━━━━━━━\u001b[0m\u001b[37m\u001b[0m \u001b[1m0s\u001b[0m 4ms/step \n"
     ]
    },
    {
     "data": {
      "text/html": [
       "<div>\n",
       "<style scoped>\n",
       "    .dataframe tbody tr th:only-of-type {\n",
       "        vertical-align: middle;\n",
       "    }\n",
       "\n",
       "    .dataframe tbody tr th {\n",
       "        vertical-align: top;\n",
       "    }\n",
       "\n",
       "    .dataframe thead th {\n",
       "        text-align: right;\n",
       "    }\n",
       "</style>\n",
       "<table border=\"1\" class=\"dataframe\">\n",
       "  <thead>\n",
       "    <tr style=\"text-align: right;\">\n",
       "      <th></th>\n",
       "      <th>Test Pred</th>\n",
       "      <th>Actual</th>\n",
       "    </tr>\n",
       "  </thead>\n",
       "  <tbody>\n",
       "    <tr>\n",
       "      <th>0</th>\n",
       "      <td>0.344423</td>\n",
       "      <td>0.344059</td>\n",
       "    </tr>\n",
       "    <tr>\n",
       "      <th>1</th>\n",
       "      <td>0.345745</td>\n",
       "      <td>0.359525</td>\n",
       "    </tr>\n",
       "    <tr>\n",
       "      <th>2</th>\n",
       "      <td>0.347980</td>\n",
       "      <td>0.355017</td>\n",
       "    </tr>\n",
       "    <tr>\n",
       "      <th>3</th>\n",
       "      <td>0.349530</td>\n",
       "      <td>0.361387</td>\n",
       "    </tr>\n",
       "    <tr>\n",
       "      <th>4</th>\n",
       "      <td>0.351398</td>\n",
       "      <td>0.360422</td>\n",
       "    </tr>\n",
       "    <tr>\n",
       "      <th>...</th>\n",
       "      <td>...</td>\n",
       "      <td>...</td>\n",
       "    </tr>\n",
       "    <tr>\n",
       "      <th>427</th>\n",
       "      <td>0.893217</td>\n",
       "      <td>0.931460</td>\n",
       "    </tr>\n",
       "    <tr>\n",
       "      <th>428</th>\n",
       "      <td>0.893825</td>\n",
       "      <td>0.921179</td>\n",
       "    </tr>\n",
       "    <tr>\n",
       "      <th>429</th>\n",
       "      <td>0.892389</td>\n",
       "      <td>0.932445</td>\n",
       "    </tr>\n",
       "    <tr>\n",
       "      <th>430</th>\n",
       "      <td>0.891439</td>\n",
       "      <td>0.919938</td>\n",
       "    </tr>\n",
       "    <tr>\n",
       "      <th>431</th>\n",
       "      <td>0.888410</td>\n",
       "      <td>0.923023</td>\n",
       "    </tr>\n",
       "  </tbody>\n",
       "</table>\n",
       "<p>432 rows × 2 columns</p>\n",
       "</div>"
      ],
      "text/plain": [
       "     Test Pred    Actual\n",
       "0     0.344423  0.344059\n",
       "1     0.345745  0.359525\n",
       "2     0.347980  0.355017\n",
       "3     0.349530  0.361387\n",
       "4     0.351398  0.360422\n",
       "..         ...       ...\n",
       "427   0.893217  0.931460\n",
       "428   0.893825  0.921179\n",
       "429   0.892389  0.932445\n",
       "430   0.891439  0.919938\n",
       "431   0.888410  0.923023\n",
       "\n",
       "[432 rows x 2 columns]"
      ]
     },
     "execution_count": 79,
     "metadata": {},
     "output_type": "execute_result"
    }
   ],
   "source": [
    "test_pred = model.predict(X_test).flatten()\n",
    "test_result = pd.DataFrame(data= {'Test Pred':test_pred, 'Actual':y_test.flatten()})\n",
    "test_result"
   ]
  },
  {
   "cell_type": "code",
   "execution_count": 80,
   "metadata": {},
   "outputs": [
    {
     "data": {
      "text/plain": [
       "[<matplotlib.lines.Line2D at 0x2417fe56f10>]"
      ]
     },
     "execution_count": 80,
     "metadata": {},
     "output_type": "execute_result"
    },
    {
     "data": {
      "image/png": "[encoded data removed]",
      "text/plain": [
       "<Figure size 640x480 with 1 Axes>"
      ]
     },
     "metadata": {},
     "output_type": "display_data"
    }
   ],
   "source": [
    "plt.plot(test_result['Test Pred'])\n",
    "plt.plot(test_result['Actual'])"
   ]
  },
  {
   "cell_type": "markdown",
   "metadata": {},
   "source": [
    "The RMSE of the predicted value on the Test data: "
   ]
  },
  {
   "cell_type": "code",
   "execution_count": 137,
   "metadata": {},
   "outputs": [
    {
     "data": {
      "text/plain": [
       "0.03932468560552709"
      ]
     },
     "execution_count": 137,
     "metadata": {},
     "output_type": "execute_result"
    }
   ],
   "source": [
    "RMSE_1 = np.sqrt(mean_squared_error(y_test, test_pred))\n",
    "RMSE_1"
   ]
  },
  {
   "cell_type": "markdown",
   "metadata": {},
   "source": [
    "## 3. Hyperparameter tuning: Tuning model with 2 lstm layers and 2 Dense layers "
   ]
  },
  {
   "cell_type": "markdown",
   "metadata": {},
   "source": [
    "### 3.1 Initialize the model tunning function"
   ]
  },
  {
   "cell_type": "code",
   "execution_count": 104,
   "metadata": {},
   "outputs": [],
   "source": [
    "import keras_tuner as kt"
   ]
  },
  {
   "cell_type": "code",
   "execution_count": 120,
   "metadata": {},
   "outputs": [],
   "source": [
    "def build_model(hp):\n",
    "    model = Sequential()\n",
    "    model.add(InputLayer((X_train.shape[1], X_train.shape[2])))\n",
    "    \n",
    "    lstm_units = hp.Choice('lstm_units', values=[32, 64, 128])\n",
    "    model.add(LSTM(lstm_units, return_sequences=True))\n",
    "    \n",
    "    dropout_rate = hp.Choice('dropout_rate', values=[0.0, 0.2, 0.4])\n",
    "    model.add(Dropout(dropout_rate))\n",
    "    \n",
    "    model.add(LSTM(lstm_units))\n",
    "    model.add(Dropout(dropout_rate))\n",
    "    \n",
    "    activation_function = hp.Choice('activation_function', values=['relu', 'tanh'])\n",
    "    dense_units = hp.Choice('dense_units', values=[8, 16, 32, 64])  \n",
    "    model.add(Dense(dense_units, activation=activation_function))\n",
    "    model.add(Dense(1, activation='linear'))\n",
    "    \n",
    "    learning_rate = hp.Choice('learning_rate', values=[0.001, 0.01, 0.1])\n",
    "    model.compile(\n",
    "        loss=MeanSquaredError(),\n",
    "        optimizer=Adam(learning_rate=learning_rate),\n",
    "        metrics=[RootMeanSquaredError()]\n",
    "    )\n",
    "    return model"
   ]
  },
  {
   "cell_type": "code",
   "execution_count": 118,
   "metadata": {},
   "outputs": [],
   "source": [
    "tuner = kt.RandomSearch(\n",
    "    build_model,\n",
    "    objective='val_loss',\n",
    "    max_trials=30,\n",
    "    executions_per_trial=1,\n",
    "    directory='my_model1',\n",
    "    project_name='lstm_tuning'\n",
    ")"
   ]
  },
  {
   "cell_type": "markdown",
   "metadata": {},
   "source": [
    "### 3.2 Start the tuning process"
   ]
  },
  {
   "cell_type": "markdown",
   "metadata": {},
   "source": [
    "We set the number of epoch equals 20 with the batch size of 32. The model uses the Test set as the validation data. "
   ]
  },
  {
   "cell_type": "code",
   "execution_count": 119,
   "metadata": {},
   "outputs": [
    {
     "name": "stdout",
     "output_type": "stream",
     "text": [
      "Trial 30 Complete [00h 01m 11s]\n",
      "val_loss: 0.0005696906591765583\n",
      "\n",
      "Best val_loss So Far: 0.00033684339723549783\n",
      "Total elapsed time: 02h 53m 53s\n"
     ]
    }
   ],
   "source": [
    "tuner.search(\n",
    "    X_train, y_train,\n",
    "    epochs= 20,\n",
    "    batch_size= 32,\n",
    "    validation_data=(X_test, y_test)\n",
    ")"
   ]
  },
  {
   "cell_type": "markdown",
   "metadata": {},
   "source": [
    "Obtaining the best performing model and set it to \"best_model\""
   ]
  },
  {
   "cell_type": "code",
   "execution_count": 121,
   "metadata": {},
   "outputs": [
    {
     "name": "stderr",
     "output_type": "stream",
     "text": [
      "c:\\Users\\Ha Tung Lam\\anaconda3\\Lib\\site-packages\\keras\\src\\saving\\saving_lib.py:576: UserWarning: Skipping variable loading for optimizer 'adam', because it has 2 variables whereas the saved optimizer has 22 variables. \n",
      "  saveable.load_own_variables(weights_store.get(inner_path))\n"
     ]
    },
    {
     "data": {
      "text/plain": [
       "<Sequential name=sequential, built=True>"
      ]
     },
     "execution_count": 121,
     "metadata": {},
     "output_type": "execute_result"
    }
   ],
   "source": [
    "best_model = tuner.get_best_models(num_models=1)[0]\n",
    "best_model"
   ]
  },
  {
   "cell_type": "markdown",
   "metadata": {},
   "source": [
    "This is the result of the 10 best performing model:"
   ]
  },
  {
   "cell_type": "code",
   "execution_count": 122,
   "metadata": {},
   "outputs": [
    {
     "name": "stdout",
     "output_type": "stream",
     "text": [
      "Results summary\n",
      "Results in my_model1\\lstm_tuning\n",
      "Showing 10 best trials\n",
      "Objective(name=\"val_loss\", direction=\"min\")\n",
      "\n",
      "Trial 00 summary\n",
      "Hyperparameters:\n",
      "lstm_units: 128\n",
      "dropout_rate: 0.0\n",
      "activation_function: tanh\n",
      "dense_units: 16\n",
      "learning_rate: 0.001\n",
      "Score: 0.00033684339723549783\n",
      "\n",
      "Trial 06 summary\n",
      "Hyperparameters:\n",
      "lstm_units: 128\n",
      "dropout_rate: 0.0\n",
      "activation_function: relu\n",
      "dense_units: 16\n",
      "learning_rate: 0.01\n",
      "Score: 0.00034191590384580195\n",
      "\n",
      "Trial 21 summary\n",
      "Hyperparameters:\n",
      "lstm_units: 64\n",
      "dropout_rate: 0.2\n",
      "activation_function: tanh\n",
      "dense_units: 8\n",
      "learning_rate: 0.01\n",
      "Score: 0.00040735348011367023\n",
      "\n",
      "Trial 25 summary\n",
      "Hyperparameters:\n",
      "lstm_units: 128\n",
      "dropout_rate: 0.0\n",
      "activation_function: relu\n",
      "dense_units: 32\n",
      "learning_rate: 0.001\n",
      "Score: 0.00041299048461951315\n",
      "\n",
      "Trial 07 summary\n",
      "Hyperparameters:\n",
      "lstm_units: 64\n",
      "dropout_rate: 0.2\n",
      "activation_function: tanh\n",
      "dense_units: 16\n",
      "learning_rate: 0.01\n",
      "Score: 0.0004311187658458948\n",
      "\n",
      "Trial 02 summary\n",
      "Hyperparameters:\n",
      "lstm_units: 32\n",
      "dropout_rate: 0.0\n",
      "activation_function: tanh\n",
      "dense_units: 16\n",
      "learning_rate: 0.1\n",
      "Score: 0.00046014966210350394\n",
      "\n",
      "Trial 16 summary\n",
      "Hyperparameters:\n",
      "lstm_units: 128\n",
      "dropout_rate: 0.4\n",
      "activation_function: relu\n",
      "dense_units: 8\n",
      "learning_rate: 0.01\n",
      "Score: 0.00047445998643524945\n",
      "\n",
      "Trial 09 summary\n",
      "Hyperparameters:\n",
      "lstm_units: 128\n",
      "dropout_rate: 0.2\n",
      "activation_function: relu\n",
      "dense_units: 8\n",
      "learning_rate: 0.001\n",
      "Score: 0.0004888518596999347\n",
      "\n",
      "Trial 27 summary\n",
      "Hyperparameters:\n",
      "lstm_units: 128\n",
      "dropout_rate: 0.2\n",
      "activation_function: tanh\n",
      "dense_units: 32\n",
      "learning_rate: 0.001\n",
      "Score: 0.0005055133369751275\n",
      "\n",
      "Trial 12 summary\n",
      "Hyperparameters:\n",
      "lstm_units: 128\n",
      "dropout_rate: 0.4\n",
      "activation_function: tanh\n",
      "dense_units: 32\n",
      "learning_rate: 0.001\n",
      "Score: 0.0005580256110988557\n"
     ]
    }
   ],
   "source": [
    "tuner.results_summary()"
   ]
  },
  {
   "cell_type": "markdown",
   "metadata": {},
   "source": [
    "We extract the hyperparameters from the best performing model and set it to \"best_hp\""
   ]
  },
  {
   "cell_type": "code",
   "execution_count": 138,
   "metadata": {},
   "outputs": [
    {
     "name": "stdout",
     "output_type": "stream",
     "text": [
      "\n",
      "The best hyperparameters are:\n",
      "- lstm_units: 128\n",
      "- dropout_rate: 0.0\n",
      "- activation function: tanh\n",
      "- dense_units: 16\n",
      "- learning_rate: 0.001\n",
      "\n"
     ]
    }
   ],
   "source": [
    "best_hps = tuner.get_best_hyperparameters(num_trials=1)[0]\n",
    "print(f\"\"\"\n",
    "The best hyperparameters are:\n",
    "- lstm_units: {best_hps.get('lstm_units')}\n",
    "- dropout_rate: {best_hps.get('dropout_rate')}\n",
    "- activation function: {best_hps.get('activation_function')}\n",
    "- dense_units: {best_hps.get('dense_units')}\n",
    "- learning_rate: {best_hps.get('learning_rate')}\n",
    "\"\"\")"
   ]
  },
  {
   "cell_type": "markdown",
   "metadata": {},
   "source": [
    "Predicting the value of the Test data using best_model:"
   ]
  },
  {
   "cell_type": "code",
   "execution_count": 125,
   "metadata": {},
   "outputs": [
    {
     "name": "stdout",
     "output_type": "stream",
     "text": [
      "\u001b[1m14/14\u001b[0m \u001b[32m━━━━━━━━━━━━━━━━━━━━\u001b[0m\u001b[37m\u001b[0m \u001b[1m1s\u001b[0m 39ms/step\n"
     ]
    }
   ],
   "source": [
    "y_test_best_pred = best_model.predict(X_test).flatten()\n",
    "best_test_result = pd.DataFrame(data= {'Test Pred':y_test_best_pred, 'Actual':y_test.flatten()})"
   ]
  },
  {
   "cell_type": "code",
   "execution_count": 126,
   "metadata": {},
   "outputs": [
    {
     "data": {
      "text/html": [
       "<div>\n",
       "<style scoped>\n",
       "    .dataframe tbody tr th:only-of-type {\n",
       "        vertical-align: middle;\n",
       "    }\n",
       "\n",
       "    .dataframe tbody tr th {\n",
       "        vertical-align: top;\n",
       "    }\n",
       "\n",
       "    .dataframe thead th {\n",
       "        text-align: right;\n",
       "    }\n",
       "</style>\n",
       "<table border=\"1\" class=\"dataframe\">\n",
       "  <thead>\n",
       "    <tr style=\"text-align: right;\">\n",
       "      <th></th>\n",
       "      <th>Test Pred</th>\n",
       "      <th>Actual</th>\n",
       "    </tr>\n",
       "  </thead>\n",
       "  <tbody>\n",
       "    <tr>\n",
       "      <th>0</th>\n",
       "      <td>0.345111</td>\n",
       "      <td>0.344059</td>\n",
       "    </tr>\n",
       "    <tr>\n",
       "      <th>1</th>\n",
       "      <td>0.343046</td>\n",
       "      <td>0.359525</td>\n",
       "    </tr>\n",
       "    <tr>\n",
       "      <th>2</th>\n",
       "      <td>0.348897</td>\n",
       "      <td>0.355017</td>\n",
       "    </tr>\n",
       "    <tr>\n",
       "      <th>3</th>\n",
       "      <td>0.353159</td>\n",
       "      <td>0.361387</td>\n",
       "    </tr>\n",
       "    <tr>\n",
       "      <th>4</th>\n",
       "      <td>0.357981</td>\n",
       "      <td>0.360422</td>\n",
       "    </tr>\n",
       "    <tr>\n",
       "      <th>...</th>\n",
       "      <td>...</td>\n",
       "      <td>...</td>\n",
       "    </tr>\n",
       "    <tr>\n",
       "      <th>427</th>\n",
       "      <td>0.933119</td>\n",
       "      <td>0.931460</td>\n",
       "    </tr>\n",
       "    <tr>\n",
       "      <th>428</th>\n",
       "      <td>0.927396</td>\n",
       "      <td>0.921179</td>\n",
       "    </tr>\n",
       "    <tr>\n",
       "      <th>429</th>\n",
       "      <td>0.915616</td>\n",
       "      <td>0.932445</td>\n",
       "    </tr>\n",
       "    <tr>\n",
       "      <th>430</th>\n",
       "      <td>0.916656</td>\n",
       "      <td>0.919938</td>\n",
       "    </tr>\n",
       "    <tr>\n",
       "      <th>431</th>\n",
       "      <td>0.912693</td>\n",
       "      <td>0.923023</td>\n",
       "    </tr>\n",
       "  </tbody>\n",
       "</table>\n",
       "<p>432 rows × 2 columns</p>\n",
       "</div>"
      ],
      "text/plain": [
       "     Test Pred    Actual\n",
       "0     0.345111  0.344059\n",
       "1     0.343046  0.359525\n",
       "2     0.348897  0.355017\n",
       "3     0.353159  0.361387\n",
       "4     0.357981  0.360422\n",
       "..         ...       ...\n",
       "427   0.933119  0.931460\n",
       "428   0.927396  0.921179\n",
       "429   0.915616  0.932445\n",
       "430   0.916656  0.919938\n",
       "431   0.912693  0.923023\n",
       "\n",
       "[432 rows x 2 columns]"
      ]
     },
     "execution_count": 126,
     "metadata": {},
     "output_type": "execute_result"
    }
   ],
   "source": [
    "best_test_result"
   ]
  },
  {
   "cell_type": "markdown",
   "metadata": {},
   "source": [
    "### 3.3 Tuned-model evaluation:"
   ]
  },
  {
   "cell_type": "markdown",
   "metadata": {},
   "source": [
    "The RMSE of best_model on the Test data:"
   ]
  },
  {
   "cell_type": "code",
   "execution_count": 135,
   "metadata": {},
   "outputs": [
    {
     "data": {
      "text/plain": [
       "0.018353294261683563"
      ]
     },
     "execution_count": 135,
     "metadata": {},
     "output_type": "execute_result"
    }
   ],
   "source": [
    "RMSE_tuned = np.sqrt(mean_squared_error(y_test, y_test_best_pred))\n",
    "RMSE_tuned"
   ]
  },
  {
   "cell_type": "code",
   "execution_count": 139,
   "metadata": {},
   "outputs": [
    {
     "data": {
      "text/plain": [
       "<matplotlib.legend.Legend at 0x241ad10dc50>"
      ]
     },
     "execution_count": 139,
     "metadata": {},
     "output_type": "execute_result"
    },
    {
     "data": {
      "image/png": "[encoded data removed]",
      "text/plain": [
       "<Figure size 640x480 with 1 Axes>"
      ]
     },
     "metadata": {},
     "output_type": "display_data"
    }
   ],
   "source": [
    "plt.plot(best_test_result['Test Pred'], label='Predicted', color='red')\n",
    "plt.plot(best_test_result['Actual'], label='Actual', color='blue')\n",
    "plt.title('Close Price Values after tuning vs Actual Close Price')\n",
    "plt.legend(loc='upper left')"
   ]
  },
  {
   "cell_type": "markdown",
   "metadata": {},
   "source": [
    "## 4. Comparision of LSTM model's performance before and after tuning"
   ]
  },
  {
   "cell_type": "markdown",
   "metadata": {},
   "source": [
    "Comparing the RMSE results of both model: "
   ]
  },
  {
   "cell_type": "code",
   "execution_count": 140,
   "metadata": {},
   "outputs": [
    {
     "name": "stdout",
     "output_type": "stream",
     "text": [
      "\n",
      "The RMSE of pre-tuned model on the Test set: 0.03932468560552709\n",
      "The RMSE of  the optimized model on the Test set: 0.018353294261683563\n",
      "\n"
     ]
    }
   ],
   "source": [
    "print(f\"\"\"\n",
    "The RMSE of pre-tuned model on the Test set: {RMSE_1}\n",
    "The RMSE of  the optimized model on the Test set: {RMSE_tuned}\n",
    "\"\"\")"
   ]
  },
  {
   "cell_type": "markdown",
   "metadata": {},
   "source": [
    "The optimized model performs much better than the first Vanilla model with lower Root Mean Squared Error on the Test data "
   ]
  },
  {
   "cell_type": "code",
   "execution_count": 141,
   "metadata": {},
   "outputs": [
    {
     "data": {
      "text/plain": [
       "<matplotlib.legend.Legend at 0x241acee7dd0>"
      ]
     },
     "execution_count": 141,
     "metadata": {},
     "output_type": "execute_result"
    },
    {
     "data": {
      "image/png": "[encoded data removed]",
      "text/plain": [
       "<Figure size 640x480 with 1 Axes>"
      ]
     },
     "metadata": {},
     "output_type": "display_data"
    }
   ],
   "source": [
    "plt.plot(best_test_result['Test Pred'], label='After tuning', color='green')\n",
    "plt.plot(test_result['Test Pred'], label='Before tuning', color='red')\n",
    "plt.plot(test_result['Actual'], label='Actual', color='blue')\n",
    "plt.title('Comparision')\n",
    "plt.legend(loc='upper left')"
   ]
  },
  {
   "cell_type": "markdown",
   "metadata": {},
   "source": [
    "## Vol_1 Prediction "
   ]
  },
  {
   "cell_type": "code",
   "execution_count": 182,
   "metadata": {},
   "outputs": [
    {
     "data": {
      "text/plain": [
       "(2310,)"
      ]
     },
     "execution_count": 182,
     "metadata": {},
     "output_type": "execute_result"
    }
   ],
   "source": [
    "vol1_df = df['VOL1'].values\n",
    "vol1_df.shape"
   ]
  },
  {
   "cell_type": "code",
   "execution_count": 183,
   "metadata": {},
   "outputs": [
    {
     "data": {
      "text/plain": [
       "(2310, 1)"
      ]
     },
     "execution_count": 183,
     "metadata": {},
     "output_type": "execute_result"
    }
   ],
   "source": [
    "scaler = MinMaxScaler(feature_range= (0,1))\n",
    "vol1_scaled_df = scaler.fit_transform(vol1_df.reshape(-1,1))\n",
    "vol1_scaled_df.shape"
   ]
  },
  {
   "cell_type": "code",
   "execution_count": 184,
   "metadata": {},
   "outputs": [
    {
     "data": {
      "text/plain": [
       "((2280, 30, 1), (2280, 1))"
      ]
     },
     "execution_count": 184,
     "metadata": {},
     "output_type": "execute_result"
    }
   ],
   "source": [
    "X_vol1, y_vol1 = df_to_X_y(vol1_scaled_df, 30)\n",
    "X_vol1.shape, y_vol1.shape"
   ]
  },
  {
   "cell_type": "code",
   "execution_count": 185,
   "metadata": {},
   "outputs": [
    {
     "data": {
      "text/plain": [
       "((1848, 30, 1), (1848, 1), (432, 30, 1), (432, 1))"
      ]
     },
     "execution_count": 185,
     "metadata": {},
     "output_type": "execute_result"
    }
   ],
   "source": [
    "X_train_vol1, y_train_vol1 = X_vol1[: train_size], y_vol1[: train_size]\n",
    "X_test_vol1, y_test_vol1 = X_vol1[train_size:], y_vol1[train_size :]\n",
    "\n",
    "X_train_vol1.shape, y_train_vol1.shape, X_test_vol1.shape, y_test_vol1.shape"
   ]
  },
  {
   "cell_type": "code",
   "execution_count": 186,
   "metadata": {},
   "outputs": [],
   "source": [
    "def build_model_vol1(hp):\n",
    "    model = Sequential()\n",
    "    model.add(InputLayer((X_train.shape[1], X_train.shape[2])))\n",
    "    \n",
    "    lstm_units = hp.Choice('lstm_units', values=[32, 64, 128, 256])\n",
    "    model.add(LSTM(lstm_units, return_sequences=True))\n",
    "    \n",
    "    dropout_rate = hp.Choice('dropout_rate', values=[0.0, 0.2, 0.4])\n",
    "    model.add(Dropout(dropout_rate))\n",
    "    \n",
    "    model.add(LSTM(lstm_units))\n",
    "    model.add(Dropout(dropout_rate))\n",
    "    \n",
    "    activation_function = hp.Choice('activation_function', values=['relu', 'tanh'])\n",
    "    dense_units = hp.Choice('dense_units', values=[16, 32, 64])  \n",
    "    model.add(Dense(dense_units, activation=activation_function))\n",
    "    model.add(Dense(1, activation='linear'))\n",
    "    \n",
    "    learning_rate = hp.Choice('learning_rate', values=[0.001, 0.01, 0.1])\n",
    "    model.compile(\n",
    "        loss=MeanSquaredError(),\n",
    "        optimizer=Adam(learning_rate=learning_rate),\n",
    "        metrics=[RootMeanSquaredError()]\n",
    "    )\n",
    "    return model"
   ]
  },
  {
   "cell_type": "code",
   "execution_count": 278,
   "metadata": {},
   "outputs": [
    {
     "name": "stdout",
     "output_type": "stream",
     "text": [
      "Reloading Tuner from my_model_vol1\\lstm_tuning_v1\\tuner0.json\n"
     ]
    }
   ],
   "source": [
    "tuner_vol1 = kt.RandomSearch(\n",
    "    build_model_vol1,\n",
    "    objective='val_loss',\n",
    "    max_trials=20,\n",
    "    executions_per_trial=1,\n",
    "    directory='my_model_vol1',\n",
    "    project_name='lstm_tuning_v1'\n",
    ")"
   ]
  },
  {
   "cell_type": "code",
   "execution_count": 279,
   "metadata": {},
   "outputs": [],
   "source": [
    "tuner_vol1.search(\n",
    "    X_train_vol1, y_train_vol1,\n",
    "    epochs= 20,\n",
    "    batch_size= 32,\n",
    "    validation_data=(X_test_vol1, y_test_vol1)\n",
    ")"
   ]
  },
  {
   "cell_type": "code",
   "execution_count": 280,
   "metadata": {},
   "outputs": [
    {
     "name": "stderr",
     "output_type": "stream",
     "text": [
      "c:\\Users\\Ha Tung Lam\\anaconda3\\Lib\\site-packages\\keras\\src\\saving\\saving_lib.py:576: UserWarning: Skipping variable loading for optimizer 'adam', because it has 2 variables whereas the saved optimizer has 22 variables. \n",
      "  saveable.load_own_variables(weights_store.get(inner_path))\n"
     ]
    }
   ],
   "source": [
    "best_model_vol1 = tuner_vol1.get_best_models(num_models=1)[0]"
   ]
  },
  {
   "cell_type": "code",
   "execution_count": 281,
   "metadata": {},
   "outputs": [
    {
     "name": "stdout",
     "output_type": "stream",
     "text": [
      "Results summary\n",
      "Results in my_model_vol1\\lstm_tuning_v1\n",
      "Showing 10 best trials\n",
      "Objective(name=\"val_loss\", direction=\"min\")\n",
      "\n",
      "Trial 01 summary\n",
      "Hyperparameters:\n",
      "lstm_units: 128\n",
      "dropout_rate: 0.0\n",
      "activation_function: tanh\n",
      "dense_units: 16\n",
      "learning_rate: 0.01\n",
      "Score: 0.0013323368038982153\n",
      "\n",
      "Trial 17 summary\n",
      "Hyperparameters:\n",
      "lstm_units: 256\n",
      "dropout_rate: 0.2\n",
      "activation_function: tanh\n",
      "dense_units: 32\n",
      "learning_rate: 0.001\n",
      "Score: 0.0013529702555388212\n",
      "\n",
      "Trial 03 summary\n",
      "Hyperparameters:\n",
      "lstm_units: 64\n",
      "dropout_rate: 0.0\n",
      "activation_function: tanh\n",
      "dense_units: 32\n",
      "learning_rate: 0.01\n",
      "Score: 0.0013584864791482687\n",
      "\n",
      "Trial 06 summary\n",
      "Hyperparameters:\n",
      "lstm_units: 64\n",
      "dropout_rate: 0.4\n",
      "activation_function: tanh\n",
      "dense_units: 32\n",
      "learning_rate: 0.01\n",
      "Score: 0.0013807301875203848\n",
      "\n",
      "Trial 11 summary\n",
      "Hyperparameters:\n",
      "lstm_units: 256\n",
      "dropout_rate: 0.4\n",
      "activation_function: relu\n",
      "dense_units: 32\n",
      "learning_rate: 0.001\n",
      "Score: 0.0013860425679013133\n",
      "\n",
      "Trial 07 summary\n",
      "Hyperparameters:\n",
      "lstm_units: 64\n",
      "dropout_rate: 0.2\n",
      "activation_function: relu\n",
      "dense_units: 32\n",
      "learning_rate: 0.001\n",
      "Score: 0.0013906566891819239\n",
      "\n",
      "Trial 08 summary\n",
      "Hyperparameters:\n",
      "lstm_units: 64\n",
      "dropout_rate: 0.4\n",
      "activation_function: relu\n",
      "dense_units: 32\n",
      "learning_rate: 0.001\n",
      "Score: 0.0013927103718742728\n",
      "\n",
      "Trial 16 summary\n",
      "Hyperparameters:\n",
      "lstm_units: 128\n",
      "dropout_rate: 0.4\n",
      "activation_function: tanh\n",
      "dense_units: 16\n",
      "learning_rate: 0.001\n",
      "Score: 0.001393085578456521\n",
      "\n",
      "Trial 14 summary\n",
      "Hyperparameters:\n",
      "lstm_units: 64\n",
      "dropout_rate: 0.4\n",
      "activation_function: relu\n",
      "dense_units: 32\n",
      "learning_rate: 0.01\n",
      "Score: 0.0014072807971388102\n",
      "\n",
      "Trial 19 summary\n",
      "Hyperparameters:\n",
      "lstm_units: 128\n",
      "dropout_rate: 0.4\n",
      "activation_function: tanh\n",
      "dense_units: 32\n",
      "learning_rate: 0.001\n",
      "Score: 0.0014109888579696417\n"
     ]
    }
   ],
   "source": [
    "tuner_vol1.results_summary()"
   ]
  },
  {
   "cell_type": "code",
   "execution_count": 282,
   "metadata": {},
   "outputs": [],
   "source": [
    "best_hps_vol1 = tuner_vol1.get_best_hyperparameters(num_trials=1)[0]"
   ]
  },
  {
   "cell_type": "code",
   "execution_count": 283,
   "metadata": {},
   "outputs": [
    {
     "name": "stdout",
     "output_type": "stream",
     "text": [
      "\n",
      "The best hyperparameters are:\n",
      "- lstm_units: 128\n",
      "- dropout_rate: 0.0\n",
      "- activation function: tanh\n",
      "- dense_units: 16\n",
      "- learning_rate: 0.01\n",
      "\n"
     ]
    }
   ],
   "source": [
    "print(f\"\"\"\n",
    "The best hyperparameters are:\n",
    "- lstm_units: {best_hps_vol1.get('lstm_units')}\n",
    "- dropout_rate: {best_hps_vol1.get('dropout_rate')}\n",
    "- activation function: {best_hps_vol1.get('activation_function')}\n",
    "- dense_units: {best_hps_vol1.get('dense_units')}\n",
    "- learning_rate: {best_hps_vol1.get('learning_rate')}\n",
    "\"\"\")"
   ]
  },
  {
   "cell_type": "code",
   "execution_count": 284,
   "metadata": {},
   "outputs": [
    {
     "name": "stdout",
     "output_type": "stream",
     "text": [
      "\u001b[1m14/14\u001b[0m \u001b[32m━━━━━━━━━━━━━━━━━━━━\u001b[0m\u001b[37m\u001b[0m \u001b[1m2s\u001b[0m 79ms/step\n"
     ]
    },
    {
     "data": {
      "text/html": [
       "<div>\n",
       "<style scoped>\n",
       "    .dataframe tbody tr th:only-of-type {\n",
       "        vertical-align: middle;\n",
       "    }\n",
       "\n",
       "    .dataframe tbody tr th {\n",
       "        vertical-align: top;\n",
       "    }\n",
       "\n",
       "    .dataframe thead th {\n",
       "        text-align: right;\n",
       "    }\n",
       "</style>\n",
       "<table border=\"1\" class=\"dataframe\">\n",
       "  <thead>\n",
       "    <tr style=\"text-align: right;\">\n",
       "      <th></th>\n",
       "      <th>Test Pred</th>\n",
       "      <th>Actual</th>\n",
       "    </tr>\n",
       "  </thead>\n",
       "  <tbody>\n",
       "    <tr>\n",
       "      <th>0</th>\n",
       "      <td>0.086702</td>\n",
       "      <td>0.079889</td>\n",
       "    </tr>\n",
       "    <tr>\n",
       "      <th>1</th>\n",
       "      <td>0.082037</td>\n",
       "      <td>0.091336</td>\n",
       "    </tr>\n",
       "    <tr>\n",
       "      <th>2</th>\n",
       "      <td>0.079682</td>\n",
       "      <td>0.111259</td>\n",
       "    </tr>\n",
       "    <tr>\n",
       "      <th>3</th>\n",
       "      <td>0.083197</td>\n",
       "      <td>0.064627</td>\n",
       "    </tr>\n",
       "    <tr>\n",
       "      <th>4</th>\n",
       "      <td>0.075742</td>\n",
       "      <td>0.028034</td>\n",
       "    </tr>\n",
       "    <tr>\n",
       "      <th>...</th>\n",
       "      <td>...</td>\n",
       "      <td>...</td>\n",
       "    </tr>\n",
       "    <tr>\n",
       "      <th>427</th>\n",
       "      <td>0.059493</td>\n",
       "      <td>0.078970</td>\n",
       "    </tr>\n",
       "    <tr>\n",
       "      <th>428</th>\n",
       "      <td>0.063500</td>\n",
       "      <td>0.039090</td>\n",
       "    </tr>\n",
       "    <tr>\n",
       "      <th>429</th>\n",
       "      <td>0.055410</td>\n",
       "      <td>0.057859</td>\n",
       "    </tr>\n",
       "    <tr>\n",
       "      <th>430</th>\n",
       "      <td>0.055436</td>\n",
       "      <td>0.047275</td>\n",
       "    </tr>\n",
       "    <tr>\n",
       "      <th>431</th>\n",
       "      <td>0.055157</td>\n",
       "      <td>0.008445</td>\n",
       "    </tr>\n",
       "  </tbody>\n",
       "</table>\n",
       "<p>432 rows × 2 columns</p>\n",
       "</div>"
      ],
      "text/plain": [
       "     Test Pred    Actual\n",
       "0     0.086702  0.079889\n",
       "1     0.082037  0.091336\n",
       "2     0.079682  0.111259\n",
       "3     0.083197  0.064627\n",
       "4     0.075742  0.028034\n",
       "..         ...       ...\n",
       "427   0.059493  0.078970\n",
       "428   0.063500  0.039090\n",
       "429   0.055410  0.057859\n",
       "430   0.055436  0.047275\n",
       "431   0.055157  0.008445\n",
       "\n",
       "[432 rows x 2 columns]"
      ]
     },
     "execution_count": 284,
     "metadata": {},
     "output_type": "execute_result"
    }
   ],
   "source": [
    "y_test_best_pred_vol1 = best_model_vol1.predict(X_test_vol1).flatten()\n",
    "best_test_result_vol1 = pd.DataFrame(data= {'Test Pred':y_test_best_pred_vol1, 'Actual':y_test_vol1.flatten()})\n",
    "best_test_result_vol1"
   ]
  },
  {
   "cell_type": "code",
   "execution_count": 285,
   "metadata": {},
   "outputs": [
    {
     "data": {
      "text/plain": [
       "0.036501192698719355"
      ]
     },
     "execution_count": 285,
     "metadata": {},
     "output_type": "execute_result"
    }
   ],
   "source": [
    "RMSE_vol1 = np.sqrt(mean_squared_error(y_test_vol1, y_test_best_pred_vol1))\n",
    "RMSE_vol1"
   ]
  },
  {
   "cell_type": "code",
   "execution_count": 286,
   "metadata": {},
   "outputs": [
    {
     "data": {
      "text/plain": [
       "<matplotlib.legend.Legend at 0x241b63fe3d0>"
      ]
     },
     "execution_count": 286,
     "metadata": {},
     "output_type": "execute_result"
    },
    {
     "data": {
      "image/png": "[encoded data removed]",
      "text/plain": [
       "<Figure size 640x480 with 1 Axes>"
      ]
     },
     "metadata": {},
     "output_type": "display_data"
    }
   ],
   "source": [
    "plt.plot(best_test_result_vol1['Test Pred'][:200], label='Predicted', color='blue')\n",
    "plt.plot(best_test_result_vol1['Actual'][:200], label='Actual', color='red')\n",
    "plt.title('VOL_1 Values after tuning vs Actual VOL_1')\n",
    "plt.legend(loc='upper left')"
   ]
  }
 ],
 "metadata": {
  "kernelspec": {
   "display_name": "base",
   "language": "python",
   "name": "python3"
  },
  "language_info": {
   "codemirror_mode": {
    "name": "ipython",
    "version": 3
   },
   "file_extension": ".py",
   "mimetype": "text/x-python",
   "name": "python",
   "nbconvert_exporter": "python",
   "pygments_lexer": "ipython3",
   "version": "3.11.8"
  }
 },
 "nbformat": 4,
 "nbformat_minor": 2
}
