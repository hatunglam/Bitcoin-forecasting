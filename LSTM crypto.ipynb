{
 "cells": [
  {
   "cell_type": "code",
   "execution_count": 4,
   "metadata": {},
   "outputs": [],
   "source": [
    "import pandas as pd\n",
    "import numpy as np\n",
    "import matplotlib.pyplot as plt "
   ]
  },
  {
   "cell_type": "code",
   "execution_count": 5,
   "metadata": {},
   "outputs": [],
   "source": [
    "df = pd.read_excel('BTC_Trial.xlsx')"
   ]
  },
  {
   "cell_type": "code",
   "execution_count": 6,
   "metadata": {},
   "outputs": [
    {
     "data": {
      "text/html": [
       "<div>\n",
       "<style scoped>\n",
       "    .dataframe tbody tr th:only-of-type {\n",
       "        vertical-align: middle;\n",
       "    }\n",
       "\n",
       "    .dataframe tbody tr th {\n",
       "        vertical-align: top;\n",
       "    }\n",
       "\n",
       "    .dataframe thead th {\n",
       "        text-align: right;\n",
       "    }\n",
       "</style>\n",
       "<table border=\"1\" class=\"dataframe\">\n",
       "  <thead>\n",
       "    <tr style=\"text-align: right;\">\n",
       "      <th></th>\n",
       "      <th>No</th>\n",
       "      <th>Coin</th>\n",
       "      <th>Date</th>\n",
       "      <th>Close Price</th>\n",
       "      <th>VOL_1</th>\n",
       "      <th>VOL_7</th>\n",
       "      <th>VOL_30</th>\n",
       "      <th>Market Volumn</th>\n",
       "      <th>AverageBlockSize</th>\n",
       "      <th>AverageTransactionPerBlock</th>\n",
       "      <th>Hash rate</th>\n",
       "      <th>Network Difficulty</th>\n",
       "      <th>UniqueAddresses</th>\n",
       "      <th>TransactionsPerSecond</th>\n",
       "      <th>SP500</th>\n",
       "      <th>Oil</th>\n",
       "      <th>Gold</th>\n",
       "      <th>Interest Rate</th>\n",
       "      <th>EconomicUncertainty</th>\n",
       "      <th>CryptoIndex</th>\n",
       "    </tr>\n",
       "  </thead>\n",
       "  <tbody>\n",
       "    <tr>\n",
       "      <th>0</th>\n",
       "      <td>1</td>\n",
       "      <td>BTC</td>\n",
       "      <td>2024-06-01</td>\n",
       "      <td>67706.937500</td>\n",
       "      <td>0.002173</td>\n",
       "      <td>0.019801</td>\n",
       "      <td>0.052058</td>\n",
       "      <td>11641495604</td>\n",
       "      <td>1.501787</td>\n",
       "      <td>5248.439716</td>\n",
       "      <td>5.914422e+08</td>\n",
       "      <td>8.438146e+13</td>\n",
       "      <td>449639.0</td>\n",
       "      <td>7.618403</td>\n",
       "      <td>5277.51</td>\n",
       "      <td>78.96</td>\n",
       "      <td>2345.8</td>\n",
       "      <td>4.94</td>\n",
       "      <td>0.066282</td>\n",
       "      <td>72.0</td>\n",
       "    </tr>\n",
       "    <tr>\n",
       "      <th>1</th>\n",
       "      <td>2</td>\n",
       "      <td>BTC</td>\n",
       "      <td>2024-05-31</td>\n",
       "      <td>67491.414063</td>\n",
       "      <td>0.006946</td>\n",
       "      <td>0.020094</td>\n",
       "      <td>0.053234</td>\n",
       "      <td>27387283769</td>\n",
       "      <td>1.496345</td>\n",
       "      <td>4739.668919</td>\n",
       "      <td>6.208045e+08</td>\n",
       "      <td>8.438146e+13</td>\n",
       "      <td>528690.0</td>\n",
       "      <td>4.856163</td>\n",
       "      <td>5277.51</td>\n",
       "      <td>78.96</td>\n",
       "      <td>2345.8</td>\n",
       "      <td>4.94</td>\n",
       "      <td>0.057060</td>\n",
       "      <td>73.0</td>\n",
       "    </tr>\n",
       "    <tr>\n",
       "      <th>2</th>\n",
       "      <td>3</td>\n",
       "      <td>BTC</td>\n",
       "      <td>2024-05-30</td>\n",
       "      <td>68364.992188</td>\n",
       "      <td>0.008247</td>\n",
       "      <td>0.020945</td>\n",
       "      <td>0.059378</td>\n",
       "      <td>29509712534</td>\n",
       "      <td>1.519309</td>\n",
       "      <td>4149.731707</td>\n",
       "      <td>5.159389e+08</td>\n",
       "      <td>8.438146e+13</td>\n",
       "      <td>499634.0</td>\n",
       "      <td>6.432899</td>\n",
       "      <td>5235.48</td>\n",
       "      <td>78.96</td>\n",
       "      <td>2366.5</td>\n",
       "      <td>4.95</td>\n",
       "      <td>0.066164</td>\n",
       "      <td>73.0</td>\n",
       "    </tr>\n",
       "    <tr>\n",
       "      <th>3</th>\n",
       "      <td>4</td>\n",
       "      <td>BTC</td>\n",
       "      <td>2024-05-29</td>\n",
       "      <td>67578.093750</td>\n",
       "      <td>0.005940</td>\n",
       "      <td>0.022635</td>\n",
       "      <td>0.061443</td>\n",
       "      <td>26707072906</td>\n",
       "      <td>1.505086</td>\n",
       "      <td>5295.094891</td>\n",
       "      <td>5.746637e+08</td>\n",
       "      <td>8.438146e+13</td>\n",
       "      <td>449070.0</td>\n",
       "      <td>6.519184</td>\n",
       "      <td>5266.95</td>\n",
       "      <td>80.24</td>\n",
       "      <td>2341.2</td>\n",
       "      <td>4.97</td>\n",
       "      <td>0.059248</td>\n",
       "      <td>72.0</td>\n",
       "    </tr>\n",
       "    <tr>\n",
       "      <th>4</th>\n",
       "      <td>5</td>\n",
       "      <td>BTC</td>\n",
       "      <td>2024-05-28</td>\n",
       "      <td>68296.218750</td>\n",
       "      <td>0.010842</td>\n",
       "      <td>0.023035</td>\n",
       "      <td>0.062350</td>\n",
       "      <td>32722265965</td>\n",
       "      <td>1.572531</td>\n",
       "      <td>4453.656716</td>\n",
       "      <td>5.620798e+08</td>\n",
       "      <td>8.438146e+13</td>\n",
       "      <td>448181.0</td>\n",
       "      <td>6.046875</td>\n",
       "      <td>5306.04</td>\n",
       "      <td>80.9</td>\n",
       "      <td>2356.5</td>\n",
       "      <td>4.96</td>\n",
       "      <td>0.066865</td>\n",
       "      <td>72.0</td>\n",
       "    </tr>\n",
       "  </tbody>\n",
       "</table>\n",
       "</div>"
      ],
      "text/plain": [
       "   No Coin       Date   Close Price     VOL_1     VOL_7    VOL_30  \\\n",
       "0   1  BTC 2024-06-01  67706.937500  0.002173  0.019801  0.052058   \n",
       "1   2  BTC 2024-05-31  67491.414063  0.006946  0.020094  0.053234   \n",
       "2   3  BTC 2024-05-30  68364.992188  0.008247  0.020945  0.059378   \n",
       "3   4  BTC 2024-05-29  67578.093750  0.005940  0.022635  0.061443   \n",
       "4   5  BTC 2024-05-28  68296.218750  0.010842  0.023035  0.062350   \n",
       "\n",
       "   Market Volumn  AverageBlockSize  AverageTransactionPerBlock     Hash rate  \\\n",
       "0    11641495604          1.501787                 5248.439716  5.914422e+08   \n",
       "1    27387283769          1.496345                 4739.668919  6.208045e+08   \n",
       "2    29509712534          1.519309                 4149.731707  5.159389e+08   \n",
       "3    26707072906          1.505086                 5295.094891  5.746637e+08   \n",
       "4    32722265965          1.572531                 4453.656716  5.620798e+08   \n",
       "\n",
       "   Network Difficulty  UniqueAddresses  TransactionsPerSecond    SP500    Oil  \\\n",
       "0        8.438146e+13         449639.0               7.618403  5277.51  78.96   \n",
       "1        8.438146e+13         528690.0               4.856163  5277.51  78.96   \n",
       "2        8.438146e+13         499634.0               6.432899  5235.48  78.96   \n",
       "3        8.438146e+13         449070.0               6.519184  5266.95  80.24   \n",
       "4        8.438146e+13         448181.0               6.046875  5306.04   80.9   \n",
       "\n",
       "     Gold Interest Rate  EconomicUncertainty  CryptoIndex  \n",
       "0  2345.8          4.94             0.066282         72.0  \n",
       "1  2345.8          4.94             0.057060         73.0  \n",
       "2  2366.5          4.95             0.066164         73.0  \n",
       "3  2341.2          4.97             0.059248         72.0  \n",
       "4  2356.5          4.96             0.066865         72.0  "
      ]
     },
     "execution_count": 6,
     "metadata": {},
     "output_type": "execute_result"
    }
   ],
   "source": [
    "df.head()"
   ]
  },
  {
   "cell_type": "code",
   "execution_count": 7,
   "metadata": {},
   "outputs": [],
   "source": [
    "col_to_change = ['Oil', 'Interest Rate']\n",
    "\n",
    "for col in col_to_change:\n",
    "    for i in range(1, len(df)):\n",
    "        if df[col][i] == '.':\n",
    "            df.at[i, col] = df[col][i - 1]"
   ]
  },
  {
   "cell_type": "code",
   "execution_count": 8,
   "metadata": {},
   "outputs": [],
   "source": [
    "df = df.dropna(subset= ['CryptoIndex', 'UniqueAddresses'])\n",
    "df.set_index('Date', inplace= True)\n",
    "df['Oil'] = df['Oil'].astype('float')\n",
    "df['Interest Rate'] = df['Interest Rate'].astype('float')\n",
    "df.drop('No', axis=1, inplace= True)"
   ]
  },
  {
   "cell_type": "code",
   "execution_count": 9,
   "metadata": {},
   "outputs": [
    {
     "name": "stdout",
     "output_type": "stream",
     "text": [
      "<class 'pandas.core.frame.DataFrame'>\n",
      "DatetimeIndex: 2308 entries, 2024-06-01 to 2018-02-04\n",
      "Data columns (total 18 columns):\n",
      " #   Column                      Non-Null Count  Dtype  \n",
      "---  ------                      --------------  -----  \n",
      " 0   Coin                        2308 non-null   object \n",
      " 1   Close Price                 2308 non-null   float64\n",
      " 2   VOL_1                       2308 non-null   float64\n",
      " 3   VOL_7                       2308 non-null   float64\n",
      " 4   VOL_30                      2308 non-null   float64\n",
      " 5   Market Volumn               2308 non-null   int64  \n",
      " 6   AverageBlockSize            2308 non-null   float64\n",
      " 7   AverageTransactionPerBlock  2308 non-null   float64\n",
      " 8   Hash rate                   2308 non-null   float64\n",
      " 9   Network Difficulty          2308 non-null   float64\n",
      " 10  UniqueAddresses             2308 non-null   float64\n",
      " 11  TransactionsPerSecond       2308 non-null   float64\n",
      " 12  SP500                       2308 non-null   float64\n",
      " 13  Oil                         2308 non-null   float64\n",
      " 14  Gold                        2308 non-null   float64\n",
      " 15  Interest Rate               2308 non-null   float64\n",
      " 16  EconomicUncertainty         2308 non-null   float64\n",
      " 17  CryptoIndex                 2308 non-null   float64\n",
      "dtypes: float64(16), int64(1), object(1)\n",
      "memory usage: 342.6+ KB\n"
     ]
    }
   ],
   "source": [
    "df.info()"
   ]
  },
  {
   "cell_type": "code",
   "execution_count": 10,
   "metadata": {},
   "outputs": [
    {
     "data": {
      "text/html": [
       "<div>\n",
       "<style scoped>\n",
       "    .dataframe tbody tr th:only-of-type {\n",
       "        vertical-align: middle;\n",
       "    }\n",
       "\n",
       "    .dataframe tbody tr th {\n",
       "        vertical-align: top;\n",
       "    }\n",
       "\n",
       "    .dataframe thead th {\n",
       "        text-align: right;\n",
       "    }\n",
       "</style>\n",
       "<table border=\"1\" class=\"dataframe\">\n",
       "  <thead>\n",
       "    <tr style=\"text-align: right;\">\n",
       "      <th></th>\n",
       "      <th>Coin</th>\n",
       "      <th>Close Price</th>\n",
       "      <th>VOL_1</th>\n",
       "      <th>VOL_7</th>\n",
       "      <th>VOL_30</th>\n",
       "      <th>Market Volumn</th>\n",
       "      <th>AverageBlockSize</th>\n",
       "      <th>AverageTransactionPerBlock</th>\n",
       "      <th>Hash rate</th>\n",
       "      <th>Network Difficulty</th>\n",
       "      <th>UniqueAddresses</th>\n",
       "      <th>TransactionsPerSecond</th>\n",
       "      <th>SP500</th>\n",
       "      <th>Oil</th>\n",
       "      <th>Gold</th>\n",
       "      <th>Interest Rate</th>\n",
       "      <th>EconomicUncertainty</th>\n",
       "      <th>CryptoIndex</th>\n",
       "    </tr>\n",
       "    <tr>\n",
       "      <th>Date</th>\n",
       "      <th></th>\n",
       "      <th></th>\n",
       "      <th></th>\n",
       "      <th></th>\n",
       "      <th></th>\n",
       "      <th></th>\n",
       "      <th></th>\n",
       "      <th></th>\n",
       "      <th></th>\n",
       "      <th></th>\n",
       "      <th></th>\n",
       "      <th></th>\n",
       "      <th></th>\n",
       "      <th></th>\n",
       "      <th></th>\n",
       "      <th></th>\n",
       "      <th></th>\n",
       "      <th></th>\n",
       "    </tr>\n",
       "  </thead>\n",
       "  <tbody>\n",
       "    <tr>\n",
       "      <th>2024-06-01</th>\n",
       "      <td>BTC</td>\n",
       "      <td>67706.937500</td>\n",
       "      <td>0.002173</td>\n",
       "      <td>0.019801</td>\n",
       "      <td>0.052058</td>\n",
       "      <td>11641495604</td>\n",
       "      <td>1.501787</td>\n",
       "      <td>5248.439716</td>\n",
       "      <td>5.914422e+08</td>\n",
       "      <td>8.438146e+13</td>\n",
       "      <td>449639.0</td>\n",
       "      <td>7.618403</td>\n",
       "      <td>5277.51</td>\n",
       "      <td>78.96</td>\n",
       "      <td>2345.8</td>\n",
       "      <td>4.94</td>\n",
       "      <td>0.066282</td>\n",
       "      <td>72.0</td>\n",
       "    </tr>\n",
       "    <tr>\n",
       "      <th>2024-05-31</th>\n",
       "      <td>BTC</td>\n",
       "      <td>67491.414063</td>\n",
       "      <td>0.006946</td>\n",
       "      <td>0.020094</td>\n",
       "      <td>0.053234</td>\n",
       "      <td>27387283769</td>\n",
       "      <td>1.496345</td>\n",
       "      <td>4739.668919</td>\n",
       "      <td>6.208045e+08</td>\n",
       "      <td>8.438146e+13</td>\n",
       "      <td>528690.0</td>\n",
       "      <td>4.856163</td>\n",
       "      <td>5277.51</td>\n",
       "      <td>78.96</td>\n",
       "      <td>2345.8</td>\n",
       "      <td>4.94</td>\n",
       "      <td>0.057060</td>\n",
       "      <td>73.0</td>\n",
       "    </tr>\n",
       "    <tr>\n",
       "      <th>2024-05-30</th>\n",
       "      <td>BTC</td>\n",
       "      <td>68364.992188</td>\n",
       "      <td>0.008247</td>\n",
       "      <td>0.020945</td>\n",
       "      <td>0.059378</td>\n",
       "      <td>29509712534</td>\n",
       "      <td>1.519309</td>\n",
       "      <td>4149.731707</td>\n",
       "      <td>5.159389e+08</td>\n",
       "      <td>8.438146e+13</td>\n",
       "      <td>499634.0</td>\n",
       "      <td>6.432899</td>\n",
       "      <td>5235.48</td>\n",
       "      <td>78.96</td>\n",
       "      <td>2366.5</td>\n",
       "      <td>4.95</td>\n",
       "      <td>0.066164</td>\n",
       "      <td>73.0</td>\n",
       "    </tr>\n",
       "    <tr>\n",
       "      <th>2024-05-29</th>\n",
       "      <td>BTC</td>\n",
       "      <td>67578.093750</td>\n",
       "      <td>0.005940</td>\n",
       "      <td>0.022635</td>\n",
       "      <td>0.061443</td>\n",
       "      <td>26707072906</td>\n",
       "      <td>1.505086</td>\n",
       "      <td>5295.094891</td>\n",
       "      <td>5.746637e+08</td>\n",
       "      <td>8.438146e+13</td>\n",
       "      <td>449070.0</td>\n",
       "      <td>6.519184</td>\n",
       "      <td>5266.95</td>\n",
       "      <td>80.24</td>\n",
       "      <td>2341.2</td>\n",
       "      <td>4.97</td>\n",
       "      <td>0.059248</td>\n",
       "      <td>72.0</td>\n",
       "    </tr>\n",
       "    <tr>\n",
       "      <th>2024-05-28</th>\n",
       "      <td>BTC</td>\n",
       "      <td>68296.218750</td>\n",
       "      <td>0.010842</td>\n",
       "      <td>0.023035</td>\n",
       "      <td>0.062350</td>\n",
       "      <td>32722265965</td>\n",
       "      <td>1.572531</td>\n",
       "      <td>4453.656716</td>\n",
       "      <td>5.620798e+08</td>\n",
       "      <td>8.438146e+13</td>\n",
       "      <td>448181.0</td>\n",
       "      <td>6.046875</td>\n",
       "      <td>5306.04</td>\n",
       "      <td>80.90</td>\n",
       "      <td>2356.5</td>\n",
       "      <td>4.96</td>\n",
       "      <td>0.066865</td>\n",
       "      <td>72.0</td>\n",
       "    </tr>\n",
       "  </tbody>\n",
       "</table>\n",
       "</div>"
      ],
      "text/plain": [
       "           Coin   Close Price     VOL_1     VOL_7    VOL_30  Market Volumn  \\\n",
       "Date                                                                         \n",
       "2024-06-01  BTC  67706.937500  0.002173  0.019801  0.052058    11641495604   \n",
       "2024-05-31  BTC  67491.414063  0.006946  0.020094  0.053234    27387283769   \n",
       "2024-05-30  BTC  68364.992188  0.008247  0.020945  0.059378    29509712534   \n",
       "2024-05-29  BTC  67578.093750  0.005940  0.022635  0.061443    26707072906   \n",
       "2024-05-28  BTC  68296.218750  0.010842  0.023035  0.062350    32722265965   \n",
       "\n",
       "            AverageBlockSize  AverageTransactionPerBlock     Hash rate  \\\n",
       "Date                                                                     \n",
       "2024-06-01          1.501787                 5248.439716  5.914422e+08   \n",
       "2024-05-31          1.496345                 4739.668919  6.208045e+08   \n",
       "2024-05-30          1.519309                 4149.731707  5.159389e+08   \n",
       "2024-05-29          1.505086                 5295.094891  5.746637e+08   \n",
       "2024-05-28          1.572531                 4453.656716  5.620798e+08   \n",
       "\n",
       "            Network Difficulty  UniqueAddresses  TransactionsPerSecond  \\\n",
       "Date                                                                     \n",
       "2024-06-01        8.438146e+13         449639.0               7.618403   \n",
       "2024-05-31        8.438146e+13         528690.0               4.856163   \n",
       "2024-05-30        8.438146e+13         499634.0               6.432899   \n",
       "2024-05-29        8.438146e+13         449070.0               6.519184   \n",
       "2024-05-28        8.438146e+13         448181.0               6.046875   \n",
       "\n",
       "              SP500    Oil    Gold  Interest Rate  EconomicUncertainty  \\\n",
       "Date                                                                     \n",
       "2024-06-01  5277.51  78.96  2345.8           4.94             0.066282   \n",
       "2024-05-31  5277.51  78.96  2345.8           4.94             0.057060   \n",
       "2024-05-30  5235.48  78.96  2366.5           4.95             0.066164   \n",
       "2024-05-29  5266.95  80.24  2341.2           4.97             0.059248   \n",
       "2024-05-28  5306.04  80.90  2356.5           4.96             0.066865   \n",
       "\n",
       "            CryptoIndex  \n",
       "Date                     \n",
       "2024-06-01         72.0  \n",
       "2024-05-31         73.0  \n",
       "2024-05-30         73.0  \n",
       "2024-05-29         72.0  \n",
       "2024-05-28         72.0  "
      ]
     },
     "execution_count": 10,
     "metadata": {},
     "output_type": "execute_result"
    }
   ],
   "source": [
    "df.head()"
   ]
  },
  {
   "cell_type": "code",
   "execution_count": 11,
   "metadata": {},
   "outputs": [
    {
     "data": {
      "text/html": [
       "<div>\n",
       "<style scoped>\n",
       "    .dataframe tbody tr th:only-of-type {\n",
       "        vertical-align: middle;\n",
       "    }\n",
       "\n",
       "    .dataframe tbody tr th {\n",
       "        vertical-align: top;\n",
       "    }\n",
       "\n",
       "    .dataframe thead th {\n",
       "        text-align: right;\n",
       "    }\n",
       "</style>\n",
       "<table border=\"1\" class=\"dataframe\">\n",
       "  <thead>\n",
       "    <tr style=\"text-align: right;\">\n",
       "      <th></th>\n",
       "      <th>Coin</th>\n",
       "      <th>Close Price</th>\n",
       "      <th>VOL_1</th>\n",
       "      <th>VOL_7</th>\n",
       "      <th>VOL_30</th>\n",
       "      <th>Market Volumn</th>\n",
       "      <th>AverageBlockSize</th>\n",
       "      <th>AverageTransactionPerBlock</th>\n",
       "      <th>Hash rate</th>\n",
       "      <th>Network Difficulty</th>\n",
       "      <th>UniqueAddresses</th>\n",
       "      <th>TransactionsPerSecond</th>\n",
       "      <th>SP500</th>\n",
       "      <th>Oil</th>\n",
       "      <th>Gold</th>\n",
       "      <th>Interest Rate</th>\n",
       "      <th>EconomicUncertainty</th>\n",
       "      <th>CryptoIndex</th>\n",
       "    </tr>\n",
       "    <tr>\n",
       "      <th>Date</th>\n",
       "      <th></th>\n",
       "      <th></th>\n",
       "      <th></th>\n",
       "      <th></th>\n",
       "      <th></th>\n",
       "      <th></th>\n",
       "      <th></th>\n",
       "      <th></th>\n",
       "      <th></th>\n",
       "      <th></th>\n",
       "      <th></th>\n",
       "      <th></th>\n",
       "      <th></th>\n",
       "      <th></th>\n",
       "      <th></th>\n",
       "      <th></th>\n",
       "      <th></th>\n",
       "      <th></th>\n",
       "    </tr>\n",
       "  </thead>\n",
       "  <tbody>\n",
       "    <tr>\n",
       "      <th>2018-02-04</th>\n",
       "      <td>BTC</td>\n",
       "      <td>8277.009766</td>\n",
       "      <td>0.058984</td>\n",
       "      <td>0.104624</td>\n",
       "      <td>0.204218</td>\n",
       "      <td>7073549824</td>\n",
       "      <td>0.990488</td>\n",
       "      <td>975.769663</td>\n",
       "      <td>2.303314e+07</td>\n",
       "      <td>2.603077e+12</td>\n",
       "      <td>396695.0</td>\n",
       "      <td>2.048958</td>\n",
       "      <td>2648.94</td>\n",
       "      <td>64.18</td>\n",
       "      <td>1336.5</td>\n",
       "      <td>1.80</td>\n",
       "      <td>0.234505</td>\n",
       "      <td>30.0</td>\n",
       "    </tr>\n",
       "    <tr>\n",
       "      <th>2018-02-05</th>\n",
       "      <td>BTC</td>\n",
       "      <td>6955.270020</td>\n",
       "      <td>0.082982</td>\n",
       "      <td>0.130688</td>\n",
       "      <td>0.219808</td>\n",
       "      <td>9285289984</td>\n",
       "      <td>1.102733</td>\n",
       "      <td>1169.529730</td>\n",
       "      <td>2.393894e+07</td>\n",
       "      <td>2.603077e+12</td>\n",
       "      <td>486554.0</td>\n",
       "      <td>1.926910</td>\n",
       "      <td>2648.94</td>\n",
       "      <td>64.18</td>\n",
       "      <td>1336.5</td>\n",
       "      <td>1.80</td>\n",
       "      <td>0.248054</td>\n",
       "      <td>15.0</td>\n",
       "    </tr>\n",
       "    <tr>\n",
       "      <th>2018-02-06</th>\n",
       "      <td>BTC</td>\n",
       "      <td>7754.000000</td>\n",
       "      <td>0.041061</td>\n",
       "      <td>0.134668</td>\n",
       "      <td>0.221316</td>\n",
       "      <td>13999800320</td>\n",
       "      <td>1.067524</td>\n",
       "      <td>1436.000000</td>\n",
       "      <td>2.429314e+07</td>\n",
       "      <td>2.607870e+12</td>\n",
       "      <td>589897.0</td>\n",
       "      <td>2.467014</td>\n",
       "      <td>2695.14</td>\n",
       "      <td>63.48</td>\n",
       "      <td>1329.5</td>\n",
       "      <td>1.82</td>\n",
       "      <td>0.223228</td>\n",
       "      <td>40.0</td>\n",
       "    </tr>\n",
       "    <tr>\n",
       "      <th>2018-02-07</th>\n",
       "      <td>BTC</td>\n",
       "      <td>7621.299805</td>\n",
       "      <td>0.041213</td>\n",
       "      <td>0.136422</td>\n",
       "      <td>0.222866</td>\n",
       "      <td>9169280000</td>\n",
       "      <td>1.071722</td>\n",
       "      <td>1515.737589</td>\n",
       "      <td>2.014902e+07</td>\n",
       "      <td>2.874674e+12</td>\n",
       "      <td>489403.0</td>\n",
       "      <td>2.689236</td>\n",
       "      <td>2681.66</td>\n",
       "      <td>61.91</td>\n",
       "      <td>1314.6</td>\n",
       "      <td>1.85</td>\n",
       "      <td>0.201785</td>\n",
       "      <td>24.0</td>\n",
       "    </tr>\n",
       "    <tr>\n",
       "      <th>2018-02-08</th>\n",
       "      <td>BTC</td>\n",
       "      <td>8265.589844</td>\n",
       "      <td>0.030796</td>\n",
       "      <td>0.130387</td>\n",
       "      <td>0.222486</td>\n",
       "      <td>9346750464</td>\n",
       "      <td>1.048305</td>\n",
       "      <td>1322.816794</td>\n",
       "      <td>1.872001e+07</td>\n",
       "      <td>2.874674e+12</td>\n",
       "      <td>398608.0</td>\n",
       "      <td>2.386285</td>\n",
       "      <td>2581.00</td>\n",
       "      <td>61.30</td>\n",
       "      <td>1319.0</td>\n",
       "      <td>1.85</td>\n",
       "      <td>0.183604</td>\n",
       "      <td>11.0</td>\n",
       "    </tr>\n",
       "  </tbody>\n",
       "</table>\n",
       "</div>"
      ],
      "text/plain": [
       "           Coin  Close Price     VOL_1     VOL_7    VOL_30  Market Volumn  \\\n",
       "Date                                                                        \n",
       "2018-02-04  BTC  8277.009766  0.058984  0.104624  0.204218     7073549824   \n",
       "2018-02-05  BTC  6955.270020  0.082982  0.130688  0.219808     9285289984   \n",
       "2018-02-06  BTC  7754.000000  0.041061  0.134668  0.221316    13999800320   \n",
       "2018-02-07  BTC  7621.299805  0.041213  0.136422  0.222866     9169280000   \n",
       "2018-02-08  BTC  8265.589844  0.030796  0.130387  0.222486     9346750464   \n",
       "\n",
       "            AverageBlockSize  AverageTransactionPerBlock     Hash rate  \\\n",
       "Date                                                                     \n",
       "2018-02-04          0.990488                  975.769663  2.303314e+07   \n",
       "2018-02-05          1.102733                 1169.529730  2.393894e+07   \n",
       "2018-02-06          1.067524                 1436.000000  2.429314e+07   \n",
       "2018-02-07          1.071722                 1515.737589  2.014902e+07   \n",
       "2018-02-08          1.048305                 1322.816794  1.872001e+07   \n",
       "\n",
       "            Network Difficulty  UniqueAddresses  TransactionsPerSecond  \\\n",
       "Date                                                                     \n",
       "2018-02-04        2.603077e+12         396695.0               2.048958   \n",
       "2018-02-05        2.603077e+12         486554.0               1.926910   \n",
       "2018-02-06        2.607870e+12         589897.0               2.467014   \n",
       "2018-02-07        2.874674e+12         489403.0               2.689236   \n",
       "2018-02-08        2.874674e+12         398608.0               2.386285   \n",
       "\n",
       "              SP500    Oil    Gold  Interest Rate  EconomicUncertainty  \\\n",
       "Date                                                                     \n",
       "2018-02-04  2648.94  64.18  1336.5           1.80             0.234505   \n",
       "2018-02-05  2648.94  64.18  1336.5           1.80             0.248054   \n",
       "2018-02-06  2695.14  63.48  1329.5           1.82             0.223228   \n",
       "2018-02-07  2681.66  61.91  1314.6           1.85             0.201785   \n",
       "2018-02-08  2581.00  61.30  1319.0           1.85             0.183604   \n",
       "\n",
       "            CryptoIndex  \n",
       "Date                     \n",
       "2018-02-04         30.0  \n",
       "2018-02-05         15.0  \n",
       "2018-02-06         40.0  \n",
       "2018-02-07         24.0  \n",
       "2018-02-08         11.0  "
      ]
     },
     "execution_count": 11,
     "metadata": {},
     "output_type": "execute_result"
    }
   ],
   "source": [
    "df.sort_index(ascending= True, inplace= True)\n",
    "df.head()"
   ]
  },
  {
   "cell_type": "code",
   "execution_count": 12,
   "metadata": {},
   "outputs": [
    {
     "data": {
      "text/plain": [
       "[<matplotlib.lines.Line2D at 0x1f118510690>]"
      ]
     },
     "execution_count": 12,
     "metadata": {},
     "output_type": "execute_result"
    },
    {
     "data": {
      "image/png": "[encoded data removed]",
      "text/plain": [
       "<Figure size 640x480 with 1 Axes>"
      ]
     },
     "metadata": {},
     "output_type": "display_data"
    }
   ],
   "source": [
    "plt.plot(df['Close Price'])"
   ]
  },
  {
   "cell_type": "markdown",
   "metadata": {},
   "source": [
    "## Univariate modelling VOL_1"
   ]
  },
  {
   "cell_type": "code",
   "execution_count": 13,
   "metadata": {},
   "outputs": [
    {
     "data": {
      "text/plain": [
       "array([ 8277.009766,  6955.27002 ,  7754.      , ..., 68364.992188,\n",
       "       67491.414063, 67706.9375  ])"
      ]
     },
     "execution_count": 13,
     "metadata": {},
     "output_type": "execute_result"
    }
   ],
   "source": [
    "vol1 = df['Close Price'].values\n",
    "vol1"
   ]
  },
  {
   "cell_type": "code",
   "execution_count": 14,
   "metadata": {},
   "outputs": [],
   "source": [
    "from sklearn.preprocessing import MinMaxScaler\n",
    "\n",
    "scaler = MinMaxScaler(feature_range= (0,1))\n",
    "scaled_df = scaler.fit_transform(vol1.reshape(-1,1))"
   ]
  },
  {
   "cell_type": "code",
   "execution_count": 15,
   "metadata": {},
   "outputs": [
    {
     "data": {
      "text/plain": [
       "array([[0.07216154],\n",
       "       [0.05323811],\n",
       "       [0.06467358],\n",
       "       ...,\n",
       "       [0.93244484],\n",
       "       [0.91993777],\n",
       "       [0.92302343]])"
      ]
     },
     "execution_count": 15,
     "metadata": {},
     "output_type": "execute_result"
    }
   ],
   "source": [
    "scaled_df"
   ]
  },
  {
   "cell_type": "code",
   "execution_count": 16,
   "metadata": {},
   "outputs": [],
   "source": [
    "def df_to_X_y(df, wind_size=5):\n",
    "    df_as_np = df # convert dataframe to numpy array\n",
    "    X = [] \n",
    "    y = []\n",
    "    for i in range(len(df_as_np) - wind_size):\n",
    "        row = [a for a in df_as_np[i : i+wind_size]] \n",
    "        X.append(row)\n",
    "        label = df_as_np[i+wind_size] \n",
    "        y.append(label)\n",
    "    return np.array(X), np.array(y) "
   ]
  },
  {
   "cell_type": "code",
   "execution_count": 17,
   "metadata": {},
   "outputs": [],
   "source": [
    "X, y = df_to_X_y(scaled_df, 30)"
   ]
  },
  {
   "cell_type": "code",
   "execution_count": 18,
   "metadata": {},
   "outputs": [
    {
     "data": {
      "text/plain": [
       "(2278, 30, 1)"
      ]
     },
     "execution_count": 18,
     "metadata": {},
     "output_type": "execute_result"
    }
   ],
   "source": [
    "X.shape"
   ]
  },
  {
   "cell_type": "code",
   "execution_count": 19,
   "metadata": {},
   "outputs": [
    {
     "data": {
      "text/plain": [
       "(2278, 1)"
      ]
     },
     "execution_count": 19,
     "metadata": {},
     "output_type": "execute_result"
    }
   ],
   "source": [
    "y.shape"
   ]
  },
  {
   "cell_type": "code",
   "execution_count": 20,
   "metadata": {},
   "outputs": [
    {
     "data": {
      "text/plain": [
       "((1500, 30, 1), (1500, 1), (478, 30, 1), (478, 1), (300, 30, 1), (300, 1))"
      ]
     },
     "execution_count": 20,
     "metadata": {},
     "output_type": "execute_result"
    }
   ],
   "source": [
    "X_train, y_train = X[:1500], y[:1500]\n",
    "X_val, y_val = X[1500 : 1800], y[1500 : 1800]\n",
    "X_test, y_test = X[1800:], y[1800:]\n",
    "\n",
    "X_train.shape, y_train.shape, X_test.shape, y_test.shape, X_val.shape, y_val.shape"
   ]
  },
  {
   "cell_type": "code",
   "execution_count": 21,
   "metadata": {},
   "outputs": [
    {
     "data": {
      "text/plain": [
       "30"
      ]
     },
     "execution_count": 21,
     "metadata": {},
     "output_type": "execute_result"
    }
   ],
   "source": [
    "X_train.shape[1]"
   ]
  },
  {
   "cell_type": "code",
   "execution_count": 22,
   "metadata": {},
   "outputs": [],
   "source": [
    "from tensorflow.keras.models import Sequential\n",
    "from tensorflow.keras.layers  import *\n",
    "from tensorflow.keras.callbacks import ModelCheckpoint\n",
    "from tensorflow.keras.losses import MeanSquaredError \n",
    "from tensorflow.keras.metrics import RootMeanSquaredError\n",
    "from tensorflow.keras.optimizers import Adam"
   ]
  },
  {
   "cell_type": "code",
   "execution_count": 23,
   "metadata": {},
   "outputs": [
    {
     "data": {
      "text/html": [
       "<pre style=\"white-space:pre;overflow-x:auto;line-height:normal;font-family:Menlo,'DejaVu Sans Mono',consolas,'Courier New',monospace\"><span style=\"font-weight: bold\">Model: \"sequential\"</span>\n",
       "</pre>\n"
      ],
      "text/plain": [
       "\u001b[1mModel: \"sequential\"\u001b[0m\n"
      ]
     },
     "metadata": {},
     "output_type": "display_data"
    },
    {
     "data": {
      "text/html": [
       "<pre style=\"white-space:pre;overflow-x:auto;line-height:normal;font-family:Menlo,'DejaVu Sans Mono',consolas,'Courier New',monospace\">┏━━━━━━━━━━━━━━━━━━━━━━━━━━━━━━━━━┳━━━━━━━━━━━━━━━━━━━━━━━━┳━━━━━━━━━━━━━━━┓\n",
       "┃<span style=\"font-weight: bold\"> Layer (type)                    </span>┃<span style=\"font-weight: bold\"> Output Shape           </span>┃<span style=\"font-weight: bold\">       Param # </span>┃\n",
       "┡━━━━━━━━━━━━━━━━━━━━━━━━━━━━━━━━━╇━━━━━━━━━━━━━━━━━━━━━━━━╇━━━━━━━━━━━━━━━┩\n",
       "│ lstm (<span style=\"color: #0087ff; text-decoration-color: #0087ff\">LSTM</span>)                     │ (<span style=\"color: #00d7ff; text-decoration-color: #00d7ff\">None</span>, <span style=\"color: #00af00; text-decoration-color: #00af00\">64</span>)             │        <span style=\"color: #00af00; text-decoration-color: #00af00\">16,896</span> │\n",
       "├─────────────────────────────────┼────────────────────────┼───────────────┤\n",
       "│ dense (<span style=\"color: #0087ff; text-decoration-color: #0087ff\">Dense</span>)                   │ (<span style=\"color: #00d7ff; text-decoration-color: #00d7ff\">None</span>, <span style=\"color: #00af00; text-decoration-color: #00af00\">8</span>)              │           <span style=\"color: #00af00; text-decoration-color: #00af00\">520</span> │\n",
       "├─────────────────────────────────┼────────────────────────┼───────────────┤\n",
       "│ dense_1 (<span style=\"color: #0087ff; text-decoration-color: #0087ff\">Dense</span>)                 │ (<span style=\"color: #00d7ff; text-decoration-color: #00d7ff\">None</span>, <span style=\"color: #00af00; text-decoration-color: #00af00\">1</span>)              │             <span style=\"color: #00af00; text-decoration-color: #00af00\">9</span> │\n",
       "└─────────────────────────────────┴────────────────────────┴───────────────┘\n",
       "</pre>\n"
      ],
      "text/plain": [
       "┏━━━━━━━━━━━━━━━━━━━━━━━━━━━━━━━━━┳━━━━━━━━━━━━━━━━━━━━━━━━┳━━━━━━━━━━━━━━━┓\n",
       "┃\u001b[1m \u001b[0m\u001b[1mLayer (type)                   \u001b[0m\u001b[1m \u001b[0m┃\u001b[1m \u001b[0m\u001b[1mOutput Shape          \u001b[0m\u001b[1m \u001b[0m┃\u001b[1m \u001b[0m\u001b[1m      Param #\u001b[0m\u001b[1m \u001b[0m┃\n",
       "┡━━━━━━━━━━━━━━━━━━━━━━━━━━━━━━━━━╇━━━━━━━━━━━━━━━━━━━━━━━━╇━━━━━━━━━━━━━━━┩\n",
       "│ lstm (\u001b[38;5;33mLSTM\u001b[0m)                     │ (\u001b[38;5;45mNone\u001b[0m, \u001b[38;5;34m64\u001b[0m)             │        \u001b[38;5;34m16,896\u001b[0m │\n",
       "├─────────────────────────────────┼────────────────────────┼───────────────┤\n",
       "│ dense (\u001b[38;5;33mDense\u001b[0m)                   │ (\u001b[38;5;45mNone\u001b[0m, \u001b[38;5;34m8\u001b[0m)              │           \u001b[38;5;34m520\u001b[0m │\n",
       "├─────────────────────────────────┼────────────────────────┼───────────────┤\n",
       "│ dense_1 (\u001b[38;5;33mDense\u001b[0m)                 │ (\u001b[38;5;45mNone\u001b[0m, \u001b[38;5;34m1\u001b[0m)              │             \u001b[38;5;34m9\u001b[0m │\n",
       "└─────────────────────────────────┴────────────────────────┴───────────────┘\n"
      ]
     },
     "metadata": {},
     "output_type": "display_data"
    },
    {
     "data": {
      "text/html": [
       "<pre style=\"white-space:pre;overflow-x:auto;line-height:normal;font-family:Menlo,'DejaVu Sans Mono',consolas,'Courier New',monospace\"><span style=\"font-weight: bold\"> Total params: </span><span style=\"color: #00af00; text-decoration-color: #00af00\">17,425</span> (68.07 KB)\n",
       "</pre>\n"
      ],
      "text/plain": [
       "\u001b[1m Total params: \u001b[0m\u001b[38;5;34m17,425\u001b[0m (68.07 KB)\n"
      ]
     },
     "metadata": {},
     "output_type": "display_data"
    },
    {
     "data": {
      "text/html": [
       "<pre style=\"white-space:pre;overflow-x:auto;line-height:normal;font-family:Menlo,'DejaVu Sans Mono',consolas,'Courier New',monospace\"><span style=\"font-weight: bold\"> Trainable params: </span><span style=\"color: #00af00; text-decoration-color: #00af00\">17,425</span> (68.07 KB)\n",
       "</pre>\n"
      ],
      "text/plain": [
       "\u001b[1m Trainable params: \u001b[0m\u001b[38;5;34m17,425\u001b[0m (68.07 KB)\n"
      ]
     },
     "metadata": {},
     "output_type": "display_data"
    },
    {
     "data": {
      "text/html": [
       "<pre style=\"white-space:pre;overflow-x:auto;line-height:normal;font-family:Menlo,'DejaVu Sans Mono',consolas,'Courier New',monospace\"><span style=\"font-weight: bold\"> Non-trainable params: </span><span style=\"color: #00af00; text-decoration-color: #00af00\">0</span> (0.00 B)\n",
       "</pre>\n"
      ],
      "text/plain": [
       "\u001b[1m Non-trainable params: \u001b[0m\u001b[38;5;34m0\u001b[0m (0.00 B)\n"
      ]
     },
     "metadata": {},
     "output_type": "display_data"
    }
   ],
   "source": [
    "model = Sequential()\n",
    "model.add(InputLayer((X_train.shape[1], X_train.shape[2])))\n",
    "model.add(LSTM(64))\n",
    "model.add(Dense(8, 'relu'))\n",
    "model.add(Dense(1, 'linear'))\n",
    "\n",
    "model.summary()"
   ]
  },
  {
   "cell_type": "code",
   "execution_count": 24,
   "metadata": {},
   "outputs": [],
   "source": [
    "model.compile(loss = MeanSquaredError(), optimizer= Adam(learning_rate= 0.001), metrics= [RootMeanSquaredError()])"
   ]
  },
  {
   "cell_type": "code",
   "execution_count": 25,
   "metadata": {},
   "outputs": [
    {
     "name": "stdout",
     "output_type": "stream",
     "text": [
      "Epoch 1/20\n",
      "\u001b[1m12/12\u001b[0m \u001b[32m━━━━━━━━━━━━━━━━━━━━\u001b[0m\u001b[37m\u001b[0m \u001b[1m13s\u001b[0m 375ms/step - loss: 0.1269 - root_mean_squared_error: 0.3545 - val_loss: 0.0189 - val_root_mean_squared_error: 0.1373\n",
      "Epoch 2/20\n",
      "\u001b[1m12/12\u001b[0m \u001b[32m━━━━━━━━━━━━━━━━━━━━\u001b[0m\u001b[37m\u001b[0m \u001b[1m2s\u001b[0m 64ms/step - loss: 0.0264 - root_mean_squared_error: 0.1607 - val_loss: 0.0040 - val_root_mean_squared_error: 0.0630\n",
      "Epoch 3/20\n",
      "\u001b[1m12/12\u001b[0m \u001b[32m━━━━━━━━━━━━━━━━━━━━\u001b[0m\u001b[37m\u001b[0m \u001b[1m1s\u001b[0m 63ms/step - loss: 0.0059 - root_mean_squared_error: 0.0765 - val_loss: 0.0040 - val_root_mean_squared_error: 0.0630\n",
      "Epoch 4/20\n",
      "\u001b[1m12/12\u001b[0m \u001b[32m━━━━━━━━━━━━━━━━━━━━\u001b[0m\u001b[37m\u001b[0m \u001b[1m1s\u001b[0m 66ms/step - loss: 0.0025 - root_mean_squared_error: 0.0500 - val_loss: 0.0015 - val_root_mean_squared_error: 0.0385\n",
      "Epoch 5/20\n",
      "\u001b[1m12/12\u001b[0m \u001b[32m━━━━━━━━━━━━━━━━━━━━\u001b[0m\u001b[37m\u001b[0m \u001b[1m1s\u001b[0m 50ms/step - loss: 0.0019 - root_mean_squared_error: 0.0433 - val_loss: 9.7249e-04 - val_root_mean_squared_error: 0.0312\n",
      "Epoch 6/20\n",
      "\u001b[1m12/12\u001b[0m \u001b[32m━━━━━━━━━━━━━━━━━━━━\u001b[0m\u001b[37m\u001b[0m \u001b[1m1s\u001b[0m 50ms/step - loss: 0.0013 - root_mean_squared_error: 0.0362 - val_loss: 7.9402e-04 - val_root_mean_squared_error: 0.0282\n",
      "Epoch 7/20\n",
      "\u001b[1m12/12\u001b[0m \u001b[32m━━━━━━━━━━━━━━━━━━━━\u001b[0m\u001b[37m\u001b[0m \u001b[1m1s\u001b[0m 49ms/step - loss: 0.0012 - root_mean_squared_error: 0.0350 - val_loss: 8.0946e-04 - val_root_mean_squared_error: 0.0285\n",
      "Epoch 8/20\n",
      "\u001b[1m12/12\u001b[0m \u001b[32m━━━━━━━━━━━━━━━━━━━━\u001b[0m\u001b[37m\u001b[0m \u001b[1m1s\u001b[0m 43ms/step - loss: 0.0011 - root_mean_squared_error: 0.0329 - val_loss: 8.2013e-04 - val_root_mean_squared_error: 0.0286\n",
      "Epoch 9/20\n",
      "\u001b[1m12/12\u001b[0m \u001b[32m━━━━━━━━━━━━━━━━━━━━\u001b[0m\u001b[37m\u001b[0m \u001b[1m1s\u001b[0m 61ms/step - loss: 0.0012 - root_mean_squared_error: 0.0347 - val_loss: 8.9888e-04 - val_root_mean_squared_error: 0.0300\n",
      "Epoch 10/20\n",
      "\u001b[1m12/12\u001b[0m \u001b[32m━━━━━━━━━━━━━━━━━━━━\u001b[0m\u001b[37m\u001b[0m \u001b[1m1s\u001b[0m 79ms/step - loss: 0.0010 - root_mean_squared_error: 0.0324 - val_loss: 9.0924e-04 - val_root_mean_squared_error: 0.0302\n",
      "Epoch 11/20\n",
      "\u001b[1m12/12\u001b[0m \u001b[32m━━━━━━━━━━━━━━━━━━━━\u001b[0m\u001b[37m\u001b[0m \u001b[1m1s\u001b[0m 91ms/step - loss: 0.0010 - root_mean_squared_error: 0.0323 - val_loss: 7.4872e-04 - val_root_mean_squared_error: 0.0274\n",
      "Epoch 12/20\n",
      "\u001b[1m12/12\u001b[0m \u001b[32m━━━━━━━━━━━━━━━━━━━━\u001b[0m\u001b[37m\u001b[0m \u001b[1m1s\u001b[0m 86ms/step - loss: 0.0011 - root_mean_squared_error: 0.0324 - val_loss: 8.9745e-04 - val_root_mean_squared_error: 0.0300\n",
      "Epoch 13/20\n",
      "\u001b[1m12/12\u001b[0m \u001b[32m━━━━━━━━━━━━━━━━━━━━\u001b[0m\u001b[37m\u001b[0m \u001b[1m1s\u001b[0m 100ms/step - loss: 9.9392e-04 - root_mean_squared_error: 0.0315 - val_loss: 8.6253e-04 - val_root_mean_squared_error: 0.0294\n",
      "Epoch 14/20\n",
      "\u001b[1m12/12\u001b[0m \u001b[32m━━━━━━━━━━━━━━━━━━━━\u001b[0m\u001b[37m\u001b[0m \u001b[1m1s\u001b[0m 63ms/step - loss: 9.6775e-04 - root_mean_squared_error: 0.0311 - val_loss: 7.2247e-04 - val_root_mean_squared_error: 0.0269\n",
      "Epoch 15/20\n",
      "\u001b[1m12/12\u001b[0m \u001b[32m━━━━━━━━━━━━━━━━━━━━\u001b[0m\u001b[37m\u001b[0m \u001b[1m2s\u001b[0m 94ms/step - loss: 9.3990e-04 - root_mean_squared_error: 0.0306 - val_loss: 0.0012 - val_root_mean_squared_error: 0.0342\n",
      "Epoch 16/20\n",
      "\u001b[1m12/12\u001b[0m \u001b[32m━━━━━━━━━━━━━━━━━━━━\u001b[0m\u001b[37m\u001b[0m \u001b[1m1s\u001b[0m 67ms/step - loss: 0.0011 - root_mean_squared_error: 0.0324 - val_loss: 9.5695e-04 - val_root_mean_squared_error: 0.0309\n",
      "Epoch 17/20\n",
      "\u001b[1m12/12\u001b[0m \u001b[32m━━━━━━━━━━━━━━━━━━━━\u001b[0m\u001b[37m\u001b[0m \u001b[1m1s\u001b[0m 74ms/step - loss: 8.2040e-04 - root_mean_squared_error: 0.0286 - val_loss: 6.6879e-04 - val_root_mean_squared_error: 0.0259\n",
      "Epoch 18/20\n",
      "\u001b[1m12/12\u001b[0m \u001b[32m━━━━━━━━━━━━━━━━━━━━\u001b[0m\u001b[37m\u001b[0m \u001b[1m1s\u001b[0m 72ms/step - loss: 9.4700e-04 - root_mean_squared_error: 0.0308 - val_loss: 8.4519e-04 - val_root_mean_squared_error: 0.0291\n",
      "Epoch 19/20\n",
      "\u001b[1m12/12\u001b[0m \u001b[32m━━━━━━━━━━━━━━━━━━━━\u001b[0m\u001b[37m\u001b[0m \u001b[1m1s\u001b[0m 54ms/step - loss: 8.0098e-04 - root_mean_squared_error: 0.0283 - val_loss: 7.9892e-04 - val_root_mean_squared_error: 0.0283\n",
      "Epoch 20/20\n",
      "\u001b[1m12/12\u001b[0m \u001b[32m━━━━━━━━━━━━━━━━━━━━\u001b[0m\u001b[37m\u001b[0m \u001b[1m1s\u001b[0m 44ms/step - loss: 7.6071e-04 - root_mean_squared_error: 0.0276 - val_loss: 6.0789e-04 - val_root_mean_squared_error: 0.0247\n"
     ]
    },
    {
     "data": {
      "text/plain": [
       "<keras.src.callbacks.history.History at 0x1f134e76850>"
      ]
     },
     "execution_count": 25,
     "metadata": {},
     "output_type": "execute_result"
    }
   ],
   "source": [
    "model.fit(X_train, y_train, validation_data=(X_val, y_val), epochs=20, batch_size=128) "
   ]
  },
  {
   "cell_type": "code",
   "execution_count": 26,
   "metadata": {},
   "outputs": [
    {
     "name": "stdout",
     "output_type": "stream",
     "text": [
      "\u001b[1m47/47\u001b[0m \u001b[32m━━━━━━━━━━━━━━━━━━━━\u001b[0m\u001b[37m\u001b[0m \u001b[1m4s\u001b[0m 41ms/step\n"
     ]
    },
    {
     "data": {
      "text/plain": [
       "array([0.10749829, 0.10773283, 0.10643294, ..., 0.5719277 , 0.56631386,\n",
       "       0.5591199 ], dtype=float32)"
      ]
     },
     "execution_count": 26,
     "metadata": {},
     "output_type": "execute_result"
    }
   ],
   "source": [
    "train_pred = model.predict(X_train).flatten()\n",
    "train_pred"
   ]
  },
  {
   "cell_type": "code",
   "execution_count": 27,
   "metadata": {},
   "outputs": [
    {
     "data": {
      "text/plain": [
       "((1500,), (1500,))"
      ]
     },
     "execution_count": 27,
     "metadata": {},
     "output_type": "execute_result"
    }
   ],
   "source": [
    "train_pred.shape, y_train.flatten().shape"
   ]
  },
  {
   "cell_type": "code",
   "execution_count": 28,
   "metadata": {},
   "outputs": [
    {
     "data": {
      "text/html": [
       "<div>\n",
       "<style scoped>\n",
       "    .dataframe tbody tr th:only-of-type {\n",
       "        vertical-align: middle;\n",
       "    }\n",
       "\n",
       "    .dataframe tbody tr th {\n",
       "        vertical-align: top;\n",
       "    }\n",
       "\n",
       "    .dataframe thead th {\n",
       "        text-align: right;\n",
       "    }\n",
       "</style>\n",
       "<table border=\"1\" class=\"dataframe\">\n",
       "  <thead>\n",
       "    <tr style=\"text-align: right;\">\n",
       "      <th></th>\n",
       "      <th>Train Pred</th>\n",
       "      <th>Actual</th>\n",
       "    </tr>\n",
       "  </thead>\n",
       "  <tbody>\n",
       "    <tr>\n",
       "      <th>0</th>\n",
       "      <td>0.107498</td>\n",
       "      <td>0.107996</td>\n",
       "    </tr>\n",
       "    <tr>\n",
       "      <th>1</th>\n",
       "      <td>0.107733</td>\n",
       "      <td>0.096337</td>\n",
       "    </tr>\n",
       "    <tr>\n",
       "      <th>2</th>\n",
       "      <td>0.106433</td>\n",
       "      <td>0.088168</td>\n",
       "    </tr>\n",
       "    <tr>\n",
       "      <th>3</th>\n",
       "      <td>0.104146</td>\n",
       "      <td>0.087345</td>\n",
       "    </tr>\n",
       "    <tr>\n",
       "      <th>4</th>\n",
       "      <td>0.101820</td>\n",
       "      <td>0.080594</td>\n",
       "    </tr>\n",
       "    <tr>\n",
       "      <th>...</th>\n",
       "      <td>...</td>\n",
       "      <td>...</td>\n",
       "    </tr>\n",
       "    <tr>\n",
       "      <th>1495</th>\n",
       "      <td>0.590198</td>\n",
       "      <td>0.519497</td>\n",
       "    </tr>\n",
       "    <tr>\n",
       "      <th>1496</th>\n",
       "      <td>0.580174</td>\n",
       "      <td>0.528162</td>\n",
       "    </tr>\n",
       "    <tr>\n",
       "      <th>1497</th>\n",
       "      <td>0.571928</td>\n",
       "      <td>0.543046</td>\n",
       "    </tr>\n",
       "    <tr>\n",
       "      <th>1498</th>\n",
       "      <td>0.566314</td>\n",
       "      <td>0.525418</td>\n",
       "    </tr>\n",
       "    <tr>\n",
       "      <th>1499</th>\n",
       "      <td>0.559120</td>\n",
       "      <td>0.534266</td>\n",
       "    </tr>\n",
       "  </tbody>\n",
       "</table>\n",
       "<p>1500 rows × 2 columns</p>\n",
       "</div>"
      ],
      "text/plain": [
       "      Train Pred    Actual\n",
       "0       0.107498  0.107996\n",
       "1       0.107733  0.096337\n",
       "2       0.106433  0.088168\n",
       "3       0.104146  0.087345\n",
       "4       0.101820  0.080594\n",
       "...          ...       ...\n",
       "1495    0.590198  0.519497\n",
       "1496    0.580174  0.528162\n",
       "1497    0.571928  0.543046\n",
       "1498    0.566314  0.525418\n",
       "1499    0.559120  0.534266\n",
       "\n",
       "[1500 rows x 2 columns]"
      ]
     },
     "execution_count": 28,
     "metadata": {},
     "output_type": "execute_result"
    }
   ],
   "source": [
    "train_result = pd.DataFrame(data= {'Train Pred':train_pred, 'Actual':y_train.flatten()})\n",
    "train_result"
   ]
  },
  {
   "cell_type": "code",
   "execution_count": 29,
   "metadata": {},
   "outputs": [
    {
     "data": {
      "text/plain": [
       "[<matplotlib.lines.Line2D at 0x1f1399ddf90>]"
      ]
     },
     "execution_count": 29,
     "metadata": {},
     "output_type": "execute_result"
    },
    {
     "data": {
      "image/png": "[encoded data removed]",
      "text/plain": [
       "<Figure size 640x480 with 1 Axes>"
      ]
     },
     "metadata": {},
     "output_type": "display_data"
    }
   ],
   "source": [
    "plt.plot(train_result['Train Pred'])\n",
    "plt.plot(train_result['Actual'])"
   ]
  },
  {
   "cell_type": "code",
   "execution_count": 30,
   "metadata": {},
   "outputs": [
    {
     "name": "stdout",
     "output_type": "stream",
     "text": [
      "\u001b[1m10/10\u001b[0m \u001b[32m━━━━━━━━━━━━━━━━━━━━\u001b[0m\u001b[37m\u001b[0m \u001b[1m1s\u001b[0m 19ms/step\n"
     ]
    },
    {
     "data": {
      "text/html": [
       "<div>\n",
       "<style scoped>\n",
       "    .dataframe tbody tr th:only-of-type {\n",
       "        vertical-align: middle;\n",
       "    }\n",
       "\n",
       "    .dataframe tbody tr th {\n",
       "        vertical-align: top;\n",
       "    }\n",
       "\n",
       "    .dataframe thead th {\n",
       "        text-align: right;\n",
       "    }\n",
       "</style>\n",
       "<table border=\"1\" class=\"dataframe\">\n",
       "  <thead>\n",
       "    <tr style=\"text-align: right;\">\n",
       "      <th></th>\n",
       "      <th>Val Pred</th>\n",
       "      <th>Actual</th>\n",
       "    </tr>\n",
       "  </thead>\n",
       "  <tbody>\n",
       "    <tr>\n",
       "      <th>0</th>\n",
       "      <td>0.553974</td>\n",
       "      <td>0.532419</td>\n",
       "    </tr>\n",
       "    <tr>\n",
       "      <th>1</th>\n",
       "      <td>0.549256</td>\n",
       "      <td>0.522289</td>\n",
       "    </tr>\n",
       "    <tr>\n",
       "      <th>2</th>\n",
       "      <td>0.544020</td>\n",
       "      <td>0.538170</td>\n",
       "    </tr>\n",
       "    <tr>\n",
       "      <th>3</th>\n",
       "      <td>0.541496</td>\n",
       "      <td>0.547856</td>\n",
       "    </tr>\n",
       "    <tr>\n",
       "      <th>4</th>\n",
       "      <td>0.540619</td>\n",
       "      <td>0.546019</td>\n",
       "    </tr>\n",
       "    <tr>\n",
       "      <th>...</th>\n",
       "      <td>...</td>\n",
       "      <td>...</td>\n",
       "    </tr>\n",
       "    <tr>\n",
       "      <th>295</th>\n",
       "      <td>0.290974</td>\n",
       "      <td>0.282317</td>\n",
       "    </tr>\n",
       "    <tr>\n",
       "      <th>296</th>\n",
       "      <td>0.290868</td>\n",
       "      <td>0.279517</td>\n",
       "    </tr>\n",
       "    <tr>\n",
       "      <th>297</th>\n",
       "      <td>0.290275</td>\n",
       "      <td>0.286735</td>\n",
       "    </tr>\n",
       "    <tr>\n",
       "      <th>298</th>\n",
       "      <td>0.290496</td>\n",
       "      <td>0.282084</td>\n",
       "    </tr>\n",
       "    <tr>\n",
       "      <th>299</th>\n",
       "      <td>0.290044</td>\n",
       "      <td>0.266044</td>\n",
       "    </tr>\n",
       "  </tbody>\n",
       "</table>\n",
       "<p>300 rows × 2 columns</p>\n",
       "</div>"
      ],
      "text/plain": [
       "     Val Pred    Actual\n",
       "0    0.553974  0.532419\n",
       "1    0.549256  0.522289\n",
       "2    0.544020  0.538170\n",
       "3    0.541496  0.547856\n",
       "4    0.540619  0.546019\n",
       "..        ...       ...\n",
       "295  0.290974  0.282317\n",
       "296  0.290868  0.279517\n",
       "297  0.290275  0.286735\n",
       "298  0.290496  0.282084\n",
       "299  0.290044  0.266044\n",
       "\n",
       "[300 rows x 2 columns]"
      ]
     },
     "execution_count": 30,
     "metadata": {},
     "output_type": "execute_result"
    }
   ],
   "source": [
    "val_pred = model.predict(X_val).flatten()\n",
    "val_result = pd.DataFrame(data= {'Val Pred':val_pred, 'Actual':y_val.flatten()})\n",
    "val_result"
   ]
  },
  {
   "cell_type": "code",
   "execution_count": 31,
   "metadata": {},
   "outputs": [
    {
     "data": {
      "text/plain": [
       "[<matplotlib.lines.Line2D at 0x1f139a74610>]"
      ]
     },
     "execution_count": 31,
     "metadata": {},
     "output_type": "execute_result"
    },
    {
     "data": {
      "image/png": "[encoded data removed]",
      "text/plain": [
       "<Figure size 640x480 with 1 Axes>"
      ]
     },
     "metadata": {},
     "output_type": "display_data"
    }
   ],
   "source": [
    "plt.plot(val_result['Val Pred'], c= 'red')\n",
    "plt.plot(val_result['Actual'], c= 'blue')"
   ]
  },
  {
   "cell_type": "code",
   "execution_count": 32,
   "metadata": {},
   "outputs": [
    {
     "name": "stdout",
     "output_type": "stream",
     "text": [
      "\u001b[1m15/15\u001b[0m \u001b[32m━━━━━━━━━━━━━━━━━━━━\u001b[0m\u001b[37m\u001b[0m \u001b[1m0s\u001b[0m 12ms/step\n"
     ]
    },
    {
     "data": {
      "text/html": [
       "<div>\n",
       "<style scoped>\n",
       "    .dataframe tbody tr th:only-of-type {\n",
       "        vertical-align: middle;\n",
       "    }\n",
       "\n",
       "    .dataframe tbody tr th {\n",
       "        vertical-align: top;\n",
       "    }\n",
       "\n",
       "    .dataframe thead th {\n",
       "        text-align: right;\n",
       "    }\n",
       "</style>\n",
       "<table border=\"1\" class=\"dataframe\">\n",
       "  <thead>\n",
       "    <tr style=\"text-align: right;\">\n",
       "      <th></th>\n",
       "      <th>Test Pred</th>\n",
       "      <th>Actual</th>\n",
       "    </tr>\n",
       "  </thead>\n",
       "  <tbody>\n",
       "    <tr>\n",
       "      <th>0</th>\n",
       "      <td>0.287569</td>\n",
       "      <td>0.263640</td>\n",
       "    </tr>\n",
       "    <tr>\n",
       "      <th>1</th>\n",
       "      <td>0.284892</td>\n",
       "      <td>0.266786</td>\n",
       "    </tr>\n",
       "    <tr>\n",
       "      <th>2</th>\n",
       "      <td>0.282753</td>\n",
       "      <td>0.265602</td>\n",
       "    </tr>\n",
       "    <tr>\n",
       "      <th>3</th>\n",
       "      <td>0.280642</td>\n",
       "      <td>0.265887</td>\n",
       "    </tr>\n",
       "    <tr>\n",
       "      <th>4</th>\n",
       "      <td>0.278782</td>\n",
       "      <td>0.271796</td>\n",
       "    </tr>\n",
       "    <tr>\n",
       "      <th>...</th>\n",
       "      <td>...</td>\n",
       "      <td>...</td>\n",
       "    </tr>\n",
       "    <tr>\n",
       "      <th>473</th>\n",
       "      <td>0.881156</td>\n",
       "      <td>0.931460</td>\n",
       "    </tr>\n",
       "    <tr>\n",
       "      <th>474</th>\n",
       "      <td>0.882081</td>\n",
       "      <td>0.921179</td>\n",
       "    </tr>\n",
       "    <tr>\n",
       "      <th>475</th>\n",
       "      <td>0.881492</td>\n",
       "      <td>0.932445</td>\n",
       "    </tr>\n",
       "    <tr>\n",
       "      <th>476</th>\n",
       "      <td>0.881740</td>\n",
       "      <td>0.919938</td>\n",
       "    </tr>\n",
       "    <tr>\n",
       "      <th>477</th>\n",
       "      <td>0.880082</td>\n",
       "      <td>0.923023</td>\n",
       "    </tr>\n",
       "  </tbody>\n",
       "</table>\n",
       "<p>478 rows × 2 columns</p>\n",
       "</div>"
      ],
      "text/plain": [
       "     Test Pred    Actual\n",
       "0     0.287569  0.263640\n",
       "1     0.284892  0.266786\n",
       "2     0.282753  0.265602\n",
       "3     0.280642  0.265887\n",
       "4     0.278782  0.271796\n",
       "..         ...       ...\n",
       "473   0.881156  0.931460\n",
       "474   0.882081  0.921179\n",
       "475   0.881492  0.932445\n",
       "476   0.881740  0.919938\n",
       "477   0.880082  0.923023\n",
       "\n",
       "[478 rows x 2 columns]"
      ]
     },
     "execution_count": 32,
     "metadata": {},
     "output_type": "execute_result"
    }
   ],
   "source": [
    "test_pred = model.predict(X_test).flatten()\n",
    "test_result = pd.DataFrame(data= {'Test Pred':test_pred, 'Actual':y_test.flatten()})\n",
    "test_result"
   ]
  },
  {
   "cell_type": "code",
   "execution_count": 33,
   "metadata": {},
   "outputs": [
    {
     "data": {
      "text/plain": [
       "[<matplotlib.lines.Line2D at 0x1f139acb490>]"
      ]
     },
     "execution_count": 33,
     "metadata": {},
     "output_type": "execute_result"
    },
    {
     "data": {
      "image/png": "[encoded data removed]",
      "text/plain": [
       "<Figure size 640x480 with 1 Axes>"
      ]
     },
     "metadata": {},
     "output_type": "display_data"
    }
   ],
   "source": [
    "plt.plot(test_result['Test Pred'])\n",
    "plt.plot(test_result['Actual'])"
   ]
  },
  {
   "cell_type": "markdown",
   "metadata": {},
   "source": [
    "## Hyperparameter Tuning"
   ]
  },
  {
   "cell_type": "markdown",
   "metadata": {},
   "source": [
    "### Using Keras tuner"
   ]
  },
  {
   "cell_type": "code",
   "execution_count": 34,
   "metadata": {},
   "outputs": [],
   "source": [
    "import keras_tuner as kt\n",
    "from tensorflow.keras.losses import MeanSquaredError\n",
    "from tensorflow.keras.metrics import RootMeanSquaredError\n",
    "from sklearn.metrics import mean_squared_error\n"
   ]
  },
  {
   "cell_type": "markdown",
   "metadata": {},
   "source": [
    "### Tuning model with 2 lstm layers and 2 Dense layers "
   ]
  },
  {
   "cell_type": "code",
   "execution_count": 35,
   "metadata": {},
   "outputs": [],
   "source": [
    "def build_model(hp):\n",
    "    model = Sequential()\n",
    "    model.add(InputLayer((X_train.shape[1], X_train.shape[2])))\n",
    "    \n",
    "    lstm_units = hp.Choice('lstm_units', values=[32, 64, 128])\n",
    "    model.add(LSTM(lstm_units, return_sequences=True))\n",
    "\n",
    "    dropout_rate = hp.Choice('dropout_rate', values=[0.0, 0.2, 0.4])\n",
    "    model.add(Dropout(dropout_rate))\n",
    "    \n",
    "    model.add(LSTM(lstm_units))\n",
    "    model.add(Dropout(dropout_rate))\n",
    "    \n",
    "    model.add(Dense(8, activation='relu'))\n",
    "    model.add(Dense(1, activation='linear'))\n",
    "    \n",
    "    learning_rate = hp.Choice('learning_rate', values=[0.001, 0.01, 0.1])\n",
    "    model.compile(\n",
    "        loss=MeanSquaredError(),\n",
    "        optimizer=Adam(learning_rate=learning_rate),\n",
    "        metrics=[RootMeanSquaredError()]\n",
    "    )\n",
    "    \n",
    "    return model"
   ]
  },
  {
   "cell_type": "code",
   "execution_count": 36,
   "metadata": {},
   "outputs": [
    {
     "name": "stdout",
     "output_type": "stream",
     "text": [
      "Reloading Tuner from my_dir\\lstm_tuning\\tuner0.json\n"
     ]
    }
   ],
   "source": [
    "tuner = kt.RandomSearch(\n",
    "    build_model,\n",
    "    objective='val_loss',\n",
    "    max_trials= 20,\n",
    "    executions_per_trial=1,\n",
    "    directory='my_dir',\n",
    "    project_name='lstm_tuning'\n",
    ")"
   ]
  },
  {
   "cell_type": "code",
   "execution_count": 37,
   "metadata": {},
   "outputs": [
    {
     "name": "stdout",
     "output_type": "stream",
     "text": [
      "Search space summary\n",
      "Default search space size: 3\n",
      "lstm_units (Choice)\n",
      "{'default': 32, 'conditions': [], 'values': [32, 64, 128], 'ordered': True}\n",
      "dropout_rate (Choice)\n",
      "{'default': 0.0, 'conditions': [], 'values': [0.0, 0.2, 0.4], 'ordered': True}\n",
      "learning_rate (Choice)\n",
      "{'default': 0.001, 'conditions': [], 'values': [0.001, 0.01, 0.1], 'ordered': True}\n"
     ]
    }
   ],
   "source": [
    "tuner.search_space_summary()"
   ]
  },
  {
   "cell_type": "code",
   "execution_count": 38,
   "metadata": {},
   "outputs": [],
   "source": [
    "tuner.search(\n",
    "    X_train, y_train,\n",
    "    epochs=20,  \n",
    "    validation_data=(X_val, y_val),\n",
    "    batch_size=64  \n",
    ")"
   ]
  },
  {
   "cell_type": "code",
   "execution_count": 39,
   "metadata": {},
   "outputs": [
    {
     "name": "stdout",
     "output_type": "stream",
     "text": [
      "WARNING:tensorflow:From c:\\Users\\Ha Tung Lam\\anaconda3\\Lib\\site-packages\\keras\\src\\backend\\common\\global_state.py:82: The name tf.reset_default_graph is deprecated. Please use tf.compat.v1.reset_default_graph instead.\n",
      "\n"
     ]
    },
    {
     "name": "stderr",
     "output_type": "stream",
     "text": [
      "c:\\Users\\Ha Tung Lam\\anaconda3\\Lib\\site-packages\\keras\\src\\saving\\saving_lib.py:576: UserWarning: Skipping variable loading for optimizer 'adam', because it has 2 variables whereas the saved optimizer has 22 variables. \n",
      "  saveable.load_own_variables(weights_store.get(inner_path))\n"
     ]
    },
    {
     "data": {
      "text/plain": [
       "<Sequential name=sequential, built=True>"
      ]
     },
     "execution_count": 39,
     "metadata": {},
     "output_type": "execute_result"
    }
   ],
   "source": [
    "best_model = tuner.get_best_models(num_models=1)[0]\n",
    "best_model"
   ]
  },
  {
   "cell_type": "code",
   "execution_count": 40,
   "metadata": {},
   "outputs": [
    {
     "name": "stdout",
     "output_type": "stream",
     "text": [
      "Results summary\n",
      "Results in my_dir\\lstm_tuning\n",
      "Showing 10 best trials\n",
      "Objective(name=\"val_loss\", direction=\"min\")\n",
      "\n",
      "Trial 10 summary\n",
      "Hyperparameters:\n",
      "lstm_units: 32\n",
      "dropout_rate: 0.0\n",
      "learning_rate: 0.1\n",
      "Score: 0.0001700793218333274\n",
      "\n",
      "Trial 16 summary\n",
      "Hyperparameters:\n",
      "lstm_units: 128\n",
      "dropout_rate: 0.2\n",
      "learning_rate: 0.01\n",
      "Score: 0.0002671511610969901\n",
      "\n",
      "Trial 15 summary\n",
      "Hyperparameters:\n",
      "lstm_units: 32\n",
      "dropout_rate: 0.2\n",
      "learning_rate: 0.01\n",
      "Score: 0.0002815881744027138\n",
      "\n",
      "Trial 04 summary\n",
      "Hyperparameters:\n",
      "lstm_units: 128\n",
      "dropout_rate: 0.0\n",
      "learning_rate: 0.01\n",
      "Score: 0.00030752038583159447\n",
      "\n",
      "Trial 02 summary\n",
      "Hyperparameters:\n",
      "lstm_units: 64\n",
      "dropout_rate: 0.0\n",
      "learning_rate: 0.01\n",
      "Score: 0.00031659824890084565\n",
      "\n",
      "Trial 14 summary\n",
      "Hyperparameters:\n",
      "lstm_units: 64\n",
      "dropout_rate: 0.2\n",
      "learning_rate: 0.01\n",
      "Score: 0.0003505927452351898\n",
      "\n",
      "Trial 18 summary\n",
      "Hyperparameters:\n",
      "lstm_units: 32\n",
      "dropout_rate: 0.0\n",
      "learning_rate: 0.01\n",
      "Score: 0.0003669611760415137\n",
      "\n",
      "Trial 19 summary\n",
      "Hyperparameters:\n",
      "lstm_units: 128\n",
      "dropout_rate: 0.4\n",
      "learning_rate: 0.01\n",
      "Score: 0.00038090560701675713\n",
      "\n",
      "Trial 03 summary\n",
      "Hyperparameters:\n",
      "lstm_units: 32\n",
      "dropout_rate: 0.4\n",
      "learning_rate: 0.01\n",
      "Score: 0.0003955005668103695\n",
      "\n",
      "Trial 05 summary\n",
      "Hyperparameters:\n",
      "lstm_units: 128\n",
      "dropout_rate: 0.0\n",
      "learning_rate: 0.001\n",
      "Score: 0.0004232684732414782\n"
     ]
    }
   ],
   "source": [
    "tuner.results_summary()"
   ]
  },
  {
   "cell_type": "code",
   "execution_count": 41,
   "metadata": {},
   "outputs": [
    {
     "name": "stdout",
     "output_type": "stream",
     "text": [
      "\n",
      "The hyperparameter search is complete. The best hyperparameters are:\n",
      "- lstm_units: 32\n",
      "- dropout_rate: 0.0\n",
      "- learning_rate: 0.1\n",
      "\n"
     ]
    }
   ],
   "source": [
    "best_hps = tuner.get_best_hyperparameters(num_trials=1)[0]\n",
    "print(f\"\"\"\n",
    "The hyperparameter search is complete. The best hyperparameters are:\n",
    "- lstm_units: {best_hps.get('lstm_units')}\n",
    "- dropout_rate: {best_hps.get('dropout_rate')}\n",
    "- learning_rate: {best_hps.get('learning_rate')}\n",
    "\"\"\")"
   ]
  },
  {
   "cell_type": "code",
   "execution_count": 42,
   "metadata": {},
   "outputs": [
    {
     "name": "stdout",
     "output_type": "stream",
     "text": [
      "\u001b[1m15/15\u001b[0m \u001b[32m━━━━━━━━━━━━━━━━━━━━\u001b[0m\u001b[37m\u001b[0m \u001b[1m5s\u001b[0m 193ms/step\n"
     ]
    }
   ],
   "source": [
    "y_test_best_pred = best_model.predict(X_test).flatten()\n",
    "best_test_result = pd.DataFrame(data= {'Test Pred':y_test_best_pred, 'Actual':y_test.flatten()})"
   ]
  },
  {
   "cell_type": "code",
   "execution_count": 43,
   "metadata": {},
   "outputs": [
    {
     "data": {
      "text/html": [
       "<div>\n",
       "<style scoped>\n",
       "    .dataframe tbody tr th:only-of-type {\n",
       "        vertical-align: middle;\n",
       "    }\n",
       "\n",
       "    .dataframe tbody tr th {\n",
       "        vertical-align: top;\n",
       "    }\n",
       "\n",
       "    .dataframe thead th {\n",
       "        text-align: right;\n",
       "    }\n",
       "</style>\n",
       "<table border=\"1\" class=\"dataframe\">\n",
       "  <thead>\n",
       "    <tr style=\"text-align: right;\">\n",
       "      <th></th>\n",
       "      <th>Test Pred</th>\n",
       "      <th>Actual</th>\n",
       "    </tr>\n",
       "  </thead>\n",
       "  <tbody>\n",
       "    <tr>\n",
       "      <th>0</th>\n",
       "      <td>0.267822</td>\n",
       "      <td>0.263640</td>\n",
       "    </tr>\n",
       "    <tr>\n",
       "      <th>1</th>\n",
       "      <td>0.261712</td>\n",
       "      <td>0.266786</td>\n",
       "    </tr>\n",
       "    <tr>\n",
       "      <th>2</th>\n",
       "      <td>0.261103</td>\n",
       "      <td>0.265602</td>\n",
       "    </tr>\n",
       "    <tr>\n",
       "      <th>3</th>\n",
       "      <td>0.260461</td>\n",
       "      <td>0.265887</td>\n",
       "    </tr>\n",
       "    <tr>\n",
       "      <th>4</th>\n",
       "      <td>0.260233</td>\n",
       "      <td>0.271796</td>\n",
       "    </tr>\n",
       "    <tr>\n",
       "      <th>...</th>\n",
       "      <td>...</td>\n",
       "      <td>...</td>\n",
       "    </tr>\n",
       "    <tr>\n",
       "      <th>473</th>\n",
       "      <td>0.868778</td>\n",
       "      <td>0.931460</td>\n",
       "    </tr>\n",
       "    <tr>\n",
       "      <th>474</th>\n",
       "      <td>0.866608</td>\n",
       "      <td>0.921179</td>\n",
       "    </tr>\n",
       "    <tr>\n",
       "      <th>475</th>\n",
       "      <td>0.863147</td>\n",
       "      <td>0.932445</td>\n",
       "    </tr>\n",
       "    <tr>\n",
       "      <th>476</th>\n",
       "      <td>0.864000</td>\n",
       "      <td>0.919938</td>\n",
       "    </tr>\n",
       "    <tr>\n",
       "      <th>477</th>\n",
       "      <td>0.862025</td>\n",
       "      <td>0.923023</td>\n",
       "    </tr>\n",
       "  </tbody>\n",
       "</table>\n",
       "<p>478 rows × 2 columns</p>\n",
       "</div>"
      ],
      "text/plain": [
       "     Test Pred    Actual\n",
       "0     0.267822  0.263640\n",
       "1     0.261712  0.266786\n",
       "2     0.261103  0.265602\n",
       "3     0.260461  0.265887\n",
       "4     0.260233  0.271796\n",
       "..         ...       ...\n",
       "473   0.868778  0.931460\n",
       "474   0.866608  0.921179\n",
       "475   0.863147  0.932445\n",
       "476   0.864000  0.919938\n",
       "477   0.862025  0.923023\n",
       "\n",
       "[478 rows x 2 columns]"
      ]
     },
     "execution_count": 43,
     "metadata": {},
     "output_type": "execute_result"
    }
   ],
   "source": [
    "best_test_result"
   ]
  },
  {
   "cell_type": "markdown",
   "metadata": {},
   "source": [
    "### Evaluation metrics of the model for the test set After tuning "
   ]
  },
  {
   "cell_type": "markdown",
   "metadata": {},
   "source": [
    "- The Root mean squared error of the after tunned model"
   ]
  },
  {
   "cell_type": "code",
   "execution_count": 44,
   "metadata": {},
   "outputs": [
    {
     "data": {
      "text/plain": [
       "0.03117312277395539"
      ]
     },
     "execution_count": 44,
     "metadata": {},
     "output_type": "execute_result"
    }
   ],
   "source": [
    "np.sqrt(mean_squared_error(y_test, y_test_best_pred))"
   ]
  },
  {
   "cell_type": "code",
   "execution_count": 45,
   "metadata": {},
   "outputs": [
    {
     "data": {
      "text/plain": [
       "<matplotlib.legend.Legend at 0x1f139b87a50>"
      ]
     },
     "execution_count": 45,
     "metadata": {},
     "output_type": "execute_result"
    },
    {
     "data": {
      "image/png": "[encoded data removed]",
      "text/plain": [
       "<Figure size 640x480 with 1 Axes>"
      ]
     },
     "metadata": {},
     "output_type": "display_data"
    }
   ],
   "source": [
    "plt.plot(best_test_result['Test Pred'], label='Predicted', color='red')\n",
    "plt.plot(best_test_result['Actual'], label='Actual', color='blue')\n",
    "plt.title('After Tuning')\n",
    "plt.legend(loc='upper left')"
   ]
  },
  {
   "cell_type": "code",
   "execution_count": 48,
   "metadata": {},
   "outputs": [
    {
     "name": "stdout",
     "output_type": "stream",
     "text": [
      "\u001b[1m10/10\u001b[0m \u001b[32m━━━━━━━━━━━━━━━━━━━━\u001b[0m\u001b[37m\u001b[0m \u001b[1m0s\u001b[0m 20ms/step\n"
     ]
    },
    {
     "data": {
      "text/html": [
       "<div>\n",
       "<style scoped>\n",
       "    .dataframe tbody tr th:only-of-type {\n",
       "        vertical-align: middle;\n",
       "    }\n",
       "\n",
       "    .dataframe tbody tr th {\n",
       "        vertical-align: top;\n",
       "    }\n",
       "\n",
       "    .dataframe thead th {\n",
       "        text-align: right;\n",
       "    }\n",
       "</style>\n",
       "<table border=\"1\" class=\"dataframe\">\n",
       "  <thead>\n",
       "    <tr style=\"text-align: right;\">\n",
       "      <th></th>\n",
       "      <th>Val Pred</th>\n",
       "      <th>Actual</th>\n",
       "    </tr>\n",
       "  </thead>\n",
       "  <tbody>\n",
       "    <tr>\n",
       "      <th>0</th>\n",
       "      <td>0.523301</td>\n",
       "      <td>0.532419</td>\n",
       "    </tr>\n",
       "    <tr>\n",
       "      <th>1</th>\n",
       "      <td>0.522505</td>\n",
       "      <td>0.522289</td>\n",
       "    </tr>\n",
       "    <tr>\n",
       "      <th>2</th>\n",
       "      <td>0.516410</td>\n",
       "      <td>0.538170</td>\n",
       "    </tr>\n",
       "    <tr>\n",
       "      <th>3</th>\n",
       "      <td>0.524097</td>\n",
       "      <td>0.547856</td>\n",
       "    </tr>\n",
       "    <tr>\n",
       "      <th>4</th>\n",
       "      <td>0.532784</td>\n",
       "      <td>0.546019</td>\n",
       "    </tr>\n",
       "    <tr>\n",
       "      <th>...</th>\n",
       "      <td>...</td>\n",
       "      <td>...</td>\n",
       "    </tr>\n",
       "    <tr>\n",
       "      <th>295</th>\n",
       "      <td>0.282954</td>\n",
       "      <td>0.282317</td>\n",
       "    </tr>\n",
       "    <tr>\n",
       "      <th>296</th>\n",
       "      <td>0.279339</td>\n",
       "      <td>0.279517</td>\n",
       "    </tr>\n",
       "    <tr>\n",
       "      <th>297</th>\n",
       "      <td>0.276044</td>\n",
       "      <td>0.286735</td>\n",
       "    </tr>\n",
       "    <tr>\n",
       "      <th>298</th>\n",
       "      <td>0.278788</td>\n",
       "      <td>0.282084</td>\n",
       "    </tr>\n",
       "    <tr>\n",
       "      <th>299</th>\n",
       "      <td>0.277710</td>\n",
       "      <td>0.266044</td>\n",
       "    </tr>\n",
       "  </tbody>\n",
       "</table>\n",
       "<p>300 rows × 2 columns</p>\n",
       "</div>"
      ],
      "text/plain": [
       "     Val Pred    Actual\n",
       "0    0.523301  0.532419\n",
       "1    0.522505  0.522289\n",
       "2    0.516410  0.538170\n",
       "3    0.524097  0.547856\n",
       "4    0.532784  0.546019\n",
       "..        ...       ...\n",
       "295  0.282954  0.282317\n",
       "296  0.279339  0.279517\n",
       "297  0.276044  0.286735\n",
       "298  0.278788  0.282084\n",
       "299  0.277710  0.266044\n",
       "\n",
       "[300 rows x 2 columns]"
      ]
     },
     "execution_count": 48,
     "metadata": {},
     "output_type": "execute_result"
    }
   ],
   "source": [
    "val_best_pred = best_model.predict(X_val).flatten()\n",
    "val_best_result = pd.DataFrame(data= {'Val Pred':val_best_pred, 'Actual':y_val.flatten()})\n",
    "val_best_result"
   ]
  },
  {
   "cell_type": "code",
   "execution_count": 49,
   "metadata": {},
   "outputs": [
    {
     "data": {
      "text/plain": [
       "<matplotlib.legend.Legend at 0x1f13a45c810>"
      ]
     },
     "execution_count": 49,
     "metadata": {},
     "output_type": "execute_result"
    },
    {
     "data": {
      "image/png": "[encoded data removed]",
      "text/plain": [
       "<Figure size 640x480 with 1 Axes>"
      ]
     },
     "metadata": {},
     "output_type": "display_data"
    }
   ],
   "source": [
    "plt.plot(val_best_result['Val Pred'], label='Predicted', color='red')\n",
    "plt.plot(val_best_result['Actual'], label='Actual', color='blue')\n",
    "plt.title('Validation set After Tuning')\n",
    "plt.legend(loc='upper left')"
   ]
  },
  {
   "cell_type": "markdown",
   "metadata": {},
   "source": [
    "### Evaluation metrics of the model for the test set Before tuning "
   ]
  },
  {
   "cell_type": "markdown",
   "metadata": {},
   "source": [
    "- The Root mean squared error of the pre-tunned model"
   ]
  },
  {
   "cell_type": "code",
   "execution_count": 46,
   "metadata": {},
   "outputs": [
    {
     "data": {
      "text/plain": [
       "0.036996644953624376"
      ]
     },
     "execution_count": 46,
     "metadata": {},
     "output_type": "execute_result"
    }
   ],
   "source": [
    "np.sqrt(mean_squared_error(y_test, test_pred))"
   ]
  },
  {
   "cell_type": "code",
   "execution_count": 47,
   "metadata": {},
   "outputs": [
    {
     "data": {
      "text/plain": [
       "<matplotlib.legend.Legend at 0x1f13a4259d0>"
      ]
     },
     "execution_count": 47,
     "metadata": {},
     "output_type": "execute_result"
    },
    {
     "data": {
      "image/png": "[encoded data removed]",
      "text/plain": [
       "<Figure size 640x480 with 1 Axes>"
      ]
     },
     "metadata": {},
     "output_type": "display_data"
    }
   ],
   "source": [
    "plt.plot(best_test_result['Test Pred'], label='After tuning', color='green')\n",
    "plt.plot(test_result['Test Pred'], label='Before tuning', color='red')\n",
    "plt.plot(test_result['Actual'], label='Actual', color='blue')\n",
    "plt.title('Comparision')\n",
    "plt.legend(loc='upper left')"
   ]
  },
  {
   "cell_type": "markdown",
   "metadata": {},
   "source": [
    "### Tuning model with 2 lstm layers and 2 Dense layers (with #Epoch, Batch size and Dense units and activation function ) "
   ]
  },
  {
   "cell_type": "code",
   "execution_count": null,
   "metadata": {},
   "outputs": [],
   "source": []
  },
  {
   "cell_type": "markdown",
   "metadata": {},
   "source": [
    "### Tuning model with 1 lstm layers and 2 Dense layers "
   ]
  },
  {
   "cell_type": "code",
   "execution_count": null,
   "metadata": {},
   "outputs": [],
   "source": []
  }
 ],
 "metadata": {
  "kernelspec": {
   "display_name": "base",
   "language": "python",
   "name": "python3"
  },
  "language_info": {
   "codemirror_mode": {
    "name": "ipython",
    "version": 3
   },
   "file_extension": ".py",
   "mimetype": "text/x-python",
   "name": "python",
   "nbconvert_exporter": "python",
   "pygments_lexer": "ipython3",
   "version": "3.11.8"
  }
 },
 "nbformat": 4,
 "nbformat_minor": 2
}
